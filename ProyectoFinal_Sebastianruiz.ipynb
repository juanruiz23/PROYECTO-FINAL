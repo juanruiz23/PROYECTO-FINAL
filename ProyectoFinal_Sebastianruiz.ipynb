{
  "nbformat": 4,
  "nbformat_minor": 0,
  "metadata": {
    "colab": {
      "name": "Proyecto_final.ipynb",
      "provenance": [],
      "collapsed_sections": []
    },
    "kernelspec": {
      "name": "python3",
      "display_name": "Python 3"
    },
    "language_info": {
      "name": "python"
    }
  },
  "cells": [
    {
      "cell_type": "markdown",
      "metadata": {
        "id": "meYB2tqa6OQN"
      },
      "source": [
        "# Proyecto final\n",
        "Juan Sebastián Ruiz Caro"
      ]
    },
    {
      "cell_type": "code",
      "metadata": {
        "id": "X5neuwck7ADF"
      },
      "source": [
        "import pandas as pd\n",
        "import numpy as np\n",
        "import matplotlib.pylab as plt\n",
        "%matplotlib inline\n",
        "plt.rcParams['figure.figsize'] = (16,9)\n",
        "plt.style.use('fast')\n",
        "\n",
        "from keras.models import Sequential\n",
        "from keras.layers import Dense, Activation, Flatten\n",
        "from sklearn.preprocessing import MinMaxScaler"
      ],
      "execution_count": 348,
      "outputs": []
    },
    {
      "cell_type": "code",
      "metadata": {
        "id": "Ig5atvCpLhmA"
      },
      "source": [
        "from datetime import date, time, datetime\n",
        "import matplotlib.pyplot as plt\n",
        "import seaborn as sns"
      ],
      "execution_count": 349,
      "outputs": []
    },
    {
      "cell_type": "code",
      "metadata": {
        "id": "beDyrvEG9FK9"
      },
      "source": [
        "data = pd.read_csv('/content/Casos_Bogota.csv', sep=','  , engine='python', parse_dates=True)"
      ],
      "execution_count": 350,
      "outputs": []
    },
    {
      "cell_type": "code",
      "metadata": {
        "colab": {
          "base_uri": "https://localhost:8080/",
          "height": 382
        },
        "id": "0_WZrU6cC0ej",
        "outputId": "9d7f073c-1026-4c52-f6a2-867cf2d9ae1b"
      },
      "source": [
        "data.head()"
      ],
      "execution_count": 351,
      "outputs": [
        {
          "output_type": "execute_result",
          "data": {
            "text/html": [
              "<div>\n",
              "<style scoped>\n",
              "    .dataframe tbody tr th:only-of-type {\n",
              "        vertical-align: middle;\n",
              "    }\n",
              "\n",
              "    .dataframe tbody tr th {\n",
              "        vertical-align: top;\n",
              "    }\n",
              "\n",
              "    .dataframe thead th {\n",
              "        text-align: right;\n",
              "    }\n",
              "</style>\n",
              "<table border=\"1\" class=\"dataframe\">\n",
              "  <thead>\n",
              "    <tr style=\"text-align: right;\">\n",
              "      <th></th>\n",
              "      <th>fecha reporte web</th>\n",
              "      <th>ID de caso</th>\n",
              "      <th>Fecha de notificación</th>\n",
              "      <th>Código DIVIPOLA departamento</th>\n",
              "      <th>Nombre departamento</th>\n",
              "      <th>Código DIVIPOLA municipio</th>\n",
              "      <th>Nombre municipio</th>\n",
              "      <th>Edad</th>\n",
              "      <th>Unidad de medida de edad</th>\n",
              "      <th>Sexo</th>\n",
              "      <th>Tipo de contagio</th>\n",
              "      <th>Ubicación del caso</th>\n",
              "      <th>Estado</th>\n",
              "      <th>Código ISO del país</th>\n",
              "      <th>Nombre del país</th>\n",
              "      <th>Recuperado</th>\n",
              "      <th>Fecha de inicio de síntomas</th>\n",
              "      <th>Fecha de muerte</th>\n",
              "      <th>Fecha de diagnóstico</th>\n",
              "      <th>Fecha de recuperación</th>\n",
              "      <th>Tipo de recuperación</th>\n",
              "      <th>Pertenencia étnica</th>\n",
              "      <th>Nombre del grupo étnico</th>\n",
              "    </tr>\n",
              "  </thead>\n",
              "  <tbody>\n",
              "    <tr>\n",
              "      <th>0</th>\n",
              "      <td>6/3/2020 0:00:00</td>\n",
              "      <td>1</td>\n",
              "      <td>2/3/2020 0:00:00</td>\n",
              "      <td>11</td>\n",
              "      <td>BOGOTA</td>\n",
              "      <td>11001</td>\n",
              "      <td>BOGOTA</td>\n",
              "      <td>19</td>\n",
              "      <td>1</td>\n",
              "      <td>F</td>\n",
              "      <td>Importado</td>\n",
              "      <td>Casa</td>\n",
              "      <td>Leve</td>\n",
              "      <td>380.0</td>\n",
              "      <td>ITALIA</td>\n",
              "      <td>Recuperado</td>\n",
              "      <td>27/2/2020 0:00:00</td>\n",
              "      <td>NaN</td>\n",
              "      <td>6/3/2020 0:00:00</td>\n",
              "      <td>13/3/2020 0:00:00</td>\n",
              "      <td>PCR</td>\n",
              "      <td>6.0</td>\n",
              "      <td>NaN</td>\n",
              "    </tr>\n",
              "    <tr>\n",
              "      <th>1</th>\n",
              "      <td>11/3/2020 0:00:00</td>\n",
              "      <td>8</td>\n",
              "      <td>9/3/2020 0:00:00</td>\n",
              "      <td>11</td>\n",
              "      <td>BOGOTA</td>\n",
              "      <td>11001</td>\n",
              "      <td>BOGOTA</td>\n",
              "      <td>22</td>\n",
              "      <td>1</td>\n",
              "      <td>F</td>\n",
              "      <td>Importado</td>\n",
              "      <td>Casa</td>\n",
              "      <td>Leve</td>\n",
              "      <td>724.0</td>\n",
              "      <td>ESPAÑA</td>\n",
              "      <td>Recuperado</td>\n",
              "      <td>6/3/2020 0:00:00</td>\n",
              "      <td>NaN</td>\n",
              "      <td>11/3/2020 0:00:00</td>\n",
              "      <td>21/3/2020 0:00:00</td>\n",
              "      <td>PCR</td>\n",
              "      <td>6.0</td>\n",
              "      <td>NaN</td>\n",
              "    </tr>\n",
              "    <tr>\n",
              "      <th>2</th>\n",
              "      <td>11/3/2020 0:00:00</td>\n",
              "      <td>9</td>\n",
              "      <td>8/3/2020 0:00:00</td>\n",
              "      <td>11</td>\n",
              "      <td>BOGOTA</td>\n",
              "      <td>11001</td>\n",
              "      <td>BOGOTA</td>\n",
              "      <td>28</td>\n",
              "      <td>1</td>\n",
              "      <td>F</td>\n",
              "      <td>Importado</td>\n",
              "      <td>Casa</td>\n",
              "      <td>Leve</td>\n",
              "      <td>724.0</td>\n",
              "      <td>ESPAÑA</td>\n",
              "      <td>Recuperado</td>\n",
              "      <td>7/3/2020 0:00:00</td>\n",
              "      <td>NaN</td>\n",
              "      <td>11/3/2020 0:00:00</td>\n",
              "      <td>23/3/2020 0:00:00</td>\n",
              "      <td>PCR</td>\n",
              "      <td>6.0</td>\n",
              "      <td>NaN</td>\n",
              "    </tr>\n",
              "    <tr>\n",
              "      <th>3</th>\n",
              "      <td>12/3/2020 0:00:00</td>\n",
              "      <td>10</td>\n",
              "      <td>12/3/2020 0:00:00</td>\n",
              "      <td>11</td>\n",
              "      <td>BOGOTA</td>\n",
              "      <td>11001</td>\n",
              "      <td>BOGOTA</td>\n",
              "      <td>36</td>\n",
              "      <td>1</td>\n",
              "      <td>F</td>\n",
              "      <td>Importado</td>\n",
              "      <td>Casa</td>\n",
              "      <td>Leve</td>\n",
              "      <td>724.0</td>\n",
              "      <td>ESPAÑA</td>\n",
              "      <td>Recuperado</td>\n",
              "      <td>6/3/2020 0:00:00</td>\n",
              "      <td>NaN</td>\n",
              "      <td>12/3/2020 0:00:00</td>\n",
              "      <td>21/3/2020 0:00:00</td>\n",
              "      <td>PCR</td>\n",
              "      <td>6.0</td>\n",
              "      <td>NaN</td>\n",
              "    </tr>\n",
              "    <tr>\n",
              "      <th>4</th>\n",
              "      <td>12/3/2020 0:00:00</td>\n",
              "      <td>11</td>\n",
              "      <td>11/3/2020 0:00:00</td>\n",
              "      <td>11</td>\n",
              "      <td>BOGOTA</td>\n",
              "      <td>11001</td>\n",
              "      <td>BOGOTA</td>\n",
              "      <td>42</td>\n",
              "      <td>1</td>\n",
              "      <td>F</td>\n",
              "      <td>Importado</td>\n",
              "      <td>Casa</td>\n",
              "      <td>Leve</td>\n",
              "      <td>724.0</td>\n",
              "      <td>ESPAÑA</td>\n",
              "      <td>Recuperado</td>\n",
              "      <td>6/3/2020 0:00:00</td>\n",
              "      <td>NaN</td>\n",
              "      <td>12/3/2020 0:00:00</td>\n",
              "      <td>31/3/2020 0:00:00</td>\n",
              "      <td>PCR</td>\n",
              "      <td>6.0</td>\n",
              "      <td>NaN</td>\n",
              "    </tr>\n",
              "  </tbody>\n",
              "</table>\n",
              "</div>"
            ],
            "text/plain": [
              "   fecha reporte web  ID de caso  ... Pertenencia étnica  Nombre del grupo étnico\n",
              "0   6/3/2020 0:00:00           1  ...                6.0                      NaN\n",
              "1  11/3/2020 0:00:00           8  ...                6.0                      NaN\n",
              "2  11/3/2020 0:00:00           9  ...                6.0                      NaN\n",
              "3  12/3/2020 0:00:00          10  ...                6.0                      NaN\n",
              "4  12/3/2020 0:00:00          11  ...                6.0                      NaN\n",
              "\n",
              "[5 rows x 23 columns]"
            ]
          },
          "metadata": {},
          "execution_count": 351
        }
      ]
    },
    {
      "cell_type": "code",
      "metadata": {
        "colab": {
          "base_uri": "https://localhost:8080/"
        },
        "id": "SFacyIe-C9_g",
        "outputId": "51899013-35e7-4436-a03e-968f18822723"
      },
      "source": [
        "data.columns"
      ],
      "execution_count": 352,
      "outputs": [
        {
          "output_type": "execute_result",
          "data": {
            "text/plain": [
              "Index(['fecha reporte web', 'ID de caso', 'Fecha de notificación',\n",
              "       'Código DIVIPOLA departamento', 'Nombre departamento',\n",
              "       'Código DIVIPOLA municipio', 'Nombre municipio', 'Edad',\n",
              "       'Unidad de medida de edad', 'Sexo', 'Tipo de contagio',\n",
              "       'Ubicación del caso', 'Estado', 'Código ISO del país',\n",
              "       'Nombre del país', 'Recuperado', 'Fecha de inicio de síntomas',\n",
              "       'Fecha de muerte', 'Fecha de diagnóstico', 'Fecha de recuperación',\n",
              "       'Tipo de recuperación', 'Pertenencia étnica',\n",
              "       'Nombre del grupo étnico'],\n",
              "      dtype='object')"
            ]
          },
          "metadata": {},
          "execution_count": 352
        }
      ]
    },
    {
      "cell_type": "code",
      "metadata": {
        "id": "9G-fYTwYC1qM"
      },
      "source": [
        "data_1 = data[data['Nombre departamento'] == 'BOGOTA']"
      ],
      "execution_count": 353,
      "outputs": []
    },
    {
      "cell_type": "markdown",
      "metadata": {
        "id": "-O9SlhR0ObYE"
      },
      "source": [
        "## Análisis exploratorio de datos"
      ]
    },
    {
      "cell_type": "code",
      "metadata": {
        "id": "vYrMKcsgP0jz"
      },
      "source": [
        "Datos = data_1.filter(['Edad', 'Sexo','Tipo de contagio', 'Ubicación del caso', 'Estado'])"
      ],
      "execution_count": 354,
      "outputs": []
    },
    {
      "cell_type": "markdown",
      "metadata": {
        "id": "1Eo5htxBSK97"
      },
      "source": [
        "### Edad\n",
        "En promedio, los contagiados en la ciudad de Bogota tiene una edad de $38.57$ años. El individuo contagiado con menos edad tuvo un año, en contra posición, la persona con mas edad que contrago el virus tiene $114$ años. Ademas, la distribución de las edades presenta asimetria positiva, es decir, es mas frecuente encontrar dentro de los contagiados personas con edades entre los $20$ y $40$ años."
      ]
    },
    {
      "cell_type": "code",
      "metadata": {
        "colab": {
          "base_uri": "https://localhost:8080/",
          "height": 300
        },
        "id": "1oePx8cZQl5k",
        "outputId": "eae4606e-1da9-4aff-a0ef-cdcc7e0e977f"
      },
      "source": [
        "pd.DataFrame(Datos['Edad'].describe().round(2))"
      ],
      "execution_count": 355,
      "outputs": [
        {
          "output_type": "execute_result",
          "data": {
            "text/html": [
              "<div>\n",
              "<style scoped>\n",
              "    .dataframe tbody tr th:only-of-type {\n",
              "        vertical-align: middle;\n",
              "    }\n",
              "\n",
              "    .dataframe tbody tr th {\n",
              "        vertical-align: top;\n",
              "    }\n",
              "\n",
              "    .dataframe thead th {\n",
              "        text-align: right;\n",
              "    }\n",
              "</style>\n",
              "<table border=\"1\" class=\"dataframe\">\n",
              "  <thead>\n",
              "    <tr style=\"text-align: right;\">\n",
              "      <th></th>\n",
              "      <th>Edad</th>\n",
              "    </tr>\n",
              "  </thead>\n",
              "  <tbody>\n",
              "    <tr>\n",
              "      <th>count</th>\n",
              "      <td>1460569.00</td>\n",
              "    </tr>\n",
              "    <tr>\n",
              "      <th>mean</th>\n",
              "      <td>38.57</td>\n",
              "    </tr>\n",
              "    <tr>\n",
              "      <th>std</th>\n",
              "      <td>17.65</td>\n",
              "    </tr>\n",
              "    <tr>\n",
              "      <th>min</th>\n",
              "      <td>1.00</td>\n",
              "    </tr>\n",
              "    <tr>\n",
              "      <th>25%</th>\n",
              "      <td>26.00</td>\n",
              "    </tr>\n",
              "    <tr>\n",
              "      <th>50%</th>\n",
              "      <td>36.00</td>\n",
              "    </tr>\n",
              "    <tr>\n",
              "      <th>75%</th>\n",
              "      <td>51.00</td>\n",
              "    </tr>\n",
              "    <tr>\n",
              "      <th>max</th>\n",
              "      <td>114.00</td>\n",
              "    </tr>\n",
              "  </tbody>\n",
              "</table>\n",
              "</div>"
            ],
            "text/plain": [
              "             Edad\n",
              "count  1460569.00\n",
              "mean        38.57\n",
              "std         17.65\n",
              "min          1.00\n",
              "25%         26.00\n",
              "50%         36.00\n",
              "75%         51.00\n",
              "max        114.00"
            ]
          },
          "metadata": {},
          "execution_count": 355
        }
      ]
    },
    {
      "cell_type": "code",
      "metadata": {
        "colab": {
          "base_uri": "https://localhost:8080/",
          "height": 626
        },
        "id": "7uDCTHVxRCF6",
        "outputId": "92610aac-3c29-43d3-941d-b09ce9332080"
      },
      "source": [
        "sns.distplot(Datos['Edad'])"
      ],
      "execution_count": 356,
      "outputs": [
        {
          "output_type": "stream",
          "name": "stderr",
          "text": [
            "/usr/local/lib/python3.7/dist-packages/seaborn/distributions.py:2619: FutureWarning: `distplot` is a deprecated function and will be removed in a future version. Please adapt your code to use either `displot` (a figure-level function with similar flexibility) or `histplot` (an axes-level function for histograms).\n",
            "  warnings.warn(msg, FutureWarning)\n"
          ]
        },
        {
          "output_type": "execute_result",
          "data": {
            "text/plain": [
              "<matplotlib.axes._subplots.AxesSubplot at 0x7f32620ea3d0>"
            ]
          },
          "metadata": {},
          "execution_count": 356
        },
        {
          "output_type": "display_data",
          "data": {
            "image/png": "[encoded data removed]",
            "text/plain": [
              "<Figure size 1152x648 with 1 Axes>"
            ]
          },
          "metadata": {
            "needs_background": "light"
          }
        }
      ]
    },
    {
      "cell_type": "markdown",
      "metadata": {
        "id": "_N0xqBfnTkH2"
      },
      "source": [
        "### Sexo\n",
        "En cuanto al sexo de los contagiados en la ciudad de Bogotá, observamos que se presenta de manera similar tanto en el sexo masculino como femenino, aunque levemente se presenta un poco mas en el sexo femenino con un $53.454$% de los casos."
      ]
    },
    {
      "cell_type": "code",
      "metadata": {
        "id": "gm1GjiguFcTK",
        "colab": {
          "base_uri": "https://localhost:8080/",
          "height": 174
        },
        "outputId": "f1d78e19-7386-4356-ff6b-08f315d91d96"
      },
      "source": [
        "pd.DataFrame(round(100*Datos['Sexo'].value_counts()/Datos['Sexo'].value_counts().sum(),3))"
      ],
      "execution_count": 357,
      "outputs": [
        {
          "output_type": "execute_result",
          "data": {
            "text/html": [
              "<div>\n",
              "<style scoped>\n",
              "    .dataframe tbody tr th:only-of-type {\n",
              "        vertical-align: middle;\n",
              "    }\n",
              "\n",
              "    .dataframe tbody tr th {\n",
              "        vertical-align: top;\n",
              "    }\n",
              "\n",
              "    .dataframe thead th {\n",
              "        text-align: right;\n",
              "    }\n",
              "</style>\n",
              "<table border=\"1\" class=\"dataframe\">\n",
              "  <thead>\n",
              "    <tr style=\"text-align: right;\">\n",
              "      <th></th>\n",
              "      <th>Sexo</th>\n",
              "    </tr>\n",
              "  </thead>\n",
              "  <tbody>\n",
              "    <tr>\n",
              "      <th>F</th>\n",
              "      <td>53.454</td>\n",
              "    </tr>\n",
              "    <tr>\n",
              "      <th>M</th>\n",
              "      <td>46.545</td>\n",
              "    </tr>\n",
              "    <tr>\n",
              "      <th>m</th>\n",
              "      <td>0.000</td>\n",
              "    </tr>\n",
              "    <tr>\n",
              "      <th>f</th>\n",
              "      <td>0.000</td>\n",
              "    </tr>\n",
              "  </tbody>\n",
              "</table>\n",
              "</div>"
            ],
            "text/plain": [
              "     Sexo\n",
              "F  53.454\n",
              "M  46.545\n",
              "m   0.000\n",
              "f   0.000"
            ]
          },
          "metadata": {},
          "execution_count": 357
        }
      ]
    },
    {
      "cell_type": "code",
      "metadata": {
        "id": "xJx_tGgAFbTw",
        "colab": {
          "base_uri": "https://localhost:8080/",
          "height": 566
        },
        "outputId": "278cd82b-ea79-41de-df8f-044680e92e82"
      },
      "source": [
        "plt.bar(['Femenino', 'Masculino'], [427154 + 3 , 377545 + 2], color = ['orange','green'])\n",
        "plt.title('Sexo de los contagiados en la ciudad de Bogotá')\n",
        "plt.xlabel('Sexo')\n",
        "plt.ylabel('Frecuencia')\n",
        "plt.show()"
      ],
      "execution_count": 358,
      "outputs": [
        {
          "output_type": "display_data",
          "data": {
            "image/png": "[encoded data removed]",
            "text/plain": [
              "<Figure size 1152x648 with 1 Axes>"
            ]
          },
          "metadata": {
            "needs_background": "light"
          }
        }
      ]
    },
    {
      "cell_type": "markdown",
      "metadata": {
        "id": "txgg5UwNU5xD"
      },
      "source": [
        "### Tipo de contagio\n",
        "\n",
        "El tipo de contagio mas frecuente dentro de los contagiados es en estudio con un $48.47$%, lo que quiere decir que en una parte importante, se desconoce el tipo de contagio de los que contraen el virus, seguido de relacionado con un $36.14$%, unicamente el $0.06$% de los casos son importados."
      ]
    },
    {
      "cell_type": "code",
      "metadata": {
        "colab": {
          "base_uri": "https://localhost:8080/"
        },
        "id": "YYiYzr5NU7Aa",
        "outputId": "31eb7bff-1d3a-4261-933f-5d3ac20efa01"
      },
      "source": [
        "Datos['Tipo de contagio'].value_counts()"
      ],
      "execution_count": 359,
      "outputs": [
        {
          "output_type": "execute_result",
          "data": {
            "text/plain": [
              "En estudio     708003\n",
              "Relacionado    527806\n",
              "Comunitaria    223821\n",
              "Importado         939\n",
              "Name: Tipo de contagio, dtype: int64"
            ]
          },
          "metadata": {},
          "execution_count": 359
        }
      ]
    },
    {
      "cell_type": "code",
      "metadata": {
        "colab": {
          "base_uri": "https://localhost:8080/"
        },
        "id": "0MnH3EGsWbI6",
        "outputId": "c4a0f389-90f6-401d-f341-5937e0e620de"
      },
      "source": [
        "round(100*Datos['Tipo de contagio'].value_counts()/Datos['Tipo de contagio'].value_counts().sum(),2)"
      ],
      "execution_count": 360,
      "outputs": [
        {
          "output_type": "execute_result",
          "data": {
            "text/plain": [
              "En estudio     48.47\n",
              "Relacionado    36.14\n",
              "Comunitaria    15.32\n",
              "Importado       0.06\n",
              "Name: Tipo de contagio, dtype: float64"
            ]
          },
          "metadata": {},
          "execution_count": 360
        }
      ]
    },
    {
      "cell_type": "code",
      "metadata": {
        "colab": {
          "base_uri": "https://localhost:8080/",
          "height": 566
        },
        "id": "bCNqt5HEU__4",
        "outputId": "26f6a3f5-beee-46fc-d9ed-0aff6a6b1b8c"
      },
      "source": [
        "plt.bar(['En estudio','Relacionado',, 'Comunitaria', 'Importado '], [708003, 527806, 223821,939 ])\n",
        "plt.title('Tipo de contagio en la ciudad de Bogotá')\n",
        "plt.xlabel('Tipo de contagio')\n",
        "plt.ylabel('Frecuencia')\n",
        "plt.show()"
      ],
      "execution_count": 361,
      "outputs": [
        {
          "output_type": "display_data",
          "data": {
            "image/png": "[encoded data removed]",
            "text/plain": [
              "<Figure size 1152x648 with 1 Axes>"
            ]
          },
          "metadata": {
            "needs_background": "light"
          }
        }
      ]
    },
    {
      "cell_type": "markdown",
      "metadata": {
        "id": "k3xGGKKKXDCA"
      },
      "source": [
        "### Ubicación del caso\n",
        "\n",
        "De los casos registrados, el $98.08$% se encuentran en su casa, $1.9$% fallecieron, unicamente el $0.01$% se encuentra en UCI.\n"
      ]
    },
    {
      "cell_type": "code",
      "metadata": {
        "colab": {
          "base_uri": "https://localhost:8080/",
          "height": 206
        },
        "id": "ZPmOjhSuWxKx",
        "outputId": "c1f272a8-d728-485a-8e97-0b9a3a44ce7f"
      },
      "source": [
        "pd.DataFrame(round(100*Datos['Ubicación del caso'].value_counts()/Datos['Ubicación del caso'].value_counts().sum(),2))"
      ],
      "execution_count": 362,
      "outputs": [
        {
          "output_type": "execute_result",
          "data": {
            "text/html": [
              "<div>\n",
              "<style scoped>\n",
              "    .dataframe tbody tr th:only-of-type {\n",
              "        vertical-align: middle;\n",
              "    }\n",
              "\n",
              "    .dataframe tbody tr th {\n",
              "        vertical-align: top;\n",
              "    }\n",
              "\n",
              "    .dataframe thead th {\n",
              "        text-align: right;\n",
              "    }\n",
              "</style>\n",
              "<table border=\"1\" class=\"dataframe\">\n",
              "  <thead>\n",
              "    <tr style=\"text-align: right;\">\n",
              "      <th></th>\n",
              "      <th>Ubicación del caso</th>\n",
              "    </tr>\n",
              "  </thead>\n",
              "  <tbody>\n",
              "    <tr>\n",
              "      <th>Casa</th>\n",
              "      <td>98.04</td>\n",
              "    </tr>\n",
              "    <tr>\n",
              "      <th>Fallecido</th>\n",
              "      <td>1.90</td>\n",
              "    </tr>\n",
              "    <tr>\n",
              "      <th>casa</th>\n",
              "      <td>0.04</td>\n",
              "    </tr>\n",
              "    <tr>\n",
              "      <th>Hospital</th>\n",
              "      <td>0.01</td>\n",
              "    </tr>\n",
              "    <tr>\n",
              "      <th>Hospital UCI</th>\n",
              "      <td>0.01</td>\n",
              "    </tr>\n",
              "  </tbody>\n",
              "</table>\n",
              "</div>"
            ],
            "text/plain": [
              "              Ubicación del caso\n",
              "Casa                       98.04\n",
              "Fallecido                   1.90\n",
              "casa                        0.04\n",
              "Hospital                    0.01\n",
              "Hospital UCI                0.01"
            ]
          },
          "metadata": {},
          "execution_count": 362
        }
      ]
    },
    {
      "cell_type": "code",
      "metadata": {
        "colab": {
          "base_uri": "https://localhost:8080/"
        },
        "id": "38Pwj11WZw5d",
        "outputId": "5d9df059-3c8e-487f-f554-6f9a2caae313"
      },
      "source": [
        "Datos['Ubicación del caso'].value_counts()"
      ],
      "execution_count": 363,
      "outputs": [
        {
          "output_type": "execute_result",
          "data": {
            "text/plain": [
              "Casa            1427285\n",
              "Fallecido         27718\n",
              "casa                558\n",
              "Hospital            111\n",
              "Hospital UCI         93\n",
              "Name: Ubicación del caso, dtype: int64"
            ]
          },
          "metadata": {},
          "execution_count": 363
        }
      ]
    },
    {
      "cell_type": "code",
      "metadata": {
        "colab": {
          "base_uri": "https://localhost:8080/"
        },
        "id": "TCRb2ECmEBwX",
        "outputId": "db4df9d2-0696-41f1-ce20-b1903dd881f6"
      },
      "source": [
        "Datos['Ubicación del caso'].value_counts()"
      ],
      "execution_count": 364,
      "outputs": [
        {
          "output_type": "execute_result",
          "data": {
            "text/plain": [
              "Casa            1427285\n",
              "Fallecido         27718\n",
              "casa                558\n",
              "Hospital            111\n",
              "Hospital UCI         93\n",
              "Name: Ubicación del caso, dtype: int64"
            ]
          },
          "metadata": {},
          "execution_count": 364
        }
      ]
    },
    {
      "cell_type": "code",
      "metadata": {
        "colab": {
          "base_uri": "https://localhost:8080/",
          "height": 566
        },
        "id": "gfZ9h6ZLZdTP",
        "outputId": "147e86ff-839c-40b1-8778-8208c2ed5a09"
      },
      "source": [
        "plt.bar(['Casa', 'Fallecido', 'Hospital', 'Hospital UCI' ], [1427285+558,27718,111,93])\n",
        "plt.title('Ubicación del caso la ciudad de Bogotá')\n",
        "plt.xlabel('Ubicación del caso')\n",
        "plt.ylabel('Frecuencia')\n",
        "plt.show()"
      ],
      "execution_count": 365,
      "outputs": [
        {
          "output_type": "display_data",
          "data": {
            "image/png": "[encoded data removed]",
            "text/plain": [
              "<Figure size 1152x648 with 1 Axes>"
            ]
          },
          "metadata": {
            "needs_background": "light"
          }
        }
      ]
    },
    {
      "cell_type": "code",
      "metadata": {
        "id": "WJjotXBtNIZ8"
      },
      "source": [
        "Casos = data_1['fecha reporte web']"
      ],
      "execution_count": 366,
      "outputs": []
    },
    {
      "cell_type": "code",
      "metadata": {
        "id": "54DgzMl6NvLG"
      },
      "source": [
        "Casos = Casos.str[:-7]"
      ],
      "execution_count": 367,
      "outputs": []
    },
    {
      "cell_type": "code",
      "metadata": {
        "colab": {
          "base_uri": "https://localhost:8080/",
          "height": 454
        },
        "id": "meNbYOZLNSYX",
        "outputId": "0b23a0d8-1d2d-4b89-b1ee-3a3aea122b4d"
      },
      "source": [
        "Casos = pd.DataFrame(Casos) \n",
        "Casos = pd.DataFrame(Casos.value_counts()) ; Casos"
      ],
      "execution_count": 368,
      "outputs": [
        {
          "output_type": "execute_result",
          "data": {
            "text/html": [
              "<div>\n",
              "<style scoped>\n",
              "    .dataframe tbody tr th:only-of-type {\n",
              "        vertical-align: middle;\n",
              "    }\n",
              "\n",
              "    .dataframe tbody tr th {\n",
              "        vertical-align: top;\n",
              "    }\n",
              "\n",
              "    .dataframe thead th {\n",
              "        text-align: right;\n",
              "    }\n",
              "</style>\n",
              "<table border=\"1\" class=\"dataframe\">\n",
              "  <thead>\n",
              "    <tr style=\"text-align: right;\">\n",
              "      <th></th>\n",
              "      <th>0</th>\n",
              "    </tr>\n",
              "    <tr>\n",
              "      <th>fecha reporte web</th>\n",
              "      <th></th>\n",
              "    </tr>\n",
              "  </thead>\n",
              "  <tbody>\n",
              "    <tr>\n",
              "      <th>24/6/2021</th>\n",
              "      <td>15569</td>\n",
              "    </tr>\n",
              "    <tr>\n",
              "      <th>17/6/2021</th>\n",
              "      <td>12493</td>\n",
              "    </tr>\n",
              "    <tr>\n",
              "      <th>19/6/2021</th>\n",
              "      <td>11729</td>\n",
              "    </tr>\n",
              "    <tr>\n",
              "      <th>1/7/2021</th>\n",
              "      <td>11545</td>\n",
              "    </tr>\n",
              "    <tr>\n",
              "      <th>30/6/2021</th>\n",
              "      <td>11493</td>\n",
              "    </tr>\n",
              "    <tr>\n",
              "      <th>...</th>\n",
              "      <td>...</td>\n",
              "    </tr>\n",
              "    <tr>\n",
              "      <th>22/3/2020</th>\n",
              "      <td>4</td>\n",
              "    </tr>\n",
              "    <tr>\n",
              "      <th>12/3/2020</th>\n",
              "      <td>2</td>\n",
              "    </tr>\n",
              "    <tr>\n",
              "      <th>11/3/2020</th>\n",
              "      <td>2</td>\n",
              "    </tr>\n",
              "    <tr>\n",
              "      <th>13/3/2020</th>\n",
              "      <td>1</td>\n",
              "    </tr>\n",
              "    <tr>\n",
              "      <th>6/3/2020</th>\n",
              "      <td>1</td>\n",
              "    </tr>\n",
              "  </tbody>\n",
              "</table>\n",
              "<p>623 rows × 1 columns</p>\n",
              "</div>"
            ],
            "text/plain": [
              "                       0\n",
              "fecha reporte web       \n",
              "24/6/2021          15569\n",
              "17/6/2021          12493\n",
              "19/6/2021          11729\n",
              "1/7/2021           11545\n",
              "30/6/2021          11493\n",
              "...                  ...\n",
              "22/3/2020              4\n",
              "12/3/2020              2\n",
              "11/3/2020              2\n",
              "13/3/2020              1\n",
              "6/3/2020               1\n",
              "\n",
              "[623 rows x 1 columns]"
            ]
          },
          "metadata": {},
          "execution_count": 368
        }
      ]
    },
    {
      "cell_type": "code",
      "metadata": {
        "colab": {
          "base_uri": "https://localhost:8080/",
          "height": 423
        },
        "id": "eEGWizjxQfLE",
        "outputId": "4dfcff3c-c9f4-4515-e2c2-26507b1a4d2a"
      },
      "source": [
        "Casos = Casos.rename_axis(['0']).reset_index() ; Casos"
      ],
      "execution_count": 369,
      "outputs": [
        {
          "output_type": "execute_result",
          "data": {
            "text/html": [
              "<div>\n",
              "<style scoped>\n",
              "    .dataframe tbody tr th:only-of-type {\n",
              "        vertical-align: middle;\n",
              "    }\n",
              "\n",
              "    .dataframe tbody tr th {\n",
              "        vertical-align: top;\n",
              "    }\n",
              "\n",
              "    .dataframe thead th {\n",
              "        text-align: right;\n",
              "    }\n",
              "</style>\n",
              "<table border=\"1\" class=\"dataframe\">\n",
              "  <thead>\n",
              "    <tr style=\"text-align: right;\">\n",
              "      <th></th>\n",
              "      <th>0</th>\n",
              "      <th>0</th>\n",
              "    </tr>\n",
              "  </thead>\n",
              "  <tbody>\n",
              "    <tr>\n",
              "      <th>0</th>\n",
              "      <td>24/6/2021</td>\n",
              "      <td>15569</td>\n",
              "    </tr>\n",
              "    <tr>\n",
              "      <th>1</th>\n",
              "      <td>17/6/2021</td>\n",
              "      <td>12493</td>\n",
              "    </tr>\n",
              "    <tr>\n",
              "      <th>2</th>\n",
              "      <td>19/6/2021</td>\n",
              "      <td>11729</td>\n",
              "    </tr>\n",
              "    <tr>\n",
              "      <th>3</th>\n",
              "      <td>1/7/2021</td>\n",
              "      <td>11545</td>\n",
              "    </tr>\n",
              "    <tr>\n",
              "      <th>4</th>\n",
              "      <td>30/6/2021</td>\n",
              "      <td>11493</td>\n",
              "    </tr>\n",
              "    <tr>\n",
              "      <th>...</th>\n",
              "      <td>...</td>\n",
              "      <td>...</td>\n",
              "    </tr>\n",
              "    <tr>\n",
              "      <th>618</th>\n",
              "      <td>22/3/2020</td>\n",
              "      <td>4</td>\n",
              "    </tr>\n",
              "    <tr>\n",
              "      <th>619</th>\n",
              "      <td>12/3/2020</td>\n",
              "      <td>2</td>\n",
              "    </tr>\n",
              "    <tr>\n",
              "      <th>620</th>\n",
              "      <td>11/3/2020</td>\n",
              "      <td>2</td>\n",
              "    </tr>\n",
              "    <tr>\n",
              "      <th>621</th>\n",
              "      <td>13/3/2020</td>\n",
              "      <td>1</td>\n",
              "    </tr>\n",
              "    <tr>\n",
              "      <th>622</th>\n",
              "      <td>6/3/2020</td>\n",
              "      <td>1</td>\n",
              "    </tr>\n",
              "  </tbody>\n",
              "</table>\n",
              "<p>623 rows × 2 columns</p>\n",
              "</div>"
            ],
            "text/plain": [
              "              0      0\n",
              "0    24/6/2021   15569\n",
              "1    17/6/2021   12493\n",
              "2    19/6/2021   11729\n",
              "3     1/7/2021   11545\n",
              "4    30/6/2021   11493\n",
              "..          ...    ...\n",
              "618  22/3/2020       4\n",
              "619  12/3/2020       2\n",
              "620  11/3/2020       2\n",
              "621  13/3/2020       1\n",
              "622   6/3/2020       1\n",
              "\n",
              "[623 rows x 2 columns]"
            ]
          },
          "metadata": {},
          "execution_count": 369
        }
      ]
    },
    {
      "cell_type": "code",
      "metadata": {
        "id": "lZj5QP3TY2uQ"
      },
      "source": [
        "Casos.columns = ['Fecha', 'f']"
      ],
      "execution_count": 370,
      "outputs": []
    },
    {
      "cell_type": "code",
      "metadata": {
        "colab": {
          "base_uri": "https://localhost:8080/",
          "height": 423
        },
        "id": "4J3M2C5gaOJk",
        "outputId": "105c7ead-357d-4943-c364-02121a0b6155"
      },
      "source": [
        "Casos['Fecha'] = Casos['Fecha'].replace(['1', '2', '3', '4', '5', '6', '7', '8', '9'],['01', '02', '03', '04', '05', '06', '07', '08', '09']) ; Casos"
      ],
      "execution_count": 371,
      "outputs": [
        {
          "output_type": "execute_result",
          "data": {
            "text/html": [
              "<div>\n",
              "<style scoped>\n",
              "    .dataframe tbody tr th:only-of-type {\n",
              "        vertical-align: middle;\n",
              "    }\n",
              "\n",
              "    .dataframe tbody tr th {\n",
              "        vertical-align: top;\n",
              "    }\n",
              "\n",
              "    .dataframe thead th {\n",
              "        text-align: right;\n",
              "    }\n",
              "</style>\n",
              "<table border=\"1\" class=\"dataframe\">\n",
              "  <thead>\n",
              "    <tr style=\"text-align: right;\">\n",
              "      <th></th>\n",
              "      <th>Fecha</th>\n",
              "      <th>f</th>\n",
              "    </tr>\n",
              "  </thead>\n",
              "  <tbody>\n",
              "    <tr>\n",
              "      <th>0</th>\n",
              "      <td>24/6/2021</td>\n",
              "      <td>15569</td>\n",
              "    </tr>\n",
              "    <tr>\n",
              "      <th>1</th>\n",
              "      <td>17/6/2021</td>\n",
              "      <td>12493</td>\n",
              "    </tr>\n",
              "    <tr>\n",
              "      <th>2</th>\n",
              "      <td>19/6/2021</td>\n",
              "      <td>11729</td>\n",
              "    </tr>\n",
              "    <tr>\n",
              "      <th>3</th>\n",
              "      <td>1/7/2021</td>\n",
              "      <td>11545</td>\n",
              "    </tr>\n",
              "    <tr>\n",
              "      <th>4</th>\n",
              "      <td>30/6/2021</td>\n",
              "      <td>11493</td>\n",
              "    </tr>\n",
              "    <tr>\n",
              "      <th>...</th>\n",
              "      <td>...</td>\n",
              "      <td>...</td>\n",
              "    </tr>\n",
              "    <tr>\n",
              "      <th>618</th>\n",
              "      <td>22/3/2020</td>\n",
              "      <td>4</td>\n",
              "    </tr>\n",
              "    <tr>\n",
              "      <th>619</th>\n",
              "      <td>12/3/2020</td>\n",
              "      <td>2</td>\n",
              "    </tr>\n",
              "    <tr>\n",
              "      <th>620</th>\n",
              "      <td>11/3/2020</td>\n",
              "      <td>2</td>\n",
              "    </tr>\n",
              "    <tr>\n",
              "      <th>621</th>\n",
              "      <td>13/3/2020</td>\n",
              "      <td>1</td>\n",
              "    </tr>\n",
              "    <tr>\n",
              "      <th>622</th>\n",
              "      <td>6/3/2020</td>\n",
              "      <td>1</td>\n",
              "    </tr>\n",
              "  </tbody>\n",
              "</table>\n",
              "<p>623 rows × 2 columns</p>\n",
              "</div>"
            ],
            "text/plain": [
              "          Fecha      f\n",
              "0    24/6/2021   15569\n",
              "1    17/6/2021   12493\n",
              "2    19/6/2021   11729\n",
              "3     1/7/2021   11545\n",
              "4    30/6/2021   11493\n",
              "..          ...    ...\n",
              "618  22/3/2020       4\n",
              "619  12/3/2020       2\n",
              "620  11/3/2020       2\n",
              "621  13/3/2020       1\n",
              "622   6/3/2020       1\n",
              "\n",
              "[623 rows x 2 columns]"
            ]
          },
          "metadata": {},
          "execution_count": 371
        }
      ]
    },
    {
      "cell_type": "code",
      "metadata": {
        "colab": {
          "base_uri": "https://localhost:8080/",
          "height": 423
        },
        "id": "4S7YTm8daQUh",
        "outputId": "5b8115c3-7260-4f31-8018-8396b11908b8"
      },
      "source": [
        "Fecha_1 = Casos['Fecha'].str.split('/', expand = True)\n",
        "Fecha_1.columns = ['Dia', 'Mes', 'Año'] ; Fecha_1"
      ],
      "execution_count": 372,
      "outputs": [
        {
          "output_type": "execute_result",
          "data": {
            "text/html": [
              "<div>\n",
              "<style scoped>\n",
              "    .dataframe tbody tr th:only-of-type {\n",
              "        vertical-align: middle;\n",
              "    }\n",
              "\n",
              "    .dataframe tbody tr th {\n",
              "        vertical-align: top;\n",
              "    }\n",
              "\n",
              "    .dataframe thead th {\n",
              "        text-align: right;\n",
              "    }\n",
              "</style>\n",
              "<table border=\"1\" class=\"dataframe\">\n",
              "  <thead>\n",
              "    <tr style=\"text-align: right;\">\n",
              "      <th></th>\n",
              "      <th>Dia</th>\n",
              "      <th>Mes</th>\n",
              "      <th>Año</th>\n",
              "    </tr>\n",
              "  </thead>\n",
              "  <tbody>\n",
              "    <tr>\n",
              "      <th>0</th>\n",
              "      <td>24</td>\n",
              "      <td>6</td>\n",
              "      <td>2021</td>\n",
              "    </tr>\n",
              "    <tr>\n",
              "      <th>1</th>\n",
              "      <td>17</td>\n",
              "      <td>6</td>\n",
              "      <td>2021</td>\n",
              "    </tr>\n",
              "    <tr>\n",
              "      <th>2</th>\n",
              "      <td>19</td>\n",
              "      <td>6</td>\n",
              "      <td>2021</td>\n",
              "    </tr>\n",
              "    <tr>\n",
              "      <th>3</th>\n",
              "      <td>1</td>\n",
              "      <td>7</td>\n",
              "      <td>2021</td>\n",
              "    </tr>\n",
              "    <tr>\n",
              "      <th>4</th>\n",
              "      <td>30</td>\n",
              "      <td>6</td>\n",
              "      <td>2021</td>\n",
              "    </tr>\n",
              "    <tr>\n",
              "      <th>...</th>\n",
              "      <td>...</td>\n",
              "      <td>...</td>\n",
              "      <td>...</td>\n",
              "    </tr>\n",
              "    <tr>\n",
              "      <th>618</th>\n",
              "      <td>22</td>\n",
              "      <td>3</td>\n",
              "      <td>2020</td>\n",
              "    </tr>\n",
              "    <tr>\n",
              "      <th>619</th>\n",
              "      <td>12</td>\n",
              "      <td>3</td>\n",
              "      <td>2020</td>\n",
              "    </tr>\n",
              "    <tr>\n",
              "      <th>620</th>\n",
              "      <td>11</td>\n",
              "      <td>3</td>\n",
              "      <td>2020</td>\n",
              "    </tr>\n",
              "    <tr>\n",
              "      <th>621</th>\n",
              "      <td>13</td>\n",
              "      <td>3</td>\n",
              "      <td>2020</td>\n",
              "    </tr>\n",
              "    <tr>\n",
              "      <th>622</th>\n",
              "      <td>6</td>\n",
              "      <td>3</td>\n",
              "      <td>2020</td>\n",
              "    </tr>\n",
              "  </tbody>\n",
              "</table>\n",
              "<p>623 rows × 3 columns</p>\n",
              "</div>"
            ],
            "text/plain": [
              "    Dia Mes    Año\n",
              "0    24   6  2021 \n",
              "1    17   6  2021 \n",
              "2    19   6  2021 \n",
              "3     1   7  2021 \n",
              "4    30   6  2021 \n",
              "..   ..  ..    ...\n",
              "618  22   3  2020 \n",
              "619  12   3  2020 \n",
              "620  11   3  2020 \n",
              "621  13   3  2020 \n",
              "622   6   3  2020 \n",
              "\n",
              "[623 rows x 3 columns]"
            ]
          },
          "metadata": {},
          "execution_count": 372
        }
      ]
    },
    {
      "cell_type": "code",
      "metadata": {
        "id": "9_Cj88tUbuSn"
      },
      "source": [
        "Fecha_1['Mes'] = Fecha_1['Mes'].replace(['1', '2', '3', '4', '5', '6', '7', '8', '9', '10', '11', '12'],['01', '02', '03', '04', '05', '06', '07', '08', '09', '10', '11', '12'])\n",
        "Fecha_1['Dia'] = Fecha_1['Dia'].replace(['1', '2', '3', '4', '5', '6', '7', '8', '9'],['01', '02', '03', '04', '05', '06', '07', '08', '09'])"
      ],
      "execution_count": 373,
      "outputs": []
    },
    {
      "cell_type": "code",
      "metadata": {
        "colab": {
          "base_uri": "https://localhost:8080/",
          "height": 423
        },
        "id": "7spBKxkrcYYw",
        "outputId": "26626b9c-eae9-4d13-82aa-5646667b4f37"
      },
      "source": [
        "Fecha_1"
      ],
      "execution_count": 374,
      "outputs": [
        {
          "output_type": "execute_result",
          "data": {
            "text/html": [
              "<div>\n",
              "<style scoped>\n",
              "    .dataframe tbody tr th:only-of-type {\n",
              "        vertical-align: middle;\n",
              "    }\n",
              "\n",
              "    .dataframe tbody tr th {\n",
              "        vertical-align: top;\n",
              "    }\n",
              "\n",
              "    .dataframe thead th {\n",
              "        text-align: right;\n",
              "    }\n",
              "</style>\n",
              "<table border=\"1\" class=\"dataframe\">\n",
              "  <thead>\n",
              "    <tr style=\"text-align: right;\">\n",
              "      <th></th>\n",
              "      <th>Dia</th>\n",
              "      <th>Mes</th>\n",
              "      <th>Año</th>\n",
              "    </tr>\n",
              "  </thead>\n",
              "  <tbody>\n",
              "    <tr>\n",
              "      <th>0</th>\n",
              "      <td>24</td>\n",
              "      <td>06</td>\n",
              "      <td>2021</td>\n",
              "    </tr>\n",
              "    <tr>\n",
              "      <th>1</th>\n",
              "      <td>17</td>\n",
              "      <td>06</td>\n",
              "      <td>2021</td>\n",
              "    </tr>\n",
              "    <tr>\n",
              "      <th>2</th>\n",
              "      <td>19</td>\n",
              "      <td>06</td>\n",
              "      <td>2021</td>\n",
              "    </tr>\n",
              "    <tr>\n",
              "      <th>3</th>\n",
              "      <td>01</td>\n",
              "      <td>07</td>\n",
              "      <td>2021</td>\n",
              "    </tr>\n",
              "    <tr>\n",
              "      <th>4</th>\n",
              "      <td>30</td>\n",
              "      <td>06</td>\n",
              "      <td>2021</td>\n",
              "    </tr>\n",
              "    <tr>\n",
              "      <th>...</th>\n",
              "      <td>...</td>\n",
              "      <td>...</td>\n",
              "      <td>...</td>\n",
              "    </tr>\n",
              "    <tr>\n",
              "      <th>618</th>\n",
              "      <td>22</td>\n",
              "      <td>03</td>\n",
              "      <td>2020</td>\n",
              "    </tr>\n",
              "    <tr>\n",
              "      <th>619</th>\n",
              "      <td>12</td>\n",
              "      <td>03</td>\n",
              "      <td>2020</td>\n",
              "    </tr>\n",
              "    <tr>\n",
              "      <th>620</th>\n",
              "      <td>11</td>\n",
              "      <td>03</td>\n",
              "      <td>2020</td>\n",
              "    </tr>\n",
              "    <tr>\n",
              "      <th>621</th>\n",
              "      <td>13</td>\n",
              "      <td>03</td>\n",
              "      <td>2020</td>\n",
              "    </tr>\n",
              "    <tr>\n",
              "      <th>622</th>\n",
              "      <td>06</td>\n",
              "      <td>03</td>\n",
              "      <td>2020</td>\n",
              "    </tr>\n",
              "  </tbody>\n",
              "</table>\n",
              "<p>623 rows × 3 columns</p>\n",
              "</div>"
            ],
            "text/plain": [
              "    Dia Mes    Año\n",
              "0    24  06  2021 \n",
              "1    17  06  2021 \n",
              "2    19  06  2021 \n",
              "3    01  07  2021 \n",
              "4    30  06  2021 \n",
              "..   ..  ..    ...\n",
              "618  22  03  2020 \n",
              "619  12  03  2020 \n",
              "620  11  03  2020 \n",
              "621  13  03  2020 \n",
              "622  06  03  2020 \n",
              "\n",
              "[623 rows x 3 columns]"
            ]
          },
          "metadata": {},
          "execution_count": 374
        }
      ]
    },
    {
      "cell_type": "code",
      "metadata": {
        "colab": {
          "base_uri": "https://localhost:8080/",
          "height": 423
        },
        "id": "xsQn-BjncbWf",
        "outputId": "b0dec2bd-d683-4e75-bafa-10e83db9ebc2"
      },
      "source": [
        "Fecha_1['Fecha final'] = Fecha_1['Mes'] + \"/\" + Fecha_1['Dia'] + '/' + Fecha_1['Año'] ; Fecha_1"
      ],
      "execution_count": 375,
      "outputs": [
        {
          "output_type": "execute_result",
          "data": {
            "text/html": [
              "<div>\n",
              "<style scoped>\n",
              "    .dataframe tbody tr th:only-of-type {\n",
              "        vertical-align: middle;\n",
              "    }\n",
              "\n",
              "    .dataframe tbody tr th {\n",
              "        vertical-align: top;\n",
              "    }\n",
              "\n",
              "    .dataframe thead th {\n",
              "        text-align: right;\n",
              "    }\n",
              "</style>\n",
              "<table border=\"1\" class=\"dataframe\">\n",
              "  <thead>\n",
              "    <tr style=\"text-align: right;\">\n",
              "      <th></th>\n",
              "      <th>Dia</th>\n",
              "      <th>Mes</th>\n",
              "      <th>Año</th>\n",
              "      <th>Fecha final</th>\n",
              "    </tr>\n",
              "  </thead>\n",
              "  <tbody>\n",
              "    <tr>\n",
              "      <th>0</th>\n",
              "      <td>24</td>\n",
              "      <td>06</td>\n",
              "      <td>2021</td>\n",
              "      <td>06/24/2021</td>\n",
              "    </tr>\n",
              "    <tr>\n",
              "      <th>1</th>\n",
              "      <td>17</td>\n",
              "      <td>06</td>\n",
              "      <td>2021</td>\n",
              "      <td>06/17/2021</td>\n",
              "    </tr>\n",
              "    <tr>\n",
              "      <th>2</th>\n",
              "      <td>19</td>\n",
              "      <td>06</td>\n",
              "      <td>2021</td>\n",
              "      <td>06/19/2021</td>\n",
              "    </tr>\n",
              "    <tr>\n",
              "      <th>3</th>\n",
              "      <td>01</td>\n",
              "      <td>07</td>\n",
              "      <td>2021</td>\n",
              "      <td>07/01/2021</td>\n",
              "    </tr>\n",
              "    <tr>\n",
              "      <th>4</th>\n",
              "      <td>30</td>\n",
              "      <td>06</td>\n",
              "      <td>2021</td>\n",
              "      <td>06/30/2021</td>\n",
              "    </tr>\n",
              "    <tr>\n",
              "      <th>...</th>\n",
              "      <td>...</td>\n",
              "      <td>...</td>\n",
              "      <td>...</td>\n",
              "      <td>...</td>\n",
              "    </tr>\n",
              "    <tr>\n",
              "      <th>618</th>\n",
              "      <td>22</td>\n",
              "      <td>03</td>\n",
              "      <td>2020</td>\n",
              "      <td>03/22/2020</td>\n",
              "    </tr>\n",
              "    <tr>\n",
              "      <th>619</th>\n",
              "      <td>12</td>\n",
              "      <td>03</td>\n",
              "      <td>2020</td>\n",
              "      <td>03/12/2020</td>\n",
              "    </tr>\n",
              "    <tr>\n",
              "      <th>620</th>\n",
              "      <td>11</td>\n",
              "      <td>03</td>\n",
              "      <td>2020</td>\n",
              "      <td>03/11/2020</td>\n",
              "    </tr>\n",
              "    <tr>\n",
              "      <th>621</th>\n",
              "      <td>13</td>\n",
              "      <td>03</td>\n",
              "      <td>2020</td>\n",
              "      <td>03/13/2020</td>\n",
              "    </tr>\n",
              "    <tr>\n",
              "      <th>622</th>\n",
              "      <td>06</td>\n",
              "      <td>03</td>\n",
              "      <td>2020</td>\n",
              "      <td>03/06/2020</td>\n",
              "    </tr>\n",
              "  </tbody>\n",
              "</table>\n",
              "<p>623 rows × 4 columns</p>\n",
              "</div>"
            ],
            "text/plain": [
              "    Dia Mes    Año  Fecha final\n",
              "0    24  06  2021   06/24/2021 \n",
              "1    17  06  2021   06/17/2021 \n",
              "2    19  06  2021   06/19/2021 \n",
              "3    01  07  2021   07/01/2021 \n",
              "4    30  06  2021   06/30/2021 \n",
              "..   ..  ..    ...          ...\n",
              "618  22  03  2020   03/22/2020 \n",
              "619  12  03  2020   03/12/2020 \n",
              "620  11  03  2020   03/11/2020 \n",
              "621  13  03  2020   03/13/2020 \n",
              "622  06  03  2020   03/06/2020 \n",
              "\n",
              "[623 rows x 4 columns]"
            ]
          },
          "metadata": {},
          "execution_count": 375
        }
      ]
    },
    {
      "cell_type": "code",
      "metadata": {
        "colab": {
          "base_uri": "https://localhost:8080/",
          "height": 423
        },
        "id": "BP0-2VmZmdSH",
        "outputId": "2790f4fd-3ed7-4197-9d51-c13bd5969460"
      },
      "source": [
        "Serie_tiempo = pd.concat([Casos,Fecha_1['Fecha final']], axis=1) ; Serie_tiempo"
      ],
      "execution_count": 376,
      "outputs": [
        {
          "output_type": "execute_result",
          "data": {
            "text/html": [
              "<div>\n",
              "<style scoped>\n",
              "    .dataframe tbody tr th:only-of-type {\n",
              "        vertical-align: middle;\n",
              "    }\n",
              "\n",
              "    .dataframe tbody tr th {\n",
              "        vertical-align: top;\n",
              "    }\n",
              "\n",
              "    .dataframe thead th {\n",
              "        text-align: right;\n",
              "    }\n",
              "</style>\n",
              "<table border=\"1\" class=\"dataframe\">\n",
              "  <thead>\n",
              "    <tr style=\"text-align: right;\">\n",
              "      <th></th>\n",
              "      <th>Fecha</th>\n",
              "      <th>f</th>\n",
              "      <th>Fecha final</th>\n",
              "    </tr>\n",
              "  </thead>\n",
              "  <tbody>\n",
              "    <tr>\n",
              "      <th>0</th>\n",
              "      <td>24/6/2021</td>\n",
              "      <td>15569</td>\n",
              "      <td>06/24/2021</td>\n",
              "    </tr>\n",
              "    <tr>\n",
              "      <th>1</th>\n",
              "      <td>17/6/2021</td>\n",
              "      <td>12493</td>\n",
              "      <td>06/17/2021</td>\n",
              "    </tr>\n",
              "    <tr>\n",
              "      <th>2</th>\n",
              "      <td>19/6/2021</td>\n",
              "      <td>11729</td>\n",
              "      <td>06/19/2021</td>\n",
              "    </tr>\n",
              "    <tr>\n",
              "      <th>3</th>\n",
              "      <td>1/7/2021</td>\n",
              "      <td>11545</td>\n",
              "      <td>07/01/2021</td>\n",
              "    </tr>\n",
              "    <tr>\n",
              "      <th>4</th>\n",
              "      <td>30/6/2021</td>\n",
              "      <td>11493</td>\n",
              "      <td>06/30/2021</td>\n",
              "    </tr>\n",
              "    <tr>\n",
              "      <th>...</th>\n",
              "      <td>...</td>\n",
              "      <td>...</td>\n",
              "      <td>...</td>\n",
              "    </tr>\n",
              "    <tr>\n",
              "      <th>618</th>\n",
              "      <td>22/3/2020</td>\n",
              "      <td>4</td>\n",
              "      <td>03/22/2020</td>\n",
              "    </tr>\n",
              "    <tr>\n",
              "      <th>619</th>\n",
              "      <td>12/3/2020</td>\n",
              "      <td>2</td>\n",
              "      <td>03/12/2020</td>\n",
              "    </tr>\n",
              "    <tr>\n",
              "      <th>620</th>\n",
              "      <td>11/3/2020</td>\n",
              "      <td>2</td>\n",
              "      <td>03/11/2020</td>\n",
              "    </tr>\n",
              "    <tr>\n",
              "      <th>621</th>\n",
              "      <td>13/3/2020</td>\n",
              "      <td>1</td>\n",
              "      <td>03/13/2020</td>\n",
              "    </tr>\n",
              "    <tr>\n",
              "      <th>622</th>\n",
              "      <td>6/3/2020</td>\n",
              "      <td>1</td>\n",
              "      <td>03/06/2020</td>\n",
              "    </tr>\n",
              "  </tbody>\n",
              "</table>\n",
              "<p>623 rows × 3 columns</p>\n",
              "</div>"
            ],
            "text/plain": [
              "          Fecha      f  Fecha final\n",
              "0    24/6/2021   15569  06/24/2021 \n",
              "1    17/6/2021   12493  06/17/2021 \n",
              "2    19/6/2021   11729  06/19/2021 \n",
              "3     1/7/2021   11545  07/01/2021 \n",
              "4    30/6/2021   11493  06/30/2021 \n",
              "..          ...    ...          ...\n",
              "618  22/3/2020       4  03/22/2020 \n",
              "619  12/3/2020       2  03/12/2020 \n",
              "620  11/3/2020       2  03/11/2020 \n",
              "621  13/3/2020       1  03/13/2020 \n",
              "622   6/3/2020       1  03/06/2020 \n",
              "\n",
              "[623 rows x 3 columns]"
            ]
          },
          "metadata": {},
          "execution_count": 376
        }
      ]
    },
    {
      "cell_type": "code",
      "metadata": {
        "colab": {
          "base_uri": "https://localhost:8080/",
          "height": 423
        },
        "id": "qzJGfrBtoJG7",
        "outputId": "1d8ade70-e9ae-4e67-b2f3-1e8f5f2349f2"
      },
      "source": [
        "Serie_tiempo"
      ],
      "execution_count": 377,
      "outputs": [
        {
          "output_type": "execute_result",
          "data": {
            "text/html": [
              "<div>\n",
              "<style scoped>\n",
              "    .dataframe tbody tr th:only-of-type {\n",
              "        vertical-align: middle;\n",
              "    }\n",
              "\n",
              "    .dataframe tbody tr th {\n",
              "        vertical-align: top;\n",
              "    }\n",
              "\n",
              "    .dataframe thead th {\n",
              "        text-align: right;\n",
              "    }\n",
              "</style>\n",
              "<table border=\"1\" class=\"dataframe\">\n",
              "  <thead>\n",
              "    <tr style=\"text-align: right;\">\n",
              "      <th></th>\n",
              "      <th>Fecha</th>\n",
              "      <th>f</th>\n",
              "      <th>Fecha final</th>\n",
              "    </tr>\n",
              "  </thead>\n",
              "  <tbody>\n",
              "    <tr>\n",
              "      <th>0</th>\n",
              "      <td>24/6/2021</td>\n",
              "      <td>15569</td>\n",
              "      <td>06/24/2021</td>\n",
              "    </tr>\n",
              "    <tr>\n",
              "      <th>1</th>\n",
              "      <td>17/6/2021</td>\n",
              "      <td>12493</td>\n",
              "      <td>06/17/2021</td>\n",
              "    </tr>\n",
              "    <tr>\n",
              "      <th>2</th>\n",
              "      <td>19/6/2021</td>\n",
              "      <td>11729</td>\n",
              "      <td>06/19/2021</td>\n",
              "    </tr>\n",
              "    <tr>\n",
              "      <th>3</th>\n",
              "      <td>1/7/2021</td>\n",
              "      <td>11545</td>\n",
              "      <td>07/01/2021</td>\n",
              "    </tr>\n",
              "    <tr>\n",
              "      <th>4</th>\n",
              "      <td>30/6/2021</td>\n",
              "      <td>11493</td>\n",
              "      <td>06/30/2021</td>\n",
              "    </tr>\n",
              "    <tr>\n",
              "      <th>...</th>\n",
              "      <td>...</td>\n",
              "      <td>...</td>\n",
              "      <td>...</td>\n",
              "    </tr>\n",
              "    <tr>\n",
              "      <th>618</th>\n",
              "      <td>22/3/2020</td>\n",
              "      <td>4</td>\n",
              "      <td>03/22/2020</td>\n",
              "    </tr>\n",
              "    <tr>\n",
              "      <th>619</th>\n",
              "      <td>12/3/2020</td>\n",
              "      <td>2</td>\n",
              "      <td>03/12/2020</td>\n",
              "    </tr>\n",
              "    <tr>\n",
              "      <th>620</th>\n",
              "      <td>11/3/2020</td>\n",
              "      <td>2</td>\n",
              "      <td>03/11/2020</td>\n",
              "    </tr>\n",
              "    <tr>\n",
              "      <th>621</th>\n",
              "      <td>13/3/2020</td>\n",
              "      <td>1</td>\n",
              "      <td>03/13/2020</td>\n",
              "    </tr>\n",
              "    <tr>\n",
              "      <th>622</th>\n",
              "      <td>6/3/2020</td>\n",
              "      <td>1</td>\n",
              "      <td>03/06/2020</td>\n",
              "    </tr>\n",
              "  </tbody>\n",
              "</table>\n",
              "<p>623 rows × 3 columns</p>\n",
              "</div>"
            ],
            "text/plain": [
              "          Fecha      f  Fecha final\n",
              "0    24/6/2021   15569  06/24/2021 \n",
              "1    17/6/2021   12493  06/17/2021 \n",
              "2    19/6/2021   11729  06/19/2021 \n",
              "3     1/7/2021   11545  07/01/2021 \n",
              "4    30/6/2021   11493  06/30/2021 \n",
              "..          ...    ...          ...\n",
              "618  22/3/2020       4  03/22/2020 \n",
              "619  12/3/2020       2  03/12/2020 \n",
              "620  11/3/2020       2  03/11/2020 \n",
              "621  13/3/2020       1  03/13/2020 \n",
              "622   6/3/2020       1  03/06/2020 \n",
              "\n",
              "[623 rows x 3 columns]"
            ]
          },
          "metadata": {},
          "execution_count": 377
        }
      ]
    },
    {
      "cell_type": "code",
      "metadata": {
        "id": "F29C5o0bnjRI"
      },
      "source": [
        "Serie_tiempo['Fecha final'] = pd.to_datetime(Serie_tiempo['Fecha final']) ; Serie_tiempo\n",
        "Serie_tiempo = Serie_tiempo.drop(['Fecha'], axis = 1)\n",
        "Serie_tiempo = Serie_tiempo.sort_values(by = 'Fecha final')"
      ],
      "execution_count": 378,
      "outputs": []
    },
    {
      "cell_type": "code",
      "metadata": {
        "id": "hAvgkf7OoVqg"
      },
      "source": [
        "Serie_tiempo.columns = ['Casos', 'Fecha']"
      ],
      "execution_count": 379,
      "outputs": []
    },
    {
      "cell_type": "code",
      "metadata": {
        "id": "70yAg5FtwC7a"
      },
      "source": [
        "df = Serie_tiempo"
      ],
      "execution_count": 380,
      "outputs": []
    },
    {
      "cell_type": "code",
      "metadata": {
        "id": "dtOK5YHH-wm3"
      },
      "source": [
        "df['Fecha'] = pd.to_datetime(df['Fecha'])"
      ],
      "execution_count": 381,
      "outputs": []
    },
    {
      "cell_type": "code",
      "metadata": {
        "colab": {
          "base_uri": "https://localhost:8080/"
        },
        "id": "O3AoCf8A-8bd",
        "outputId": "7d9e1961-cf11-4d3b-a4a0-337871f77be9"
      },
      "source": [
        "df.columns"
      ],
      "execution_count": 382,
      "outputs": [
        {
          "output_type": "execute_result",
          "data": {
            "text/plain": [
              "Index(['Casos', 'Fecha'], dtype='object')"
            ]
          },
          "metadata": {},
          "execution_count": 382
        }
      ]
    },
    {
      "cell_type": "code",
      "metadata": {
        "id": "utcdNDPDoWeq"
      },
      "source": [
        "Serie_tiempo.set_index('Fecha', inplace=True)"
      ],
      "execution_count": 383,
      "outputs": []
    },
    {
      "cell_type": "code",
      "metadata": {
        "colab": {
          "base_uri": "https://localhost:8080/",
          "height": 454
        },
        "id": "3SLVwB2y-b6O",
        "outputId": "8f112021-64cd-40b0-dfc8-0850a4ff6d1f"
      },
      "source": [
        "df"
      ],
      "execution_count": 384,
      "outputs": [
        {
          "output_type": "execute_result",
          "data": {
            "text/html": [
              "<div>\n",
              "<style scoped>\n",
              "    .dataframe tbody tr th:only-of-type {\n",
              "        vertical-align: middle;\n",
              "    }\n",
              "\n",
              "    .dataframe tbody tr th {\n",
              "        vertical-align: top;\n",
              "    }\n",
              "\n",
              "    .dataframe thead th {\n",
              "        text-align: right;\n",
              "    }\n",
              "</style>\n",
              "<table border=\"1\" class=\"dataframe\">\n",
              "  <thead>\n",
              "    <tr style=\"text-align: right;\">\n",
              "      <th></th>\n",
              "      <th>Casos</th>\n",
              "    </tr>\n",
              "    <tr>\n",
              "      <th>Fecha</th>\n",
              "      <th></th>\n",
              "    </tr>\n",
              "  </thead>\n",
              "  <tbody>\n",
              "    <tr>\n",
              "      <th>2020-03-06</th>\n",
              "      <td>1</td>\n",
              "    </tr>\n",
              "    <tr>\n",
              "      <th>2020-03-11</th>\n",
              "      <td>2</td>\n",
              "    </tr>\n",
              "    <tr>\n",
              "      <th>2020-03-12</th>\n",
              "      <td>2</td>\n",
              "    </tr>\n",
              "    <tr>\n",
              "      <th>2020-03-13</th>\n",
              "      <td>1</td>\n",
              "    </tr>\n",
              "    <tr>\n",
              "      <th>2020-03-14</th>\n",
              "      <td>10</td>\n",
              "    </tr>\n",
              "    <tr>\n",
              "      <th>...</th>\n",
              "      <td>...</td>\n",
              "    </tr>\n",
              "    <tr>\n",
              "      <th>2021-11-18</th>\n",
              "      <td>267</td>\n",
              "    </tr>\n",
              "    <tr>\n",
              "      <th>2021-11-19</th>\n",
              "      <td>355</td>\n",
              "    </tr>\n",
              "    <tr>\n",
              "      <th>2021-11-20</th>\n",
              "      <td>347</td>\n",
              "    </tr>\n",
              "    <tr>\n",
              "      <th>2021-11-21</th>\n",
              "      <td>331</td>\n",
              "    </tr>\n",
              "    <tr>\n",
              "      <th>2021-11-22</th>\n",
              "      <td>237</td>\n",
              "    </tr>\n",
              "  </tbody>\n",
              "</table>\n",
              "<p>623 rows × 1 columns</p>\n",
              "</div>"
            ],
            "text/plain": [
              "            Casos\n",
              "Fecha            \n",
              "2020-03-06      1\n",
              "2020-03-11      2\n",
              "2020-03-12      2\n",
              "2020-03-13      1\n",
              "2020-03-14     10\n",
              "...           ...\n",
              "2021-11-18    267\n",
              "2021-11-19    355\n",
              "2021-11-20    347\n",
              "2021-11-21    331\n",
              "2021-11-22    237\n",
              "\n",
              "[623 rows x 1 columns]"
            ]
          },
          "metadata": {},
          "execution_count": 384
        }
      ]
    },
    {
      "cell_type": "code",
      "metadata": {
        "colab": {
          "base_uri": "https://localhost:8080/",
          "height": 590
        },
        "id": "itqTtn6Yop4_",
        "outputId": "05547aa9-14b6-46bf-aa6d-fbdd669d8c92"
      },
      "source": [
        "Serie_tiempo.plot(kind = 'line', figsize= (14,10))"
      ],
      "execution_count": 385,
      "outputs": [
        {
          "output_type": "execute_result",
          "data": {
            "text/plain": [
              "<matplotlib.axes._subplots.AxesSubplot at 0x7f3265fc1350>"
            ]
          },
          "metadata": {},
          "execution_count": 385
        },
        {
          "output_type": "display_data",
          "data": {
            "image/png": "[encoded data removed]",
            "text/plain": [
              "<Figure size 1008x720 with 1 Axes>"
            ]
          },
          "metadata": {
            "needs_background": "light"
          }
        }
      ]
    },
    {
      "cell_type": "code",
      "metadata": {
        "id": "J380RNNYxAqA"
      },
      "source": [
        "# df['Fecha'] = pd.to_datetime(df['Fecha'])"
      ],
      "execution_count": null,
      "outputs": []
    },
    {
      "cell_type": "code",
      "metadata": {
        "colab": {
          "base_uri": "https://localhost:8080/"
        },
        "id": "7QiQw3NnxTJF",
        "outputId": "001e8755-f321-49a1-a3fe-b4dd8598cc3d"
      },
      "source": [
        "print(df.index.min())\n",
        "print(df.index.max())"
      ],
      "execution_count": 387,
      "outputs": [
        {
          "output_type": "stream",
          "name": "stdout",
          "text": [
            "2020-03-06 00:00:00\n",
            "2021-11-22 00:00:00\n"
          ]
        }
      ]
    },
    {
      "cell_type": "code",
      "metadata": {
        "id": "MHWHxD9WxhJ5"
      },
      "source": [
        "df.describe()"
      ],
      "execution_count": null,
      "outputs": []
    },
    {
      "cell_type": "code",
      "metadata": {
        "colab": {
          "base_uri": "https://localhost:8080/",
          "height": 540
        },
        "id": "slvQIeKtxoej",
        "outputId": "31d0f143-9a52-45c8-f506-a42f8c07ca92"
      },
      "source": [
        "df.plot()"
      ],
      "execution_count": 389,
      "outputs": [
        {
          "output_type": "execute_result",
          "data": {
            "text/plain": [
              "<matplotlib.axes._subplots.AxesSubplot at 0x7f32658aab10>"
            ]
          },
          "metadata": {},
          "execution_count": 389
        },
        {
          "output_type": "display_data",
          "data": {
            "image/png": "[encoded data removed]",
            "text/plain": [
              "<Figure size 1152x648 with 1 Axes>"
            ]
          },
          "metadata": {
            "needs_background": "light"
          }
        }
      ]
    },
    {
      "cell_type": "markdown",
      "metadata": {
        "id": "4jRfjaAx_pmZ"
      },
      "source": [
        "## Aprendizaje profundo"
      ]
    },
    {
      "cell_type": "code",
      "metadata": {
        "colab": {
          "base_uri": "https://localhost:8080/",
          "height": 206
        },
        "id": "3Z3WxXmszhbI",
        "outputId": "925950e7-c300-4288-acf5-c2e7e820f3b6"
      },
      "source": [
        "PASOS = 9\n",
        "def series_to_supervised(data, n_in=1, n_out=1, dropnan=True):\n",
        "    n_vars = 1 if type(data) is list else data.shape[1]\n",
        "    df = pd.DataFrame(data)\n",
        "    cols, names = list(), list()\n",
        "    for i in range(n_in, 0, -1):\n",
        "        cols.append(df.shift(i))\n",
        "        names += [('var%d(t-%d)' % (j+1, i)) for j in range(n_vars)]\n",
        "    for i in range(0, n_out):\n",
        "        cols.append(df.shift(-i))\n",
        "        if i == 0:\n",
        "            names += [('var%d(t)' % (j+1)) for j in range(n_vars)]\n",
        "        else:\n",
        "            names += [('var%d(t+%d)' % (j+1, i)) for j in range(n_vars)]\n",
        "    agg = pd.concat(cols, axis=1)\n",
        "    agg.columns = names\n",
        "    if dropnan:\n",
        "        agg.dropna(inplace=True)\n",
        "    return agg\n",
        " \n",
        "values = df.values\n",
        "values = values.astype('float32')\n",
        "scaler = MinMaxScaler(feature_range=(-1, 1))\n",
        "values=values.reshape(-1, 1) \n",
        "scaled = scaler.fit_transform(values)\n",
        "reframed = series_to_supervised(scaled, PASOS, 1)\n",
        "reframed.head()"
      ],
      "execution_count": 390,
      "outputs": [
        {
          "output_type": "execute_result",
          "data": {
            "text/html": [
              "<div>\n",
              "<style scoped>\n",
              "    .dataframe tbody tr th:only-of-type {\n",
              "        vertical-align: middle;\n",
              "    }\n",
              "\n",
              "    .dataframe tbody tr th {\n",
              "        vertical-align: top;\n",
              "    }\n",
              "\n",
              "    .dataframe thead th {\n",
              "        text-align: right;\n",
              "    }\n",
              "</style>\n",
              "<table border=\"1\" class=\"dataframe\">\n",
              "  <thead>\n",
              "    <tr style=\"text-align: right;\">\n",
              "      <th></th>\n",
              "      <th>var1(t-9)</th>\n",
              "      <th>var1(t-8)</th>\n",
              "      <th>var1(t-7)</th>\n",
              "      <th>var1(t-6)</th>\n",
              "      <th>var1(t-5)</th>\n",
              "      <th>var1(t-4)</th>\n",
              "      <th>var1(t-3)</th>\n",
              "      <th>var1(t-2)</th>\n",
              "      <th>var1(t-1)</th>\n",
              "      <th>var1(t)</th>\n",
              "    </tr>\n",
              "  </thead>\n",
              "  <tbody>\n",
              "    <tr>\n",
              "      <th>9</th>\n",
              "      <td>-1.000000</td>\n",
              "      <td>-0.999872</td>\n",
              "      <td>-0.999872</td>\n",
              "      <td>-1.000000</td>\n",
              "      <td>-0.998844</td>\n",
              "      <td>-0.998844</td>\n",
              "      <td>-0.999358</td>\n",
              "      <td>-0.999229</td>\n",
              "      <td>-0.999486</td>\n",
              "      <td>-0.999101</td>\n",
              "    </tr>\n",
              "    <tr>\n",
              "      <th>10</th>\n",
              "      <td>-0.999872</td>\n",
              "      <td>-0.999872</td>\n",
              "      <td>-1.000000</td>\n",
              "      <td>-0.998844</td>\n",
              "      <td>-0.998844</td>\n",
              "      <td>-0.999358</td>\n",
              "      <td>-0.999229</td>\n",
              "      <td>-0.999486</td>\n",
              "      <td>-0.999101</td>\n",
              "      <td>-0.996660</td>\n",
              "    </tr>\n",
              "    <tr>\n",
              "      <th>11</th>\n",
              "      <td>-0.999872</td>\n",
              "      <td>-1.000000</td>\n",
              "      <td>-0.998844</td>\n",
              "      <td>-0.998844</td>\n",
              "      <td>-0.999358</td>\n",
              "      <td>-0.999229</td>\n",
              "      <td>-0.999486</td>\n",
              "      <td>-0.999101</td>\n",
              "      <td>-0.996660</td>\n",
              "      <td>-0.999486</td>\n",
              "    </tr>\n",
              "    <tr>\n",
              "      <th>12</th>\n",
              "      <td>-1.000000</td>\n",
              "      <td>-0.998844</td>\n",
              "      <td>-0.998844</td>\n",
              "      <td>-0.999358</td>\n",
              "      <td>-0.999229</td>\n",
              "      <td>-0.999486</td>\n",
              "      <td>-0.999101</td>\n",
              "      <td>-0.996660</td>\n",
              "      <td>-0.999486</td>\n",
              "      <td>-0.999615</td>\n",
              "    </tr>\n",
              "    <tr>\n",
              "      <th>13</th>\n",
              "      <td>-0.998844</td>\n",
              "      <td>-0.998844</td>\n",
              "      <td>-0.999358</td>\n",
              "      <td>-0.999229</td>\n",
              "      <td>-0.999486</td>\n",
              "      <td>-0.999101</td>\n",
              "      <td>-0.996660</td>\n",
              "      <td>-0.999486</td>\n",
              "      <td>-0.999615</td>\n",
              "      <td>-0.996403</td>\n",
              "    </tr>\n",
              "  </tbody>\n",
              "</table>\n",
              "</div>"
            ],
            "text/plain": [
              "    var1(t-9)  var1(t-8)  var1(t-7)  ...  var1(t-2)  var1(t-1)   var1(t)\n",
              "9   -1.000000  -0.999872  -0.999872  ...  -0.999229  -0.999486 -0.999101\n",
              "10  -0.999872  -0.999872  -1.000000  ...  -0.999486  -0.999101 -0.996660\n",
              "11  -0.999872  -1.000000  -0.998844  ...  -0.999101  -0.996660 -0.999486\n",
              "12  -1.000000  -0.998844  -0.998844  ...  -0.996660  -0.999486 -0.999615\n",
              "13  -0.998844  -0.998844  -0.999358  ...  -0.999486  -0.999615 -0.996403\n",
              "\n",
              "[5 rows x 10 columns]"
            ]
          },
          "metadata": {},
          "execution_count": 390
        }
      ]
    },
    {
      "cell_type": "code",
      "metadata": {
        "colab": {
          "base_uri": "https://localhost:8080/"
        },
        "id": "_cs93p5Xz9Yr",
        "outputId": "cbae06e4-8d05-43d0-b4db-554657c883cb"
      },
      "source": [
        "values = reframed.values\n",
        "n_train_days = 105 - (30 + PASOS)\n",
        "train = values[:n_train_days, :]\n",
        "test = values[n_train_days:, :]\n",
        "x_train, y_train = train[:, :-1], train[:, -1]\n",
        "x_val, y_val = test[:, :-1], test[:, -1]\n",
        "x_train = x_train.reshape((x_train.shape[0], 1, x_train.shape[1]))\n",
        "x_val = x_val.reshape((x_val.shape[0], 1, x_val.shape[1]))\n",
        "print(x_train.shape, y_train.shape, x_val.shape, y_val.shape)"
      ],
      "execution_count": 391,
      "outputs": [
        {
          "output_type": "stream",
          "name": "stdout",
          "text": [
            "(66, 1, 9) (66,) (548, 1, 9) (548,)\n"
          ]
        }
      ]
    },
    {
      "cell_type": "code",
      "metadata": {
        "id": "HE5TAlps0BRd"
      },
      "source": [
        "def crear_modeloFF():\n",
        "    model = Sequential() \n",
        "    model.add(Dense(PASOS, input_shape=(1,PASOS),activation='tanh'))\n",
        "    model.add(Flatten())\n",
        "    model.add(Dense(1, activation='tanh'))\n",
        "    model.compile(loss='mean_absolute_error',optimizer='Adam',metrics=[\"mse\"])\n",
        "    model.summary()\n",
        "    return model"
      ],
      "execution_count": 392,
      "outputs": []
    },
    {
      "cell_type": "code",
      "metadata": {
        "colab": {
          "base_uri": "https://localhost:8080/"
        },
        "id": "IFyNw7wb0bJH",
        "outputId": "bb100e2e-8585-458c-c289-62140f39c881"
      },
      "source": [
        "EPOCHS = 100\n",
        "\n",
        "model = crear_modeloFF()\n",
        "\n",
        "history=model.fit(x_train,y_train,epochs=EPOCHS,validation_data=(x_val,y_val),batch_size=PASOS)"
      ],
      "execution_count": 395,
      "outputs": [
        {
          "output_type": "stream",
          "name": "stdout",
          "text": [
            "Model: \"sequential_4\"\n",
            "_________________________________________________________________\n",
            " Layer (type)                Output Shape              Param #   \n",
            "=================================================================\n",
            " dense_8 (Dense)             (None, 1, 9)              90        \n",
            "                                                                 \n",
            " flatten_4 (Flatten)         (None, 9)                 0         \n",
            "                                                                 \n",
            " dense_9 (Dense)             (None, 1)                 10        \n",
            "                                                                 \n",
            "=================================================================\n",
            "Total params: 100\n",
            "Trainable params: 100\n",
            "Non-trainable params: 0\n",
            "_________________________________________________________________\n",
            "Epoch 1/100\n",
            "8/8 [==============================] - 1s 33ms/step - loss: 0.8576 - mse: 0.7379 - val_loss: 0.4641 - val_mse: 0.2617\n",
            "Epoch 2/100\n",
            "8/8 [==============================] - 0s 15ms/step - loss: 0.6776 - mse: 0.4614 - val_loss: 0.3436 - val_mse: 0.1486\n",
            "Epoch 3/100\n",
            "8/8 [==============================] - 0s 25ms/step - loss: 0.5212 - mse: 0.2731 - val_loss: 0.2541 - val_mse: 0.0831\n",
            "Epoch 4/100\n",
            "8/8 [==============================] - 0s 13ms/step - loss: 0.3955 - mse: 0.1572 - val_loss: 0.1939 - val_mse: 0.0506\n",
            "Epoch 5/100\n",
            "8/8 [==============================] - 0s 14ms/step - loss: 0.3002 - mse: 0.0906 - val_loss: 0.1603 - val_mse: 0.0377\n",
            "Epoch 6/100\n",
            "8/8 [==============================] - 0s 25ms/step - loss: 0.2306 - mse: 0.0535 - val_loss: 0.1445 - val_mse: 0.0349\n",
            "Epoch 7/100\n",
            "8/8 [==============================] - 0s 13ms/step - loss: 0.1805 - mse: 0.0328 - val_loss: 0.1408 - val_mse: 0.0369\n",
            "Epoch 8/100\n",
            "8/8 [==============================] - 0s 25ms/step - loss: 0.1443 - mse: 0.0210 - val_loss: 0.1445 - val_mse: 0.0407\n",
            "Epoch 9/100\n",
            "8/8 [==============================] - 0s 15ms/step - loss: 0.1177 - mse: 0.0140 - val_loss: 0.1506 - val_mse: 0.0450\n",
            "Epoch 10/100\n",
            "8/8 [==============================] - 0s 13ms/step - loss: 0.0977 - mse: 0.0097 - val_loss: 0.1572 - val_mse: 0.0494\n",
            "Epoch 11/100\n",
            "8/8 [==============================] - 0s 26ms/step - loss: 0.0824 - mse: 0.0069 - val_loss: 0.1640 - val_mse: 0.0535\n",
            "Epoch 12/100\n",
            "8/8 [==============================] - 0s 25ms/step - loss: 0.0703 - mse: 0.0050 - val_loss: 0.1704 - val_mse: 0.0573\n",
            "Epoch 13/100\n",
            "8/8 [==============================] - 0s 15ms/step - loss: 0.0606 - mse: 0.0038 - val_loss: 0.1762 - val_mse: 0.0607\n",
            "Epoch 14/100\n",
            "8/8 [==============================] - 0s 13ms/step - loss: 0.0526 - mse: 0.0029 - val_loss: 0.1814 - val_mse: 0.0639\n",
            "Epoch 15/100\n",
            "8/8 [==============================] - 0s 14ms/step - loss: 0.0460 - mse: 0.0022 - val_loss: 0.1862 - val_mse: 0.0669\n",
            "Epoch 16/100\n",
            "8/8 [==============================] - 0s 14ms/step - loss: 0.0404 - mse: 0.0017 - val_loss: 0.1905 - val_mse: 0.0695\n",
            "Epoch 17/100\n",
            "8/8 [==============================] - 0s 13ms/step - loss: 0.0356 - mse: 0.0014 - val_loss: 0.1945 - val_mse: 0.0720\n",
            "Epoch 18/100\n",
            "8/8 [==============================] - 0s 12ms/step - loss: 0.0316 - mse: 0.0011 - val_loss: 0.1983 - val_mse: 0.0743\n",
            "Epoch 19/100\n",
            "8/8 [==============================] - 0s 14ms/step - loss: 0.0282 - mse: 8.8723e-04 - val_loss: 0.2017 - val_mse: 0.0763\n",
            "Epoch 20/100\n",
            "8/8 [==============================] - 0s 13ms/step - loss: 0.0252 - mse: 7.2371e-04 - val_loss: 0.2048 - val_mse: 0.0783\n",
            "Epoch 21/100\n",
            "8/8 [==============================] - 0s 14ms/step - loss: 0.0227 - mse: 5.9774e-04 - val_loss: 0.2077 - val_mse: 0.0800\n",
            "Epoch 22/100\n",
            "8/8 [==============================] - 0s 13ms/step - loss: 0.0204 - mse: 4.9727e-04 - val_loss: 0.2102 - val_mse: 0.0816\n",
            "Epoch 23/100\n",
            "8/8 [==============================] - 0s 15ms/step - loss: 0.0188 - mse: 4.2365e-04 - val_loss: 0.2124 - val_mse: 0.0830\n",
            "Epoch 24/100\n",
            "8/8 [==============================] - 0s 14ms/step - loss: 0.0172 - mse: 3.6478e-04 - val_loss: 0.2143 - val_mse: 0.0842\n",
            "Epoch 25/100\n",
            "8/8 [==============================] - 0s 13ms/step - loss: 0.0161 - mse: 3.2014e-04 - val_loss: 0.2163 - val_mse: 0.0854\n",
            "Epoch 26/100\n",
            "8/8 [==============================] - 0s 15ms/step - loss: 0.0150 - mse: 2.7915e-04 - val_loss: 0.2180 - val_mse: 0.0865\n",
            "Epoch 27/100\n",
            "8/8 [==============================] - 0s 14ms/step - loss: 0.0141 - mse: 2.4955e-04 - val_loss: 0.2197 - val_mse: 0.0876\n",
            "Epoch 28/100\n",
            "8/8 [==============================] - 0s 25ms/step - loss: 0.0135 - mse: 2.2531e-04 - val_loss: 0.2211 - val_mse: 0.0885\n",
            "Epoch 29/100\n",
            "8/8 [==============================] - 0s 25ms/step - loss: 0.0129 - mse: 2.0484e-04 - val_loss: 0.2223 - val_mse: 0.0892\n",
            "Epoch 30/100\n",
            "8/8 [==============================] - 0s 13ms/step - loss: 0.0124 - mse: 1.8957e-04 - val_loss: 0.2233 - val_mse: 0.0899\n",
            "Epoch 31/100\n",
            "8/8 [==============================] - 0s 16ms/step - loss: 0.0120 - mse: 1.7679e-04 - val_loss: 0.2244 - val_mse: 0.0906\n",
            "Epoch 32/100\n",
            "8/8 [==============================] - 0s 13ms/step - loss: 0.0116 - mse: 1.6527e-04 - val_loss: 0.2254 - val_mse: 0.0912\n",
            "Epoch 33/100\n",
            "8/8 [==============================] - 0s 14ms/step - loss: 0.0112 - mse: 1.5559e-04 - val_loss: 0.2265 - val_mse: 0.0919\n",
            "Epoch 34/100\n",
            "8/8 [==============================] - 0s 13ms/step - loss: 0.0108 - mse: 1.4655e-04 - val_loss: 0.2274 - val_mse: 0.0925\n",
            "Epoch 35/100\n",
            "8/8 [==============================] - 0s 14ms/step - loss: 0.0105 - mse: 1.4012e-04 - val_loss: 0.2285 - val_mse: 0.0932\n",
            "Epoch 36/100\n",
            "8/8 [==============================] - 0s 14ms/step - loss: 0.0102 - mse: 1.3303e-04 - val_loss: 0.2294 - val_mse: 0.0937\n",
            "Epoch 37/100\n",
            "8/8 [==============================] - 0s 14ms/step - loss: 0.0099 - mse: 1.2784e-04 - val_loss: 0.2303 - val_mse: 0.0943\n",
            "Epoch 38/100\n",
            "8/8 [==============================] - 0s 25ms/step - loss: 0.0097 - mse: 1.2329e-04 - val_loss: 0.2310 - val_mse: 0.0948\n",
            "Epoch 39/100\n",
            "8/8 [==============================] - 0s 13ms/step - loss: 0.0094 - mse: 1.1917e-04 - val_loss: 0.2318 - val_mse: 0.0953\n",
            "Epoch 40/100\n",
            "8/8 [==============================] - 0s 25ms/step - loss: 0.0092 - mse: 1.1671e-04 - val_loss: 0.2326 - val_mse: 0.0958\n",
            "Epoch 41/100\n",
            "8/8 [==============================] - 0s 14ms/step - loss: 0.0090 - mse: 1.1404e-04 - val_loss: 0.2333 - val_mse: 0.0963\n",
            "Epoch 42/100\n",
            "8/8 [==============================] - 0s 13ms/step - loss: 0.0089 - mse: 1.1183e-04 - val_loss: 0.2340 - val_mse: 0.0967\n",
            "Epoch 43/100\n",
            "8/8 [==============================] - 0s 14ms/step - loss: 0.0087 - mse: 1.1004e-04 - val_loss: 0.2345 - val_mse: 0.0970\n",
            "Epoch 44/100\n",
            "8/8 [==============================] - 0s 13ms/step - loss: 0.0086 - mse: 1.0889e-04 - val_loss: 0.2350 - val_mse: 0.0973\n",
            "Epoch 45/100\n",
            "8/8 [==============================] - 0s 14ms/step - loss: 0.0086 - mse: 1.0801e-04 - val_loss: 0.2355 - val_mse: 0.0976\n",
            "Epoch 46/100\n",
            "8/8 [==============================] - 0s 16ms/step - loss: 0.0085 - mse: 1.0711e-04 - val_loss: 0.2359 - val_mse: 0.0979\n",
            "Epoch 47/100\n",
            "8/8 [==============================] - 0s 14ms/step - loss: 0.0084 - mse: 1.0657e-04 - val_loss: 0.2362 - val_mse: 0.0982\n",
            "Epoch 48/100\n",
            "8/8 [==============================] - 0s 14ms/step - loss: 0.0084 - mse: 1.0620e-04 - val_loss: 0.2366 - val_mse: 0.0984\n",
            "Epoch 49/100\n",
            "8/8 [==============================] - 0s 13ms/step - loss: 0.0083 - mse: 1.0591e-04 - val_loss: 0.2369 - val_mse: 0.0986\n",
            "Epoch 50/100\n",
            "8/8 [==============================] - 0s 13ms/step - loss: 0.0083 - mse: 1.0539e-04 - val_loss: 0.2373 - val_mse: 0.0988\n",
            "Epoch 51/100\n",
            "8/8 [==============================] - 0s 13ms/step - loss: 0.0083 - mse: 1.0535e-04 - val_loss: 0.2376 - val_mse: 0.0990\n",
            "Epoch 52/100\n",
            "8/8 [==============================] - 0s 13ms/step - loss: 0.0082 - mse: 1.0528e-04 - val_loss: 0.2379 - val_mse: 0.0992\n",
            "Epoch 53/100\n",
            "8/8 [==============================] - 0s 14ms/step - loss: 0.0082 - mse: 1.0513e-04 - val_loss: 0.2381 - val_mse: 0.0994\n",
            "Epoch 54/100\n",
            "8/8 [==============================] - 0s 13ms/step - loss: 0.0082 - mse: 1.0490e-04 - val_loss: 0.2384 - val_mse: 0.0996\n",
            "Epoch 55/100\n",
            "8/8 [==============================] - 0s 13ms/step - loss: 0.0081 - mse: 1.0514e-04 - val_loss: 0.2387 - val_mse: 0.0998\n",
            "Epoch 56/100\n",
            "8/8 [==============================] - 0s 14ms/step - loss: 0.0081 - mse: 1.0535e-04 - val_loss: 0.2389 - val_mse: 0.0999\n",
            "Epoch 57/100\n",
            "8/8 [==============================] - 0s 13ms/step - loss: 0.0081 - mse: 1.0524e-04 - val_loss: 0.2391 - val_mse: 0.1001\n",
            "Epoch 58/100\n",
            "8/8 [==============================] - 0s 25ms/step - loss: 0.0081 - mse: 1.0522e-04 - val_loss: 0.2392 - val_mse: 0.1001\n",
            "Epoch 59/100\n",
            "8/8 [==============================] - 0s 15ms/step - loss: 0.0081 - mse: 1.0530e-04 - val_loss: 0.2394 - val_mse: 0.1002\n",
            "Epoch 60/100\n",
            "8/8 [==============================] - 0s 15ms/step - loss: 0.0081 - mse: 1.0540e-04 - val_loss: 0.2396 - val_mse: 0.1004\n",
            "Epoch 61/100\n",
            "8/8 [==============================] - 0s 25ms/step - loss: 0.0080 - mse: 1.0547e-04 - val_loss: 0.2398 - val_mse: 0.1005\n",
            "Epoch 62/100\n",
            "8/8 [==============================] - 0s 14ms/step - loss: 0.0080 - mse: 1.0554e-04 - val_loss: 0.2399 - val_mse: 0.1006\n",
            "Epoch 63/100\n",
            "8/8 [==============================] - 0s 14ms/step - loss: 0.0080 - mse: 1.0580e-04 - val_loss: 0.2401 - val_mse: 0.1007\n",
            "Epoch 64/100\n",
            "8/8 [==============================] - 0s 14ms/step - loss: 0.0080 - mse: 1.0586e-04 - val_loss: 0.2402 - val_mse: 0.1008\n",
            "Epoch 65/100\n",
            "8/8 [==============================] - 0s 25ms/step - loss: 0.0080 - mse: 1.0593e-04 - val_loss: 0.2403 - val_mse: 0.1008\n",
            "Epoch 66/100\n",
            "8/8 [==============================] - 0s 25ms/step - loss: 0.0080 - mse: 1.0599e-04 - val_loss: 0.2403 - val_mse: 0.1009\n",
            "Epoch 67/100\n",
            "8/8 [==============================] - 0s 13ms/step - loss: 0.0080 - mse: 1.0617e-04 - val_loss: 0.2405 - val_mse: 0.1010\n",
            "Epoch 68/100\n",
            "8/8 [==============================] - 0s 25ms/step - loss: 0.0080 - mse: 1.0633e-04 - val_loss: 0.2406 - val_mse: 0.1011\n",
            "Epoch 69/100\n",
            "8/8 [==============================] - 0s 14ms/step - loss: 0.0080 - mse: 1.0639e-04 - val_loss: 0.2408 - val_mse: 0.1012\n",
            "Epoch 70/100\n",
            "8/8 [==============================] - 0s 14ms/step - loss: 0.0080 - mse: 1.0655e-04 - val_loss: 0.2409 - val_mse: 0.1012\n",
            "Epoch 71/100\n",
            "8/8 [==============================] - 0s 16ms/step - loss: 0.0080 - mse: 1.0682e-04 - val_loss: 0.2411 - val_mse: 0.1014\n",
            "Epoch 72/100\n",
            "8/8 [==============================] - 0s 25ms/step - loss: 0.0079 - mse: 1.0700e-04 - val_loss: 0.2413 - val_mse: 0.1015\n",
            "Epoch 73/100\n",
            "8/8 [==============================] - 0s 25ms/step - loss: 0.0079 - mse: 1.0729e-04 - val_loss: 0.2415 - val_mse: 0.1016\n",
            "Epoch 74/100\n",
            "8/8 [==============================] - 0s 14ms/step - loss: 0.0079 - mse: 1.0754e-04 - val_loss: 0.2416 - val_mse: 0.1017\n",
            "Epoch 75/100\n",
            "8/8 [==============================] - 0s 13ms/step - loss: 0.0079 - mse: 1.0790e-04 - val_loss: 0.2418 - val_mse: 0.1019\n",
            "Epoch 76/100\n",
            "8/8 [==============================] - 0s 13ms/step - loss: 0.0079 - mse: 1.0803e-04 - val_loss: 0.2420 - val_mse: 0.1020\n",
            "Epoch 77/100\n",
            "8/8 [==============================] - 0s 13ms/step - loss: 0.0079 - mse: 1.0851e-04 - val_loss: 0.2422 - val_mse: 0.1021\n",
            "Epoch 78/100\n",
            "8/8 [==============================] - 0s 13ms/step - loss: 0.0079 - mse: 1.0885e-04 - val_loss: 0.2424 - val_mse: 0.1022\n",
            "Epoch 79/100\n",
            "8/8 [==============================] - 0s 14ms/step - loss: 0.0079 - mse: 1.0916e-04 - val_loss: 0.2425 - val_mse: 0.1024\n",
            "Epoch 80/100\n",
            "8/8 [==============================] - 0s 15ms/step - loss: 0.0079 - mse: 1.0954e-04 - val_loss: 0.2427 - val_mse: 0.1025\n",
            "Epoch 81/100\n",
            "8/8 [==============================] - 0s 25ms/step - loss: 0.0078 - mse: 1.0968e-04 - val_loss: 0.2428 - val_mse: 0.1025\n",
            "Epoch 82/100\n",
            "8/8 [==============================] - 0s 14ms/step - loss: 0.0078 - mse: 1.1003e-04 - val_loss: 0.2429 - val_mse: 0.1026\n",
            "Epoch 83/100\n",
            "8/8 [==============================] - 0s 13ms/step - loss: 0.0078 - mse: 1.1030e-04 - val_loss: 0.2430 - val_mse: 0.1027\n",
            "Epoch 84/100\n",
            "8/8 [==============================] - 0s 14ms/step - loss: 0.0078 - mse: 1.1045e-04 - val_loss: 0.2431 - val_mse: 0.1027\n",
            "Epoch 85/100\n",
            "8/8 [==============================] - 0s 14ms/step - loss: 0.0078 - mse: 1.1048e-04 - val_loss: 0.2431 - val_mse: 0.1027\n",
            "Epoch 86/100\n",
            "8/8 [==============================] - 0s 13ms/step - loss: 0.0078 - mse: 1.1048e-04 - val_loss: 0.2431 - val_mse: 0.1027\n",
            "Epoch 87/100\n",
            "8/8 [==============================] - 0s 14ms/step - loss: 0.0078 - mse: 1.1050e-04 - val_loss: 0.2431 - val_mse: 0.1027\n",
            "Epoch 88/100\n",
            "8/8 [==============================] - 0s 13ms/step - loss: 0.0078 - mse: 1.1059e-04 - val_loss: 0.2431 - val_mse: 0.1028\n",
            "Epoch 89/100\n",
            "8/8 [==============================] - 0s 15ms/step - loss: 0.0078 - mse: 1.1066e-04 - val_loss: 0.2432 - val_mse: 0.1028\n",
            "Epoch 90/100\n",
            "8/8 [==============================] - 0s 13ms/step - loss: 0.0078 - mse: 1.1081e-04 - val_loss: 0.2432 - val_mse: 0.1029\n",
            "Epoch 91/100\n",
            "8/8 [==============================] - 0s 26ms/step - loss: 0.0078 - mse: 1.1092e-04 - val_loss: 0.2432 - val_mse: 0.1029\n",
            "Epoch 92/100\n",
            "8/8 [==============================] - 0s 15ms/step - loss: 0.0078 - mse: 1.1090e-04 - val_loss: 0.2432 - val_mse: 0.1028\n",
            "Epoch 93/100\n",
            "8/8 [==============================] - 0s 14ms/step - loss: 0.0078 - mse: 1.1095e-04 - val_loss: 0.2433 - val_mse: 0.1029\n",
            "Epoch 94/100\n",
            "8/8 [==============================] - 0s 13ms/step - loss: 0.0078 - mse: 1.1109e-04 - val_loss: 0.2433 - val_mse: 0.1029\n",
            "Epoch 95/100\n",
            "8/8 [==============================] - 0s 25ms/step - loss: 0.0078 - mse: 1.1110e-04 - val_loss: 0.2433 - val_mse: 0.1029\n",
            "Epoch 96/100\n",
            "8/8 [==============================] - 0s 25ms/step - loss: 0.0078 - mse: 1.1112e-04 - val_loss: 0.2434 - val_mse: 0.1029\n",
            "Epoch 97/100\n",
            "8/8 [==============================] - 0s 13ms/step - loss: 0.0078 - mse: 1.1121e-04 - val_loss: 0.2434 - val_mse: 0.1029\n",
            "Epoch 98/100\n",
            "8/8 [==============================] - 0s 26ms/step - loss: 0.0078 - mse: 1.1125e-04 - val_loss: 0.2434 - val_mse: 0.1030\n",
            "Epoch 99/100\n",
            "8/8 [==============================] - 0s 13ms/step - loss: 0.0078 - mse: 1.1136e-04 - val_loss: 0.2435 - val_mse: 0.1030\n",
            "Epoch 100/100\n",
            "8/8 [==============================] - 0s 13ms/step - loss: 0.0078 - mse: 1.1145e-04 - val_loss: 0.2435 - val_mse: 0.1030\n"
          ]
        }
      ]
    },
    {
      "cell_type": "code",
      "metadata": {
        "colab": {
          "base_uri": "https://localhost:8080/",
          "height": 571
        },
        "id": "8jvTWoKv0bo0",
        "outputId": "cfe70d73-446b-4e71-87d1-9eae1abfaab5"
      },
      "source": [
        "results = model.predict(x_val)\n",
        "plt.plot(range(len(y_val)),y_val,c='g',label='real')\n",
        "plt.plot(range(len(results)),results,c='r',label='estimado')\n",
        "plt.title('validate')\n",
        "plt.legend(loc='best')"
      ],
      "execution_count": 396,
      "outputs": [
        {
          "output_type": "execute_result",
          "data": {
            "text/plain": [
              "<matplotlib.legend.Legend at 0x7f32ab779a90>"
            ]
          },
          "metadata": {},
          "execution_count": 396
        },
        {
          "output_type": "display_data",
          "data": {
            "image/png": "[encoded data removed]",
            "text/plain": [
              "<Figure size 1152x648 with 1 Axes>"
            ]
          },
          "metadata": {
            "needs_background": "light"
          }
        }
      ]
    }
  ]
}