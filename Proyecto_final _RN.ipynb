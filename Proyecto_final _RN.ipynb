{
  "nbformat": 4,
  "nbformat_minor": 0,
  "metadata": {
    "colab": {
      "name": "Proyecto_final.ipynb",
      "provenance": [],
      "collapsed_sections": []
    },
    "kernelspec": {
      "name": "python3",
      "display_name": "Python 3"
    },
    "language_info": {
      "name": "python"
    }
  },
  "cells": [
    {
      "cell_type": "markdown",
      "metadata": {
        "id": "meYB2tqa6OQN"
      },
      "source": [
        "# Proyecto final\n",
        "Juan Sebastián Ruiz Caro"
      ]
    },
    {
      "cell_type": "code",
      "metadata": {
        "id": "X5neuwck7ADF"
      },
      "source": [
        "import pandas as pd\n",
        "import numpy as np\n",
        "import matplotlib.pylab as plt\n",
        "%matplotlib inline\n",
        "plt.rcParams['figure.figsize'] = (16,9)\n",
        "plt.style.use('fast')\n",
        "\n",
        "from keras.models import Sequential\n",
        "from keras.layers import Dense, Activation, Flatten\n",
        "from sklearn.preprocessing import MinMaxScaler"
      ],
      "execution_count": 348,
      "outputs": []
    },
    {
      "cell_type": "code",
      "metadata": {
        "id": "Ig5atvCpLhmA"
      },
      "source": [
        "from datetime import date, time, datetime\n",
        "import matplotlib.pyplot as plt\n",
        "import seaborn as sns"
      ],
      "execution_count": 349,
      "outputs": []
    },
    {
      "cell_type": "code",
      "metadata": {
        "id": "beDyrvEG9FK9"
      },
      "source": [
        "data = pd.read_csv('/content/Casos_Bogota.csv', sep=','  , engine='python', parse_dates=True)"
      ],
      "execution_count": 350,
      "outputs": []
    },
    {
      "cell_type": "code",
      "metadata": {
        "colab": {
          "base_uri": "https://localhost:8080/",
          "height": 382
        },
        "id": "0_WZrU6cC0ej",
        "outputId": "9d7f073c-1026-4c52-f6a2-867cf2d9ae1b"
      },
      "source": [
        "data.head()"
      ],
      "execution_count": 351,
      "outputs": [
        {
          "output_type": "execute_result",
          "data": {
            "text/html": [
              "<div>\n",
              "<style scoped>\n",
              "    .dataframe tbody tr th:only-of-type {\n",
              "        vertical-align: middle;\n",
              "    }\n",
              "\n",
              "    .dataframe tbody tr th {\n",
              "        vertical-align: top;\n",
              "    }\n",
              "\n",
              "    .dataframe thead th {\n",
              "        text-align: right;\n",
              "    }\n",
              "</style>\n",
              "<table border=\"1\" class=\"dataframe\">\n",
              "  <thead>\n",
              "    <tr style=\"text-align: right;\">\n",
              "      <th></th>\n",
              "      <th>fecha reporte web</th>\n",
              "      <th>ID de caso</th>\n",
              "      <th>Fecha de notificación</th>\n",
              "      <th>Código DIVIPOLA departamento</th>\n",
              "      <th>Nombre departamento</th>\n",
              "      <th>Código DIVIPOLA municipio</th>\n",
              "      <th>Nombre municipio</th>\n",
              "      <th>Edad</th>\n",
              "      <th>Unidad de medida de edad</th>\n",
              "      <th>Sexo</th>\n",
              "      <th>Tipo de contagio</th>\n",
              "      <th>Ubicación del caso</th>\n",
              "      <th>Estado</th>\n",
              "      <th>Código ISO del país</th>\n",
              "      <th>Nombre del país</th>\n",
              "      <th>Recuperado</th>\n",
              "      <th>Fecha de inicio de síntomas</th>\n",
              "      <th>Fecha de muerte</th>\n",
              "      <th>Fecha de diagnóstico</th>\n",
              "      <th>Fecha de recuperación</th>\n",
              "      <th>Tipo de recuperación</th>\n",
              "      <th>Pertenencia étnica</th>\n",
              "      <th>Nombre del grupo étnico</th>\n",
              "    </tr>\n",
              "  </thead>\n",
              "  <tbody>\n",
              "    <tr>\n",
              "      <th>0</th>\n",
              "      <td>6/3/2020 0:00:00</td>\n",
              "      <td>1</td>\n",
              "      <td>2/3/2020 0:00:00</td>\n",
              "      <td>11</td>\n",
              "      <td>BOGOTA</td>\n",
              "      <td>11001</td>\n",
              "      <td>BOGOTA</td>\n",
              "      <td>19</td>\n",
              "      <td>1</td>\n",
              "      <td>F</td>\n",
              "      <td>Importado</td>\n",
              "      <td>Casa</td>\n",
              "      <td>Leve</td>\n",
              "      <td>380.0</td>\n",
              "      <td>ITALIA</td>\n",
              "      <td>Recuperado</td>\n",
              "      <td>27/2/2020 0:00:00</td>\n",
              "      <td>NaN</td>\n",
              "      <td>6/3/2020 0:00:00</td>\n",
              "      <td>13/3/2020 0:00:00</td>\n",
              "      <td>PCR</td>\n",
              "      <td>6.0</td>\n",
              "      <td>NaN</td>\n",
              "    </tr>\n",
              "    <tr>\n",
              "      <th>1</th>\n",
              "      <td>11/3/2020 0:00:00</td>\n",
              "      <td>8</td>\n",
              "      <td>9/3/2020 0:00:00</td>\n",
              "      <td>11</td>\n",
              "      <td>BOGOTA</td>\n",
              "      <td>11001</td>\n",
              "      <td>BOGOTA</td>\n",
              "      <td>22</td>\n",
              "      <td>1</td>\n",
              "      <td>F</td>\n",
              "      <td>Importado</td>\n",
              "      <td>Casa</td>\n",
              "      <td>Leve</td>\n",
              "      <td>724.0</td>\n",
              "      <td>ESPAÑA</td>\n",
              "      <td>Recuperado</td>\n",
              "      <td>6/3/2020 0:00:00</td>\n",
              "      <td>NaN</td>\n",
              "      <td>11/3/2020 0:00:00</td>\n",
              "      <td>21/3/2020 0:00:00</td>\n",
              "      <td>PCR</td>\n",
              "      <td>6.0</td>\n",
              "      <td>NaN</td>\n",
              "    </tr>\n",
              "    <tr>\n",
              "      <th>2</th>\n",
              "      <td>11/3/2020 0:00:00</td>\n",
              "      <td>9</td>\n",
              "      <td>8/3/2020 0:00:00</td>\n",
              "      <td>11</td>\n",
              "      <td>BOGOTA</td>\n",
              "      <td>11001</td>\n",
              "      <td>BOGOTA</td>\n",
              "      <td>28</td>\n",
              "      <td>1</td>\n",
              "      <td>F</td>\n",
              "      <td>Importado</td>\n",
              "      <td>Casa</td>\n",
              "      <td>Leve</td>\n",
              "      <td>724.0</td>\n",
              "      <td>ESPAÑA</td>\n",
              "      <td>Recuperado</td>\n",
              "      <td>7/3/2020 0:00:00</td>\n",
              "      <td>NaN</td>\n",
              "      <td>11/3/2020 0:00:00</td>\n",
              "      <td>23/3/2020 0:00:00</td>\n",
              "      <td>PCR</td>\n",
              "      <td>6.0</td>\n",
              "      <td>NaN</td>\n",
              "    </tr>\n",
              "    <tr>\n",
              "      <th>3</th>\n",
              "      <td>12/3/2020 0:00:00</td>\n",
              "      <td>10</td>\n",
              "      <td>12/3/2020 0:00:00</td>\n",
              "      <td>11</td>\n",
              "      <td>BOGOTA</td>\n",
              "      <td>11001</td>\n",
              "      <td>BOGOTA</td>\n",
              "      <td>36</td>\n",
              "      <td>1</td>\n",
              "      <td>F</td>\n",
              "      <td>Importado</td>\n",
              "      <td>Casa</td>\n",
              "      <td>Leve</td>\n",
              "      <td>724.0</td>\n",
              "      <td>ESPAÑA</td>\n",
              "      <td>Recuperado</td>\n",
              "      <td>6/3/2020 0:00:00</td>\n",
              "      <td>NaN</td>\n",
              "      <td>12/3/2020 0:00:00</td>\n",
              "      <td>21/3/2020 0:00:00</td>\n",
              "      <td>PCR</td>\n",
              "      <td>6.0</td>\n",
              "      <td>NaN</td>\n",
              "    </tr>\n",
              "    <tr>\n",
              "      <th>4</th>\n",
              "      <td>12/3/2020 0:00:00</td>\n",
              "      <td>11</td>\n",
              "      <td>11/3/2020 0:00:00</td>\n",
              "      <td>11</td>\n",
              "      <td>BOGOTA</td>\n",
              "      <td>11001</td>\n",
              "      <td>BOGOTA</td>\n",
              "      <td>42</td>\n",
              "      <td>1</td>\n",
              "      <td>F</td>\n",
              "      <td>Importado</td>\n",
              "      <td>Casa</td>\n",
              "      <td>Leve</td>\n",
              "      <td>724.0</td>\n",
              "      <td>ESPAÑA</td>\n",
              "      <td>Recuperado</td>\n",
              "      <td>6/3/2020 0:00:00</td>\n",
              "      <td>NaN</td>\n",
              "      <td>12/3/2020 0:00:00</td>\n",
              "      <td>31/3/2020 0:00:00</td>\n",
              "      <td>PCR</td>\n",
              "      <td>6.0</td>\n",
              "      <td>NaN</td>\n",
              "    </tr>\n",
              "  </tbody>\n",
              "</table>\n",
              "</div>"
            ],
            "text/plain": [
              "   fecha reporte web  ID de caso  ... Pertenencia étnica  Nombre del grupo étnico\n",
              "0   6/3/2020 0:00:00           1  ...                6.0                      NaN\n",
              "1  11/3/2020 0:00:00           8  ...                6.0                      NaN\n",
              "2  11/3/2020 0:00:00           9  ...                6.0                      NaN\n",
              "3  12/3/2020 0:00:00          10  ...                6.0                      NaN\n",
              "4  12/3/2020 0:00:00          11  ...                6.0                      NaN\n",
              "\n",
              "[5 rows x 23 columns]"
            ]
          },
          "metadata": {},
          "execution_count": 351
        }
      ]
    },
    {
      "cell_type": "code",
      "metadata": {
        "colab": {
          "base_uri": "https://localhost:8080/"
        },
        "id": "SFacyIe-C9_g",
        "outputId": "51899013-35e7-4436-a03e-968f18822723"
      },
      "source": [
        "data.columns"
      ],
      "execution_count": 352,
      "outputs": [
        {
          "output_type": "execute_result",
          "data": {
            "text/plain": [
              "Index(['fecha reporte web', 'ID de caso', 'Fecha de notificación',\n",
              "       'Código DIVIPOLA departamento', 'Nombre departamento',\n",
              "       'Código DIVIPOLA municipio', 'Nombre municipio', 'Edad',\n",
              "       'Unidad de medida de edad', 'Sexo', 'Tipo de contagio',\n",
              "       'Ubicación del caso', 'Estado', 'Código ISO del país',\n",
              "       'Nombre del país', 'Recuperado', 'Fecha de inicio de síntomas',\n",
              "       'Fecha de muerte', 'Fecha de diagnóstico', 'Fecha de recuperación',\n",
              "       'Tipo de recuperación', 'Pertenencia étnica',\n",
              "       'Nombre del grupo étnico'],\n",
              "      dtype='object')"
            ]
          },
          "metadata": {},
          "execution_count": 352
        }
      ]
    },
    {
      "cell_type": "code",
      "metadata": {
        "id": "9G-fYTwYC1qM"
      },
      "source": [
        "data_1 = data[data['Nombre departamento'] == 'BOGOTA']"
      ],
      "execution_count": 353,
      "outputs": []
    },
    {
      "cell_type": "markdown",
      "metadata": {
        "id": "-O9SlhR0ObYE"
      },
      "source": [
        "## Análisis exploratorio de datos"
      ]
    },
    {
      "cell_type": "code",
      "metadata": {
        "id": "vYrMKcsgP0jz"
      },
      "source": [
        "Datos = data_1.filter(['Edad', 'Sexo','Tipo de contagio', 'Ubicación del caso', 'Estado'])"
      ],
      "execution_count": 354,
      "outputs": []
    },
    {
      "cell_type": "markdown",
      "metadata": {
        "id": "1Eo5htxBSK97"
      },
      "source": [
        "### Edad\n",
        "En promedio, los contagiados en la ciudad de Bogota tiene una edad de $38.57$ años. El individuo contagiado con menos edad tuvo un año, en contra posición, la persona con mas edad que contrago el virus tiene $114$ años. Ademas, la distribución de las edades presenta asimetria positiva, es decir, es mas frecuente encontrar dentro de los contagiados personas con edades entre los $20$ y $40$ años."
      ]
    },
    {
      "cell_type": "code",
      "metadata": {
        "colab": {
          "base_uri": "https://localhost:8080/",
          "height": 300
        },
        "id": "1oePx8cZQl5k",
        "outputId": "eae4606e-1da9-4aff-a0ef-cdcc7e0e977f"
      },
      "source": [
        "pd.DataFrame(Datos['Edad'].describe().round(2))"
      ],
      "execution_count": 355,
      "outputs": [
        {
          "output_type": "execute_result",
          "data": {
            "text/html": [
              "<div>\n",
              "<style scoped>\n",
              "    .dataframe tbody tr th:only-of-type {\n",
              "        vertical-align: middle;\n",
              "    }\n",
              "\n",
              "    .dataframe tbody tr th {\n",
              "        vertical-align: top;\n",
              "    }\n",
              "\n",
              "    .dataframe thead th {\n",
              "        text-align: right;\n",
              "    }\n",
              "</style>\n",
              "<table border=\"1\" class=\"dataframe\">\n",
              "  <thead>\n",
              "    <tr style=\"text-align: right;\">\n",
              "      <th></th>\n",
              "      <th>Edad</th>\n",
              "    </tr>\n",
              "  </thead>\n",
              "  <tbody>\n",
              "    <tr>\n",
              "      <th>count</th>\n",
              "      <td>1460569.00</td>\n",
              "    </tr>\n",
              "    <tr>\n",
              "      <th>mean</th>\n",
              "      <td>38.57</td>\n",
              "    </tr>\n",
              "    <tr>\n",
              "      <th>std</th>\n",
              "      <td>17.65</td>\n",
              "    </tr>\n",
              "    <tr>\n",
              "      <th>min</th>\n",
              "      <td>1.00</td>\n",
              "    </tr>\n",
              "    <tr>\n",
              "      <th>25%</th>\n",
              "      <td>26.00</td>\n",
              "    </tr>\n",
              "    <tr>\n",
              "      <th>50%</th>\n",
              "      <td>36.00</td>\n",
              "    </tr>\n",
              "    <tr>\n",
              "      <th>75%</th>\n",
              "      <td>51.00</td>\n",
              "    </tr>\n",
              "    <tr>\n",
              "      <th>max</th>\n",
              "      <td>114.00</td>\n",
              "    </tr>\n",
              "  </tbody>\n",
              "</table>\n",
              "</div>"
            ],
            "text/plain": [
              "             Edad\n",
              "count  1460569.00\n",
              "mean        38.57\n",
              "std         17.65\n",
              "min          1.00\n",
              "25%         26.00\n",
              "50%         36.00\n",
              "75%         51.00\n",
              "max        114.00"
            ]
          },
          "metadata": {},
          "execution_count": 355
        }
      ]
    },
    {
      "cell_type": "code",
      "metadata": {
        "colab": {
          "base_uri": "https://localhost:8080/",
          "height": 626
        },
        "id": "7uDCTHVxRCF6",
        "outputId": "92610aac-3c29-43d3-941d-b09ce9332080"
      },
      "source": [
        "sns.distplot(Datos['Edad'])"
      ],
      "execution_count": 356,
      "outputs": [
        {
          "output_type": "stream",
          "name": "stderr",
          "text": [
            "/usr/local/lib/python3.7/dist-packages/seaborn/distributions.py:2619: FutureWarning: `distplot` is a deprecated function and will be removed in a future version. Please adapt your code to use either `displot` (a figure-level function with similar flexibility) or `histplot` (an axes-level function for histograms).\n",
            "  warnings.warn(msg, FutureWarning)\n"
          ]
        },
        {
          "output_type": "execute_result",
          "data": {
            "text/plain": [
              "<matplotlib.axes._subplots.AxesSubplot at 0x7f32620ea3d0>"
            ]
          },
          "metadata": {},
          "execution_count": 356
        },
        {
          "output_type": "display_data",
          "data": {
            "image/png": "[encoded data removed]",
            "text/plain": [
              "<Figure size 1152x648 with 1 Axes>"
            ]
          },
          "metadata": {
            "needs_background": "light"
          }
        }
      ]
    },
    {
      "cell_type": "markdown",
      "metadata": {
        "id": "_N0xqBfnTkH2"
      },
      "source": [
        "### Sexo\n",
        "En cuanto al sexo de los contagiados en la ciudad de Bogotá, observamos que se presenta de manera similar tanto en el sexo masculino como femenino, aunque levemente se presenta un poco mas en el sexo femenino con un $53.454$% de los casos."
      ]
    },
    {
      "cell_type": "code",
      "metadata": {
        "id": "gm1GjiguFcTK",
        "colab": {
          "base_uri": "https://localhost:8080/",
          "height": 174
        },
        "outputId": "f1d78e19-7386-4356-ff6b-08f315d91d96"
      },
      "source": [
        "pd.DataFrame(round(100*Datos['Sexo'].value_counts()/Datos['Sexo'].value_counts().sum(),3))"
      ],
      "execution_count": 357,
      "outputs": [
        {
          "output_type": "execute_result",
          "data": {
            "text/html": [
              "<div>\n",
              "<style scoped>\n",
              "    .dataframe tbody tr th:only-of-type {\n",
              "        vertical-align: middle;\n",
              "    }\n",
              "\n",
              "    .dataframe tbody tr th {\n",
              "        vertical-align: top;\n",
              "    }\n",
              "\n",
              "    .dataframe thead th {\n",
              "        text-align: right;\n",
              "    }\n",
              "</style>\n",
              "<table border=\"1\" class=\"dataframe\">\n",
              "  <thead>\n",
              "    <tr style=\"text-align: right;\">\n",
              "      <th></th>\n",
              "      <th>Sexo</th>\n",
              "    </tr>\n",
              "  </thead>\n",
              "  <tbody>\n",
              "    <tr>\n",
              "      <th>F</th>\n",
              "      <td>53.454</td>\n",
              "    </tr>\n",
              "    <tr>\n",
              "      <th>M</th>\n",
              "      <td>46.545</td>\n",
              "    </tr>\n",
              "    <tr>\n",
              "      <th>m</th>\n",
              "      <td>0.000</td>\n",
              "    </tr>\n",
              "    <tr>\n",
              "      <th>f</th>\n",
              "      <td>0.000</td>\n",
              "    </tr>\n",
              "  </tbody>\n",
              "</table>\n",
              "</div>"
            ],
            "text/plain": [
              "     Sexo\n",
              "F  53.454\n",
              "M  46.545\n",
              "m   0.000\n",
              "f   0.000"
            ]
          },
          "metadata": {},
          "execution_count": 357
        }
      ]
    },
    {
      "cell_type": "code",
      "metadata": {
        "id": "xJx_tGgAFbTw",
        "colab": {
          "base_uri": "https://localhost:8080/",
          "height": 566
        },
        "outputId": "278cd82b-ea79-41de-df8f-044680e92e82"
      },
      "source": [
        "plt.bar(['Femenino', 'Masculino'], [427154 + 3 , 377545 + 2], color = ['orange','green'])\n",
        "plt.title('Sexo de los contagiados en la ciudad de Bogotá')\n",
        "plt.xlabel('Sexo')\n",
        "plt.ylabel('Frecuencia')\n",
        "plt.show()"
      ],
      "execution_count": 358,
      "outputs": [
        {
          "output_type": "display_data",
          "data": {
            "image/png": "[encoded data removed]",
            "text/plain": [
              "<Figure size 1152x648 with 1 Axes>"
            ]
          },
          "metadata": {
            "needs_background": "light"
          }
        }
      ]
    },
    {
      "cell_type": "markdown",
      "metadata": {
        "id": "txgg5UwNU5xD"
      },
      "source": [
        "### Tipo de contagio\n",
        "\n",
        "El tipo de contagio mas frecuente dentro de los contagiados es en estudio con un $48.47$%, lo que quiere decir que en una parte importante, se desconoce el tipo de contagio de los que contraen el virus, seguido de relacionado con un $36.14$%, unicamente el $0.06$% de los casos son importados."
      ]
    },
    {
      "cell_type": "code",
      "metadata": {
        "colab": {
          "base_uri": "https://localhost:8080/"
        },
        "id": "YYiYzr5NU7Aa",
        "outputId": "31eb7bff-1d3a-4261-933f-5d3ac20efa01"
      },
      "source": [
        "Datos['Tipo de contagio'].value_counts()"
      ],
      "execution_count": 359,
      "outputs": [
        {
          "output_type": "execute_result",
          "data": {
            "text/plain": [
              "En estudio     708003\n",
              "Relacionado    527806\n",
              "Comunitaria    223821\n",
              "Importado         939\n",
              "Name: Tipo de contagio, dtype: int64"
            ]
          },
          "metadata": {},
          "execution_count": 359
        }
      ]
    },
    {
      "cell_type": "code",
      "metadata": {
        "colab": {
          "base_uri": "https://localhost:8080/"
        },
        "id": "0MnH3EGsWbI6",
        "outputId": "c4a0f389-90f6-401d-f341-5937e0e620de"
      },
      "source": [
        "round(100*Datos['Tipo de contagio'].value_counts()/Datos['Tipo de contagio'].value_counts().sum(),2)"
      ],
      "execution_count": 360,
      "outputs": [
        {
          "output_type": "execute_result",
          "data": {
            "text/plain": [
              "En estudio     48.47\n",
              "Relacionado    36.14\n",
              "Comunitaria    15.32\n",
              "Importado       0.06\n",
              "Name: Tipo de contagio, dtype: float64"
            ]
          },
          "metadata": {},
          "execution_count": 360
        }
      ]
    },
    {
      "cell_type": "code",
      "metadata": {
        "colab": {
          "base_uri": "https://localhost:8080/",
          "height": 566
        },
        "id": "bCNqt5HEU__4",
        "outputId": "26f6a3f5-beee-46fc-d9ed-0aff6a6b1b8c"
      },
      "source": [
        "plt.bar(['Relacionado', 'En estudio', 'Comunitaria', 'Importado '], [306639, 273307, 223819,939 ])\n",
        "plt.title('Tipo de contagio en la ciudad de Bogotá')\n",
        "plt.xlabel('Tipo de contagio')\n",
        "plt.ylabel('Frecuencia')\n",
        "plt.show()"
      ],
      "execution_count": 361,
      "outputs": [
        {
          "output_type": "display_data",
          "data": {
            "image/png": "[encoded data removed]",
            "text/plain": [
              "<Figure size 1152x648 with 1 Axes>"
            ]
          },
          "metadata": {
            "needs_background": "light"
          }
        }
      ]
    },
    {
      "cell_type": "markdown",
      "metadata": {
        "id": "k3xGGKKKXDCA"
      },
      "source": [
        "### Ubicación del caso\n",
        "\n",
        "De los casos registrados, el $98.08$% se encuentran en su casa, $1.9$% fallecieron, unicamente el $0.01$% se encuentra en UCI.\n"
      ]
    },
    {
      "cell_type": "code",
      "metadata": {
        "colab": {
          "base_uri": "https://localhost:8080/",
          "height": 206
        },
        "id": "ZPmOjhSuWxKx",
        "outputId": "c1f272a8-d728-485a-8e97-0b9a3a44ce7f"
      },
      "source": [
        "pd.DataFrame(round(100*Datos['Ubicación del caso'].value_counts()/Datos['Ubicación del caso'].value_counts().sum(),2))"
      ],
      "execution_count": 362,
      "outputs": [
        {
          "output_type": "execute_result",
          "data": {
            "text/html": [
              "<div>\n",
              "<style scoped>\n",
              "    .dataframe tbody tr th:only-of-type {\n",
              "        vertical-align: middle;\n",
              "    }\n",
              "\n",
              "    .dataframe tbody tr th {\n",
              "        vertical-align: top;\n",
              "    }\n",
              "\n",
              "    .dataframe thead th {\n",
              "        text-align: right;\n",
              "    }\n",
              "</style>\n",
              "<table border=\"1\" class=\"dataframe\">\n",
              "  <thead>\n",
              "    <tr style=\"text-align: right;\">\n",
              "      <th></th>\n",
              "      <th>Ubicación del caso</th>\n",
              "    </tr>\n",
              "  </thead>\n",
              "  <tbody>\n",
              "    <tr>\n",
              "      <th>Casa</th>\n",
              "      <td>98.04</td>\n",
              "    </tr>\n",
              "    <tr>\n",
              "      <th>Fallecido</th>\n",
              "      <td>1.90</td>\n",
              "    </tr>\n",
              "    <tr>\n",
              "      <th>casa</th>\n",
              "      <td>0.04</td>\n",
              "    </tr>\n",
              "    <tr>\n",
              "      <th>Hospital</th>\n",
              "      <td>0.01</td>\n",
              "    </tr>\n",
              "    <tr>\n",
              "      <th>Hospital UCI</th>\n",
              "      <td>0.01</td>\n",
              "    </tr>\n",
              "  </tbody>\n",
              "</table>\n",
              "</div>"
            ],
            "text/plain": [
              "              Ubicación del caso\n",
              "Casa                       98.04\n",
              "Fallecido                   1.90\n",
              "casa                        0.04\n",
              "Hospital                    0.01\n",
              "Hospital UCI                0.01"
            ]
          },
          "metadata": {},
          "execution_count": 362
        }
      ]
    },
    {
      "cell_type": "code",
      "metadata": {
        "colab": {
          "base_uri": "https://localhost:8080/"
        },
        "id": "38Pwj11WZw5d",
        "outputId": "5d9df059-3c8e-487f-f554-6f9a2caae313"
      },
      "source": [
        "Datos['Ubicación del caso'].value_counts()"
      ],
      "execution_count": 363,
      "outputs": [
        {
          "output_type": "execute_result",
          "data": {
            "text/plain": [
              "Casa            1427285\n",
              "Fallecido         27718\n",
              "casa                558\n",
              "Hospital            111\n",
              "Hospital UCI         93\n",
              "Name: Ubicación del caso, dtype: int64"
            ]
          },
          "metadata": {},
          "execution_count": 363
        }
      ]
    },
    {
      "cell_type": "code",
      "metadata": {
        "colab": {
          "base_uri": "https://localhost:8080/"
        },
        "id": "TCRb2ECmEBwX",
        "outputId": "db4df9d2-0696-41f1-ce20-b1903dd881f6"
      },
      "source": [
        "Datos['Ubicación del caso'].value_counts()"
      ],
      "execution_count": 364,
      "outputs": [
        {
          "output_type": "execute_result",
          "data": {
            "text/plain": [
              "Casa            1427285\n",
              "Fallecido         27718\n",
              "casa                558\n",
              "Hospital            111\n",
              "Hospital UCI         93\n",
              "Name: Ubicación del caso, dtype: int64"
            ]
          },
          "metadata": {},
          "execution_count": 364
        }
      ]
    },
    {
      "cell_type": "code",
      "metadata": {
        "colab": {
          "base_uri": "https://localhost:8080/",
          "height": 566
        },
        "id": "gfZ9h6ZLZdTP",
        "outputId": "147e86ff-839c-40b1-8778-8208c2ed5a09"
      },
      "source": [
        "plt.bar(['Casa', 'Fallecido', 'Hospital', 'Hospital UCI' ], [1427285+558,27718,111,93])\n",
        "plt.title('Ubicación del caso la ciudad de Bogotá')\n",
        "plt.xlabel('Ubicación del caso')\n",
        "plt.ylabel('Frecuencia')\n",
        "plt.show()"
      ],
      "execution_count": 365,
      "outputs": [
        {
          "output_type": "display_data",
          "data": {
            "image/png": "[encoded data removed]",
            "text/plain": [
              "<Figure size 1152x648 with 1 Axes>"
            ]
          },
          "metadata": {
            "needs_background": "light"
          }
        }
      ]
    },
    {
      "cell_type": "code",
      "metadata": {
        "id": "WJjotXBtNIZ8"
      },
      "source": [
        "Casos = data_1['fecha reporte web']"
      ],
      "execution_count": 366,
      "outputs": []
    },
    {
      "cell_type": "code",
      "metadata": {
        "id": "54DgzMl6NvLG"
      },
      "source": [
        "Casos = Casos.str[:-7]"
      ],
      "execution_count": 367,
      "outputs": []
    },
    {
      "cell_type": "code",
      "metadata": {
        "colab": {
          "base_uri": "https://localhost:8080/",
          "height": 454
        },
        "id": "meNbYOZLNSYX",
        "outputId": "0b23a0d8-1d2d-4b89-b1ee-3a3aea122b4d"
      },
      "source": [
        "Casos = pd.DataFrame(Casos) \n",
        "Casos = pd.DataFrame(Casos.value_counts()) ; Casos"
      ],
      "execution_count": 368,
      "outputs": [
        {
          "output_type": "execute_result",
          "data": {
            "text/html": [
              "<div>\n",
              "<style scoped>\n",
              "    .dataframe tbody tr th:only-of-type {\n",
              "        vertical-align: middle;\n",
              "    }\n",
              "\n",
              "    .dataframe tbody tr th {\n",
              "        vertical-align: top;\n",
              "    }\n",
              "\n",
              "    .dataframe thead th {\n",
              "        text-align: right;\n",
              "    }\n",
              "</style>\n",
              "<table border=\"1\" class=\"dataframe\">\n",
              "  <thead>\n",
              "    <tr style=\"text-align: right;\">\n",
              "      <th></th>\n",
              "      <th>0</th>\n",
              "    </tr>\n",
              "    <tr>\n",
              "      <th>fecha reporte web</th>\n",
              "      <th></th>\n",
              "    </tr>\n",
              "  </thead>\n",
              "  <tbody>\n",
              "    <tr>\n",
              "      <th>24/6/2021</th>\n",
              "      <td>15569</td>\n",
              "    </tr>\n",
              "    <tr>\n",
              "      <th>17/6/2021</th>\n",
              "      <td>12493</td>\n",
              "    </tr>\n",
              "    <tr>\n",
              "      <th>19/6/2021</th>\n",
              "      <td>11729</td>\n",
              "    </tr>\n",
              "    <tr>\n",
              "      <th>1/7/2021</th>\n",
              "      <td>11545</td>\n",
              "    </tr>\n",
              "    <tr>\n",
              "      <th>30/6/2021</th>\n",
              "      <td>11493</td>\n",
              "    </tr>\n",
              "    <tr>\n",
              "      <th>...</th>\n",
              "      <td>...</td>\n",
              "    </tr>\n",
              "    <tr>\n",
              "      <th>22/3/2020</th>\n",
              "      <td>4</td>\n",
              "    </tr>\n",
              "    <tr>\n",
              "      <th>12/3/2020</th>\n",
              "      <td>2</td>\n",
              "    </tr>\n",
              "    <tr>\n",
              "      <th>11/3/2020</th>\n",
              "      <td>2</td>\n",
              "    </tr>\n",
              "    <tr>\n",
              "      <th>13/3/2020</th>\n",
              "      <td>1</td>\n",
              "    </tr>\n",
              "    <tr>\n",
              "      <th>6/3/2020</th>\n",
              "      <td>1</td>\n",
              "    </tr>\n",
              "  </tbody>\n",
              "</table>\n",
              "<p>623 rows × 1 columns</p>\n",
              "</div>"
            ],
            "text/plain": [
              "                       0\n",
              "fecha reporte web       \n",
              "24/6/2021          15569\n",
              "17/6/2021          12493\n",
              "19/6/2021          11729\n",
              "1/7/2021           11545\n",
              "30/6/2021          11493\n",
              "...                  ...\n",
              "22/3/2020              4\n",
              "12/3/2020              2\n",
              "11/3/2020              2\n",
              "13/3/2020              1\n",
              "6/3/2020               1\n",
              "\n",
              "[623 rows x 1 columns]"
            ]
          },
          "metadata": {},
          "execution_count": 368
        }
      ]
    },
    {
      "cell_type": "code",
      "metadata": {
        "colab": {
          "base_uri": "https://localhost:8080/",
          "height": 423
        },
        "id": "eEGWizjxQfLE",
        "outputId": "4dfcff3c-c9f4-4515-e2c2-26507b1a4d2a"
      },
      "source": [
        "Casos = Casos.rename_axis(['0']).reset_index() ; Casos"
      ],
      "execution_count": 369,
      "outputs": [
        {
          "output_type": "execute_result",
          "data": {
            "text/html": [
              "<div>\n",
              "<style scoped>\n",
              "    .dataframe tbody tr th:only-of-type {\n",
              "        vertical-align: middle;\n",
              "    }\n",
              "\n",
              "    .dataframe tbody tr th {\n",
              "        vertical-align: top;\n",
              "    }\n",
              "\n",
              "    .dataframe thead th {\n",
              "        text-align: right;\n",
              "    }\n",
              "</style>\n",
              "<table border=\"1\" class=\"dataframe\">\n",
              "  <thead>\n",
              "    <tr style=\"text-align: right;\">\n",
              "      <th></th>\n",
              "      <th>0</th>\n",
              "      <th>0</th>\n",
              "    </tr>\n",
              "  </thead>\n",
              "  <tbody>\n",
              "    <tr>\n",
              "      <th>0</th>\n",
              "      <td>24/6/2021</td>\n",
              "      <td>15569</td>\n",
              "    </tr>\n",
              "    <tr>\n",
              "      <th>1</th>\n",
              "      <td>17/6/2021</td>\n",
              "      <td>12493</td>\n",
              "    </tr>\n",
              "    <tr>\n",
              "      <th>2</th>\n",
              "      <td>19/6/2021</td>\n",
              "      <td>11729</td>\n",
              "    </tr>\n",
              "    <tr>\n",
              "      <th>3</th>\n",
              "      <td>1/7/2021</td>\n",
              "      <td>11545</td>\n",
              "    </tr>\n",
              "    <tr>\n",
              "      <th>4</th>\n",
              "      <td>30/6/2021</td>\n",
              "      <td>11493</td>\n",
              "    </tr>\n",
              "    <tr>\n",
              "      <th>...</th>\n",
              "      <td>...</td>\n",
              "      <td>...</td>\n",
              "    </tr>\n",
              "    <tr>\n",
              "      <th>618</th>\n",
              "      <td>22/3/2020</td>\n",
              "      <td>4</td>\n",
              "    </tr>\n",
              "    <tr>\n",
              "      <th>619</th>\n",
              "      <td>12/3/2020</td>\n",
              "      <td>2</td>\n",
              "    </tr>\n",
              "    <tr>\n",
              "      <th>620</th>\n",
              "      <td>11/3/2020</td>\n",
              "      <td>2</td>\n",
              "    </tr>\n",
              "    <tr>\n",
              "      <th>621</th>\n",
              "      <td>13/3/2020</td>\n",
              "      <td>1</td>\n",
              "    </tr>\n",
              "    <tr>\n",
              "      <th>622</th>\n",
              "      <td>6/3/2020</td>\n",
              "      <td>1</td>\n",
              "    </tr>\n",
              "  </tbody>\n",
              "</table>\n",
              "<p>623 rows × 2 columns</p>\n",
              "</div>"
            ],
            "text/plain": [
              "              0      0\n",
              "0    24/6/2021   15569\n",
              "1    17/6/2021   12493\n",
              "2    19/6/2021   11729\n",
              "3     1/7/2021   11545\n",
              "4    30/6/2021   11493\n",
              "..          ...    ...\n",
              "618  22/3/2020       4\n",
              "619  12/3/2020       2\n",
              "620  11/3/2020       2\n",
              "621  13/3/2020       1\n",
              "622   6/3/2020       1\n",
              "\n",
              "[623 rows x 2 columns]"
            ]
          },
          "metadata": {},
          "execution_count": 369
        }
      ]
    },
    {
      "cell_type": "code",
      "metadata": {
        "id": "lZj5QP3TY2uQ"
      },
      "source": [
        "Casos.columns = ['Fecha', 'f']"
      ],
      "execution_count": 370,
      "outputs": []
    },
    {
      "cell_type": "code",
      "metadata": {
        "colab": {
          "base_uri": "https://localhost:8080/",
          "height": 423
        },
        "id": "4J3M2C5gaOJk",
        "outputId": "105c7ead-357d-4943-c364-02121a0b6155"
      },
      "source": [
        "Casos['Fecha'] = Casos['Fecha'].replace(['1', '2', '3', '4', '5', '6', '7', '8', '9'],['01', '02', '03', '04', '05', '06', '07', '08', '09']) ; Casos"
      ],
      "execution_count": 371,
      "outputs": [
        {
          "output_type": "execute_result",
          "data": {
            "text/html": [
              "<div>\n",
              "<style scoped>\n",
              "    .dataframe tbody tr th:only-of-type {\n",
              "        vertical-align: middle;\n",
              "    }\n",
              "\n",
              "    .dataframe tbody tr th {\n",
              "        vertical-align: top;\n",
              "    }\n",
              "\n",
              "    .dataframe thead th {\n",
              "        text-align: right;\n",
              "    }\n",
              "</style>\n",
              "<table border=\"1\" class=\"dataframe\">\n",
              "  <thead>\n",
              "    <tr style=\"text-align: right;\">\n",
              "      <th></th>\n",
              "      <th>Fecha</th>\n",
              "      <th>f</th>\n",
              "    </tr>\n",
              "  </thead>\n",
              "  <tbody>\n",
              "    <tr>\n",
              "      <th>0</th>\n",
              "      <td>24/6/2021</td>\n",
              "      <td>15569</td>\n",
              "    </tr>\n",
              "    <tr>\n",
              "      <th>1</th>\n",
              "      <td>17/6/2021</td>\n",
              "      <td>12493</td>\n",
              "    </tr>\n",
              "    <tr>\n",
              "      <th>2</th>\n",
              "      <td>19/6/2021</td>\n",
              "      <td>11729</td>\n",
              "    </tr>\n",
              "    <tr>\n",
              "      <th>3</th>\n",
              "      <td>1/7/2021</td>\n",
              "      <td>11545</td>\n",
              "    </tr>\n",
              "    <tr>\n",
              "      <th>4</th>\n",
              "      <td>30/6/2021</td>\n",
              "      <td>11493</td>\n",
              "    </tr>\n",
              "    <tr>\n",
              "      <th>...</th>\n",
              "      <td>...</td>\n",
              "      <td>...</td>\n",
              "    </tr>\n",
              "    <tr>\n",
              "      <th>618</th>\n",
              "      <td>22/3/2020</td>\n",
              "      <td>4</td>\n",
              "    </tr>\n",
              "    <tr>\n",
              "      <th>619</th>\n",
              "      <td>12/3/2020</td>\n",
              "      <td>2</td>\n",
              "    </tr>\n",
              "    <tr>\n",
              "      <th>620</th>\n",
              "      <td>11/3/2020</td>\n",
              "      <td>2</td>\n",
              "    </tr>\n",
              "    <tr>\n",
              "      <th>621</th>\n",
              "      <td>13/3/2020</td>\n",
              "      <td>1</td>\n",
              "    </tr>\n",
              "    <tr>\n",
              "      <th>622</th>\n",
              "      <td>6/3/2020</td>\n",
              "      <td>1</td>\n",
              "    </tr>\n",
              "  </tbody>\n",
              "</table>\n",
              "<p>623 rows × 2 columns</p>\n",
              "</div>"
            ],
            "text/plain": [
              "          Fecha      f\n",
              "0    24/6/2021   15569\n",
              "1    17/6/2021   12493\n",
              "2    19/6/2021   11729\n",
              "3     1/7/2021   11545\n",
              "4    30/6/2021   11493\n",
              "..          ...    ...\n",
              "618  22/3/2020       4\n",
              "619  12/3/2020       2\n",
              "620  11/3/2020       2\n",
              "621  13/3/2020       1\n",
              "622   6/3/2020       1\n",
              "\n",
              "[623 rows x 2 columns]"
            ]
          },
          "metadata": {},
          "execution_count": 371
        }
      ]
    },
    {
      "cell_type": "code",
      "metadata": {
        "colab": {
          "base_uri": "https://localhost:8080/",
          "height": 423
        },
        "id": "4S7YTm8daQUh",
        "outputId": "5b8115c3-7260-4f31-8018-8396b11908b8"
      },
      "source": [
        "Fecha_1 = Casos['Fecha'].str.split('/', expand = True)\n",
        "Fecha_1.columns = ['Dia', 'Mes', 'Año'] ; Fecha_1"
      ],
      "execution_count": 372,
      "outputs": [
        {
          "output_type": "execute_result",
          "data": {
            "text/html": [
              "<div>\n",
              "<style scoped>\n",
              "    .dataframe tbody tr th:only-of-type {\n",
              "        vertical-align: middle;\n",
              "    }\n",
              "\n",
              "    .dataframe tbody tr th {\n",
              "        vertical-align: top;\n",
              "    }\n",
              "\n",
              "    .dataframe thead th {\n",
              "        text-align: right;\n",
              "    }\n",
              "</style>\n",
              "<table border=\"1\" class=\"dataframe\">\n",
              "  <thead>\n",
              "    <tr style=\"text-align: right;\">\n",
              "      <th></th>\n",
              "      <th>Dia</th>\n",
              "      <th>Mes</th>\n",
              "      <th>Año</th>\n",
              "    </tr>\n",
              "  </thead>\n",
              "  <tbody>\n",
              "    <tr>\n",
              "      <th>0</th>\n",
              "      <td>24</td>\n",
              "      <td>6</td>\n",
              "      <td>2021</td>\n",
              "    </tr>\n",
              "    <tr>\n",
              "      <th>1</th>\n",
              "      <td>17</td>\n",
              "      <td>6</td>\n",
              "      <td>2021</td>\n",
              "    </tr>\n",
              "    <tr>\n",
              "      <th>2</th>\n",
              "      <td>19</td>\n",
              "      <td>6</td>\n",
              "      <td>2021</td>\n",
              "    </tr>\n",
              "    <tr>\n",
              "      <th>3</th>\n",
              "      <td>1</td>\n",
              "      <td>7</td>\n",
              "      <td>2021</td>\n",
              "    </tr>\n",
              "    <tr>\n",
              "      <th>4</th>\n",
              "      <td>30</td>\n",
              "      <td>6</td>\n",
              "      <td>2021</td>\n",
              "    </tr>\n",
              "    <tr>\n",
              "      <th>...</th>\n",
              "      <td>...</td>\n",
              "      <td>...</td>\n",
              "      <td>...</td>\n",
              "    </tr>\n",
              "    <tr>\n",
              "      <th>618</th>\n",
              "      <td>22</td>\n",
              "      <td>3</td>\n",
              "      <td>2020</td>\n",
              "    </tr>\n",
              "    <tr>\n",
              "      <th>619</th>\n",
              "      <td>12</td>\n",
              "      <td>3</td>\n",
              "      <td>2020</td>\n",
              "    </tr>\n",
              "    <tr>\n",
              "      <th>620</th>\n",
              "      <td>11</td>\n",
              "      <td>3</td>\n",
              "      <td>2020</td>\n",
              "    </tr>\n",
              "    <tr>\n",
              "      <th>621</th>\n",
              "      <td>13</td>\n",
              "      <td>3</td>\n",
              "      <td>2020</td>\n",
              "    </tr>\n",
              "    <tr>\n",
              "      <th>622</th>\n",
              "      <td>6</td>\n",
              "      <td>3</td>\n",
              "      <td>2020</td>\n",
              "    </tr>\n",
              "  </tbody>\n",
              "</table>\n",
              "<p>623 rows × 3 columns</p>\n",
              "</div>"
            ],
            "text/plain": [
              "    Dia Mes    Año\n",
              "0    24   6  2021 \n",
              "1    17   6  2021 \n",
              "2    19   6  2021 \n",
              "3     1   7  2021 \n",
              "4    30   6  2021 \n",
              "..   ..  ..    ...\n",
              "618  22   3  2020 \n",
              "619  12   3  2020 \n",
              "620  11   3  2020 \n",
              "621  13   3  2020 \n",
              "622   6   3  2020 \n",
              "\n",
              "[623 rows x 3 columns]"
            ]
          },
          "metadata": {},
          "execution_count": 372
        }
      ]
    },
    {
      "cell_type": "code",
      "metadata": {
        "id": "9_Cj88tUbuSn"
      },
      "source": [
        "Fecha_1['Mes'] = Fecha_1['Mes'].replace(['1', '2', '3', '4', '5', '6', '7', '8', '9', '10', '11', '12'],['01', '02', '03', '04', '05', '06', '07', '08', '09', '10', '11', '12'])\n",
        "Fecha_1['Dia'] = Fecha_1['Dia'].replace(['1', '2', '3', '4', '5', '6', '7', '8', '9'],['01', '02', '03', '04', '05', '06', '07', '08', '09'])"
      ],
      "execution_count": 373,
      "outputs": []
    },
    {
      "cell_type": "code",
      "metadata": {
        "colab": {
          "base_uri": "https://localhost:8080/",
          "height": 423
        },
        "id": "7spBKxkrcYYw",
        "outputId": "26626b9c-eae9-4d13-82aa-5646667b4f37"
      },
      "source": [
        "Fecha_1"
      ],
      "execution_count": 374,
      "outputs": [
        {
          "output_type": "execute_result",
          "data": {
            "text/html": [
              "<div>\n",
              "<style scoped>\n",
              "    .dataframe tbody tr th:only-of-type {\n",
              "        vertical-align: middle;\n",
              "    }\n",
              "\n",
              "    .dataframe tbody tr th {\n",
              "        vertical-align: top;\n",
              "    }\n",
              "\n",
              "    .dataframe thead th {\n",
              "        text-align: right;\n",
              "    }\n",
              "</style>\n",
              "<table border=\"1\" class=\"dataframe\">\n",
              "  <thead>\n",
              "    <tr style=\"text-align: right;\">\n",
              "      <th></th>\n",
              "      <th>Dia</th>\n",
              "      <th>Mes</th>\n",
              "      <th>Año</th>\n",
              "    </tr>\n",
              "  </thead>\n",
              "  <tbody>\n",
              "    <tr>\n",
              "      <th>0</th>\n",
              "      <td>24</td>\n",
              "      <td>06</td>\n",
              "      <td>2021</td>\n",
              "    </tr>\n",
              "    <tr>\n",
              "      <th>1</th>\n",
              "      <td>17</td>\n",
              "      <td>06</td>\n",
              "      <td>2021</td>\n",
              "    </tr>\n",
              "    <tr>\n",
              "      <th>2</th>\n",
              "      <td>19</td>\n",
              "      <td>06</td>\n",
              "      <td>2021</td>\n",
              "    </tr>\n",
              "    <tr>\n",
              "      <th>3</th>\n",
              "      <td>01</td>\n",
              "      <td>07</td>\n",
              "      <td>2021</td>\n",
              "    </tr>\n",
              "    <tr>\n",
              "      <th>4</th>\n",
              "      <td>30</td>\n",
              "      <td>06</td>\n",
              "      <td>2021</td>\n",
              "    </tr>\n",
              "    <tr>\n",
              "      <th>...</th>\n",
              "      <td>...</td>\n",
              "      <td>...</td>\n",
              "      <td>...</td>\n",
              "    </tr>\n",
              "    <tr>\n",
              "      <th>618</th>\n",
              "      <td>22</td>\n",
              "      <td>03</td>\n",
              "      <td>2020</td>\n",
              "    </tr>\n",
              "    <tr>\n",
              "      <th>619</th>\n",
              "      <td>12</td>\n",
              "      <td>03</td>\n",
              "      <td>2020</td>\n",
              "    </tr>\n",
              "    <tr>\n",
              "      <th>620</th>\n",
              "      <td>11</td>\n",
              "      <td>03</td>\n",
              "      <td>2020</td>\n",
              "    </tr>\n",
              "    <tr>\n",
              "      <th>621</th>\n",
              "      <td>13</td>\n",
              "      <td>03</td>\n",
              "      <td>2020</td>\n",
              "    </tr>\n",
              "    <tr>\n",
              "      <th>622</th>\n",
              "      <td>06</td>\n",
              "      <td>03</td>\n",
              "      <td>2020</td>\n",
              "    </tr>\n",
              "  </tbody>\n",
              "</table>\n",
              "<p>623 rows × 3 columns</p>\n",
              "</div>"
            ],
            "text/plain": [
              "    Dia Mes    Año\n",
              "0    24  06  2021 \n",
              "1    17  06  2021 \n",
              "2    19  06  2021 \n",
              "3    01  07  2021 \n",
              "4    30  06  2021 \n",
              "..   ..  ..    ...\n",
              "618  22  03  2020 \n",
              "619  12  03  2020 \n",
              "620  11  03  2020 \n",
              "621  13  03  2020 \n",
              "622  06  03  2020 \n",
              "\n",
              "[623 rows x 3 columns]"
            ]
          },
          "metadata": {},
          "execution_count": 374
        }
      ]
    },
    {
      "cell_type": "code",
      "metadata": {
        "colab": {
          "base_uri": "https://localhost:8080/",
          "height": 423
        },
        "id": "xsQn-BjncbWf",
        "outputId": "b0dec2bd-d683-4e75-bafa-10e83db9ebc2"
      },
      "source": [
        "Fecha_1['Fecha final'] = Fecha_1['Mes'] + \"/\" + Fecha_1['Dia'] + '/' + Fecha_1['Año'] ; Fecha_1"
      ],
      "execution_count": 375,
      "outputs": [
        {
          "output_type": "execute_result",
          "data": {
            "text/html": [
              "<div>\n",
              "<style scoped>\n",
              "    .dataframe tbody tr th:only-of-type {\n",
              "        vertical-align: middle;\n",
              "    }\n",
              "\n",
              "    .dataframe tbody tr th {\n",
              "        vertical-align: top;\n",
              "    }\n",
              "\n",
              "    .dataframe thead th {\n",
              "        text-align: right;\n",
              "    }\n",
              "</style>\n",
              "<table border=\"1\" class=\"dataframe\">\n",
              "  <thead>\n",
              "    <tr style=\"text-align: right;\">\n",
              "      <th></th>\n",
              "      <th>Dia</th>\n",
              "      <th>Mes</th>\n",
              "      <th>Año</th>\n",
              "      <th>Fecha final</th>\n",
              "    </tr>\n",
              "  </thead>\n",
              "  <tbody>\n",
              "    <tr>\n",
              "      <th>0</th>\n",
              "      <td>24</td>\n",
              "      <td>06</td>\n",
              "      <td>2021</td>\n",
              "      <td>06/24/2021</td>\n",
              "    </tr>\n",
              "    <tr>\n",
              "      <th>1</th>\n",
              "      <td>17</td>\n",
              "      <td>06</td>\n",
              "      <td>2021</td>\n",
              "      <td>06/17/2021</td>\n",
              "    </tr>\n",
              "    <tr>\n",
              "      <th>2</th>\n",
              "      <td>19</td>\n",
              "      <td>06</td>\n",
              "      <td>2021</td>\n",
              "      <td>06/19/2021</td>\n",
              "    </tr>\n",
              "    <tr>\n",
              "      <th>3</th>\n",
              "      <td>01</td>\n",
              "      <td>07</td>\n",
              "      <td>2021</td>\n",
              "      <td>07/01/2021</td>\n",
              "    </tr>\n",
              "    <tr>\n",
              "      <th>4</th>\n",
              "      <td>30</td>\n",
              "      <td>06</td>\n",
              "      <td>2021</td>\n",
              "      <td>06/30/2021</td>\n",
              "    </tr>\n",
              "    <tr>\n",
              "      <th>...</th>\n",
              "      <td>...</td>\n",
              "      <td>...</td>\n",
              "      <td>...</td>\n",
              "      <td>...</td>\n",
              "    </tr>\n",
              "    <tr>\n",
              "      <th>618</th>\n",
              "      <td>22</td>\n",
              "      <td>03</td>\n",
              "      <td>2020</td>\n",
              "      <td>03/22/2020</td>\n",
              "    </tr>\n",
              "    <tr>\n",
              "      <th>619</th>\n",
              "      <td>12</td>\n",
              "      <td>03</td>\n",
              "      <td>2020</td>\n",
              "      <td>03/12/2020</td>\n",
              "    </tr>\n",
              "    <tr>\n",
              "      <th>620</th>\n",
              "      <td>11</td>\n",
              "      <td>03</td>\n",
              "      <td>2020</td>\n",
              "      <td>03/11/2020</td>\n",
              "    </tr>\n",
              "    <tr>\n",
              "      <th>621</th>\n",
              "      <td>13</td>\n",
              "      <td>03</td>\n",
              "      <td>2020</td>\n",
              "      <td>03/13/2020</td>\n",
              "    </tr>\n",
              "    <tr>\n",
              "      <th>622</th>\n",
              "      <td>06</td>\n",
              "      <td>03</td>\n",
              "      <td>2020</td>\n",
              "      <td>03/06/2020</td>\n",
              "    </tr>\n",
              "  </tbody>\n",
              "</table>\n",
              "<p>623 rows × 4 columns</p>\n",
              "</div>"
            ],
            "text/plain": [
              "    Dia Mes    Año  Fecha final\n",
              "0    24  06  2021   06/24/2021 \n",
              "1    17  06  2021   06/17/2021 \n",
              "2    19  06  2021   06/19/2021 \n",
              "3    01  07  2021   07/01/2021 \n",
              "4    30  06  2021   06/30/2021 \n",
              "..   ..  ..    ...          ...\n",
              "618  22  03  2020   03/22/2020 \n",
              "619  12  03  2020   03/12/2020 \n",
              "620  11  03  2020   03/11/2020 \n",
              "621  13  03  2020   03/13/2020 \n",
              "622  06  03  2020   03/06/2020 \n",
              "\n",
              "[623 rows x 4 columns]"
            ]
          },
          "metadata": {},
          "execution_count": 375
        }
      ]
    },
    {
      "cell_type": "code",
      "metadata": {
        "colab": {
          "base_uri": "https://localhost:8080/",
          "height": 423
        },
        "id": "BP0-2VmZmdSH",
        "outputId": "2790f4fd-3ed7-4197-9d51-c13bd5969460"
      },
      "source": [
        "Serie_tiempo = pd.concat([Casos,Fecha_1['Fecha final']], axis=1) ; Serie_tiempo"
      ],
      "execution_count": 376,
      "outputs": [
        {
          "output_type": "execute_result",
          "data": {
            "text/html": [
              "<div>\n",
              "<style scoped>\n",
              "    .dataframe tbody tr th:only-of-type {\n",
              "        vertical-align: middle;\n",
              "    }\n",
              "\n",
              "    .dataframe tbody tr th {\n",
              "        vertical-align: top;\n",
              "    }\n",
              "\n",
              "    .dataframe thead th {\n",
              "        text-align: right;\n",
              "    }\n",
              "</style>\n",
              "<table border=\"1\" class=\"dataframe\">\n",
              "  <thead>\n",
              "    <tr style=\"text-align: right;\">\n",
              "      <th></th>\n",
              "      <th>Fecha</th>\n",
              "      <th>f</th>\n",
              "      <th>Fecha final</th>\n",
              "    </tr>\n",
              "  </thead>\n",
              "  <tbody>\n",
              "    <tr>\n",
              "      <th>0</th>\n",
              "      <td>24/6/2021</td>\n",
              "      <td>15569</td>\n",
              "      <td>06/24/2021</td>\n",
              "    </tr>\n",
              "    <tr>\n",
              "      <th>1</th>\n",
              "      <td>17/6/2021</td>\n",
              "      <td>12493</td>\n",
              "      <td>06/17/2021</td>\n",
              "    </tr>\n",
              "    <tr>\n",
              "      <th>2</th>\n",
              "      <td>19/6/2021</td>\n",
              "      <td>11729</td>\n",
              "      <td>06/19/2021</td>\n",
              "    </tr>\n",
              "    <tr>\n",
              "      <th>3</th>\n",
              "      <td>1/7/2021</td>\n",
              "      <td>11545</td>\n",
              "      <td>07/01/2021</td>\n",
              "    </tr>\n",
              "    <tr>\n",
              "      <th>4</th>\n",
              "      <td>30/6/2021</td>\n",
              "      <td>11493</td>\n",
              "      <td>06/30/2021</td>\n",
              "    </tr>\n",
              "    <tr>\n",
              "      <th>...</th>\n",
              "      <td>...</td>\n",
              "      <td>...</td>\n",
              "      <td>...</td>\n",
              "    </tr>\n",
              "    <tr>\n",
              "      <th>618</th>\n",
              "      <td>22/3/2020</td>\n",
              "      <td>4</td>\n",
              "      <td>03/22/2020</td>\n",
              "    </tr>\n",
              "    <tr>\n",
              "      <th>619</th>\n",
              "      <td>12/3/2020</td>\n",
              "      <td>2</td>\n",
              "      <td>03/12/2020</td>\n",
              "    </tr>\n",
              "    <tr>\n",
              "      <th>620</th>\n",
              "      <td>11/3/2020</td>\n",
              "      <td>2</td>\n",
              "      <td>03/11/2020</td>\n",
              "    </tr>\n",
              "    <tr>\n",
              "      <th>621</th>\n",
              "      <td>13/3/2020</td>\n",
              "      <td>1</td>\n",
              "      <td>03/13/2020</td>\n",
              "    </tr>\n",
              "    <tr>\n",
              "      <th>622</th>\n",
              "      <td>6/3/2020</td>\n",
              "      <td>1</td>\n",
              "      <td>03/06/2020</td>\n",
              "    </tr>\n",
              "  </tbody>\n",
              "</table>\n",
              "<p>623 rows × 3 columns</p>\n",
              "</div>"
            ],
            "text/plain": [
              "          Fecha      f  Fecha final\n",
              "0    24/6/2021   15569  06/24/2021 \n",
              "1    17/6/2021   12493  06/17/2021 \n",
              "2    19/6/2021   11729  06/19/2021 \n",
              "3     1/7/2021   11545  07/01/2021 \n",
              "4    30/6/2021   11493  06/30/2021 \n",
              "..          ...    ...          ...\n",
              "618  22/3/2020       4  03/22/2020 \n",
              "619  12/3/2020       2  03/12/2020 \n",
              "620  11/3/2020       2  03/11/2020 \n",
              "621  13/3/2020       1  03/13/2020 \n",
              "622   6/3/2020       1  03/06/2020 \n",
              "\n",
              "[623 rows x 3 columns]"
            ]
          },
          "metadata": {},
          "execution_count": 376
        }
      ]
    },
    {
      "cell_type": "code",
      "metadata": {
        "colab": {
          "base_uri": "https://localhost:8080/",
          "height": 423
        },
        "id": "qzJGfrBtoJG7",
        "outputId": "1d8ade70-e9ae-4e67-b2f3-1e8f5f2349f2"
      },
      "source": [
        "Serie_tiempo"
      ],
      "execution_count": 377,
      "outputs": [
        {
          "output_type": "execute_result",
          "data": {
            "text/html": [
              "<div>\n",
              "<style scoped>\n",
              "    .dataframe tbody tr th:only-of-type {\n",
              "        vertical-align: middle;\n",
              "    }\n",
              "\n",
              "    .dataframe tbody tr th {\n",
              "        vertical-align: top;\n",
              "    }\n",
              "\n",
              "    .dataframe thead th {\n",
              "        text-align: right;\n",
              "    }\n",
              "</style>\n",
              "<table border=\"1\" class=\"dataframe\">\n",
              "  <thead>\n",
              "    <tr style=\"text-align: right;\">\n",
              "      <th></th>\n",
              "      <th>Fecha</th>\n",
              "      <th>f</th>\n",
              "      <th>Fecha final</th>\n",
              "    </tr>\n",
              "  </thead>\n",
              "  <tbody>\n",
              "    <tr>\n",
              "      <th>0</th>\n",
              "      <td>24/6/2021</td>\n",
              "      <td>15569</td>\n",
              "      <td>06/24/2021</td>\n",
              "    </tr>\n",
              "    <tr>\n",
              "      <th>1</th>\n",
              "      <td>17/6/2021</td>\n",
              "      <td>12493</td>\n",
              "      <td>06/17/2021</td>\n",
              "    </tr>\n",
              "    <tr>\n",
              "      <th>2</th>\n",
              "      <td>19/6/2021</td>\n",
              "      <td>11729</td>\n",
              "      <td>06/19/2021</td>\n",
              "    </tr>\n",
              "    <tr>\n",
              "      <th>3</th>\n",
              "      <td>1/7/2021</td>\n",
              "      <td>11545</td>\n",
              "      <td>07/01/2021</td>\n",
              "    </tr>\n",
              "    <tr>\n",
              "      <th>4</th>\n",
              "      <td>30/6/2021</td>\n",
              "      <td>11493</td>\n",
              "      <td>06/30/2021</td>\n",
              "    </tr>\n",
              "    <tr>\n",
              "      <th>...</th>\n",
              "      <td>...</td>\n",
              "      <td>...</td>\n",
              "      <td>...</td>\n",
              "    </tr>\n",
              "    <tr>\n",
              "      <th>618</th>\n",
              "      <td>22/3/2020</td>\n",
              "      <td>4</td>\n",
              "      <td>03/22/2020</td>\n",
              "    </tr>\n",
              "    <tr>\n",
              "      <th>619</th>\n",
              "      <td>12/3/2020</td>\n",
              "      <td>2</td>\n",
              "      <td>03/12/2020</td>\n",
              "    </tr>\n",
              "    <tr>\n",
              "      <th>620</th>\n",
              "      <td>11/3/2020</td>\n",
              "      <td>2</td>\n",
              "      <td>03/11/2020</td>\n",
              "    </tr>\n",
              "    <tr>\n",
              "      <th>621</th>\n",
              "      <td>13/3/2020</td>\n",
              "      <td>1</td>\n",
              "      <td>03/13/2020</td>\n",
              "    </tr>\n",
              "    <tr>\n",
              "      <th>622</th>\n",
              "      <td>6/3/2020</td>\n",
              "      <td>1</td>\n",
              "      <td>03/06/2020</td>\n",
              "    </tr>\n",
              "  </tbody>\n",
              "</table>\n",
              "<p>623 rows × 3 columns</p>\n",
              "</div>"
            ],
            "text/plain": [
              "          Fecha      f  Fecha final\n",
              "0    24/6/2021   15569  06/24/2021 \n",
              "1    17/6/2021   12493  06/17/2021 \n",
              "2    19/6/2021   11729  06/19/2021 \n",
              "3     1/7/2021   11545  07/01/2021 \n",
              "4    30/6/2021   11493  06/30/2021 \n",
              "..          ...    ...          ...\n",
              "618  22/3/2020       4  03/22/2020 \n",
              "619  12/3/2020       2  03/12/2020 \n",
              "620  11/3/2020       2  03/11/2020 \n",
              "621  13/3/2020       1  03/13/2020 \n",
              "622   6/3/2020       1  03/06/2020 \n",
              "\n",
              "[623 rows x 3 columns]"
            ]
          },
          "metadata": {},
          "execution_count": 377
        }
      ]
    },
    {
      "cell_type": "code",
      "metadata": {
        "id": "F29C5o0bnjRI"
      },
      "source": [
        "Serie_tiempo['Fecha final'] = pd.to_datetime(Serie_tiempo['Fecha final']) ; Serie_tiempo\n",
        "Serie_tiempo = Serie_tiempo.drop(['Fecha'], axis = 1)\n",
        "Serie_tiempo = Serie_tiempo.sort_values(by = 'Fecha final')"
      ],
      "execution_count": 378,
      "outputs": []
    },
    {
      "cell_type": "code",
      "metadata": {
        "id": "hAvgkf7OoVqg"
      },
      "source": [
        "Serie_tiempo.columns = ['Casos', 'Fecha']"
      ],
      "execution_count": 379,
      "outputs": []
    },
    {
      "cell_type": "code",
      "metadata": {
        "id": "70yAg5FtwC7a"
      },
      "source": [
        "df = Serie_tiempo"
      ],
      "execution_count": 380,
      "outputs": []
    },
    {
      "cell_type": "code",
      "metadata": {
        "id": "dtOK5YHH-wm3"
      },
      "source": [
        "df['Fecha'] = pd.to_datetime(df['Fecha'])"
      ],
      "execution_count": 381,
      "outputs": []
    },
    {
      "cell_type": "code",
      "metadata": {
        "colab": {
          "base_uri": "https://localhost:8080/"
        },
        "id": "O3AoCf8A-8bd",
        "outputId": "7d9e1961-cf11-4d3b-a4a0-337871f77be9"
      },
      "source": [
        "df.columns"
      ],
      "execution_count": 382,
      "outputs": [
        {
          "output_type": "execute_result",
          "data": {
            "text/plain": [
              "Index(['Casos', 'Fecha'], dtype='object')"
            ]
          },
          "metadata": {},
          "execution_count": 382
        }
      ]
    },
    {
      "cell_type": "code",
      "metadata": {
        "id": "utcdNDPDoWeq"
      },
      "source": [
        "Serie_tiempo.set_index('Fecha', inplace=True)"
      ],
      "execution_count": 383,
      "outputs": []
    },
    {
      "cell_type": "code",
      "metadata": {
        "colab": {
          "base_uri": "https://localhost:8080/",
          "height": 454
        },
        "id": "3SLVwB2y-b6O",
        "outputId": "8f112021-64cd-40b0-dfc8-0850a4ff6d1f"
      },
      "source": [
        "df"
      ],
      "execution_count": 384,
      "outputs": [
        {
          "output_type": "execute_result",
          "data": {
            "text/html": [
              "<div>\n",
              "<style scoped>\n",
              "    .dataframe tbody tr th:only-of-type {\n",
              "        vertical-align: middle;\n",
              "    }\n",
              "\n",
              "    .dataframe tbody tr th {\n",
              "        vertical-align: top;\n",
              "    }\n",
              "\n",
              "    .dataframe thead th {\n",
              "        text-align: right;\n",
              "    }\n",
              "</style>\n",
              "<table border=\"1\" class=\"dataframe\">\n",
              "  <thead>\n",
              "    <tr style=\"text-align: right;\">\n",
              "      <th></th>\n",
              "      <th>Casos</th>\n",
              "    </tr>\n",
              "    <tr>\n",
              "      <th>Fecha</th>\n",
              "      <th></th>\n",
              "    </tr>\n",
              "  </thead>\n",
              "  <tbody>\n",
              "    <tr>\n",
              "      <th>2020-03-06</th>\n",
              "      <td>1</td>\n",
              "    </tr>\n",
              "    <tr>\n",
              "      <th>2020-03-11</th>\n",
              "      <td>2</td>\n",
              "    </tr>\n",
              "    <tr>\n",
              "      <th>2020-03-12</th>\n",
              "      <td>2</td>\n",
              "    </tr>\n",
              "    <tr>\n",
              "      <th>2020-03-13</th>\n",
              "      <td>1</td>\n",
              "    </tr>\n",
              "    <tr>\n",
              "      <th>2020-03-14</th>\n",
              "      <td>10</td>\n",
              "    </tr>\n",
              "    <tr>\n",
              "      <th>...</th>\n",
              "      <td>...</td>\n",
              "    </tr>\n",
              "    <tr>\n",
              "      <th>2021-11-18</th>\n",
              "      <td>267</td>\n",
              "    </tr>\n",
              "    <tr>\n",
              "      <th>2021-11-19</th>\n",
              "      <td>355</td>\n",
              "    </tr>\n",
              "    <tr>\n",
              "      <th>2021-11-20</th>\n",
              "      <td>347</td>\n",
              "    </tr>\n",
              "    <tr>\n",
              "      <th>2021-11-21</th>\n",
              "      <td>331</td>\n",
              "    </tr>\n",
              "    <tr>\n",
              "      <th>2021-11-22</th>\n",
              "      <td>237</td>\n",
              "    </tr>\n",
              "  </tbody>\n",
              "</table>\n",
              "<p>623 rows × 1 columns</p>\n",
              "</div>"
            ],
            "text/plain": [
              "            Casos\n",
              "Fecha            \n",
              "2020-03-06      1\n",
              "2020-03-11      2\n",
              "2020-03-12      2\n",
              "2020-03-13      1\n",
              "2020-03-14     10\n",
              "...           ...\n",
              "2021-11-18    267\n",
              "2021-11-19    355\n",
              "2021-11-20    347\n",
              "2021-11-21    331\n",
              "2021-11-22    237\n",
              "\n",
              "[623 rows x 1 columns]"
            ]
          },
          "metadata": {},
          "execution_count": 384
        }
      ]
    },
    {
      "cell_type": "code",
      "metadata": {
        "colab": {
          "base_uri": "https://localhost:8080/",
          "height": 590
        },
        "id": "itqTtn6Yop4_",
        "outputId": "05547aa9-14b6-46bf-aa6d-fbdd669d8c92"
      },
      "source": [
        "Serie_tiempo.plot(kind = 'line', figsize= (14,10))"
      ],
      "execution_count": 385,
      "outputs": [
        {
          "output_type": "execute_result",
          "data": {
            "text/plain": [
              "<matplotlib.axes._subplots.AxesSubplot at 0x7f3265fc1350>"
            ]
          },
          "metadata": {},
          "execution_count": 385
        },
        {
          "output_type": "display_data",
          "data": {
            "image/png": "[encoded data removed]",
            "text/plain": [
              "<Figure size 1008x720 with 1 Axes>"
            ]
          },
          "metadata": {
            "needs_background": "light"
          }
        }
      ]
    },
    {
      "cell_type": "code",
      "metadata": {
        "id": "J380RNNYxAqA"
      },
      "source": [
        "# df['Fecha'] = pd.to_datetime(df['Fecha'])"
      ],
      "execution_count": null,
      "outputs": []
    },
    {
      "cell_type": "code",
      "metadata": {
        "colab": {
          "base_uri": "https://localhost:8080/"
        },
        "id": "7QiQw3NnxTJF",
        "outputId": "001e8755-f321-49a1-a3fe-b4dd8598cc3d"
      },
      "source": [
        "print(df.index.min())\n",
        "print(df.index.max())"
      ],
      "execution_count": 387,
      "outputs": [
        {
          "output_type": "stream",
          "name": "stdout",
          "text": [
            "2020-03-06 00:00:00\n",
            "2021-11-22 00:00:00\n"
          ]
        }
      ]
    },
    {
      "cell_type": "code",
      "metadata": {
        "id": "MHWHxD9WxhJ5"
      },
      "source": [
        "df.describe()"
      ],
      "execution_count": null,
      "outputs": []
    },
    {
      "cell_type": "code",
      "metadata": {
        "colab": {
          "base_uri": "https://localhost:8080/",
          "height": 540
        },
        "id": "slvQIeKtxoej",
        "outputId": "31d0f143-9a52-45c8-f506-a42f8c07ca92"
      },
      "source": [
        "df.plot()"
      ],
      "execution_count": 389,
      "outputs": [
        {
          "output_type": "execute_result",
          "data": {
            "text/plain": [
              "<matplotlib.axes._subplots.AxesSubplot at 0x7f32658aab10>"
            ]
          },
          "metadata": {},
          "execution_count": 389
        },
        {
          "output_type": "display_data",
          "data": {
            "image/png": "[encoded data removed]",
            "text/plain": [
              "<Figure size 1152x648 with 1 Axes>"
            ]
          },
          "metadata": {
            "needs_background": "light"
          }
        }
      ]
    },
    {
      "cell_type": "markdown",
      "metadata": {
        "id": "4jRfjaAx_pmZ"
      },
      "source": [
        "## Aprendizaje profundo"
      ]
    },
    {
      "cell_type": "code",
      "metadata": {
        "colab": {
          "base_uri": "https://localhost:8080/",
          "height": 206
        },
        "id": "3Z3WxXmszhbI",
        "outputId": "925950e7-c300-4288-acf5-c2e7e820f3b6"
      },
      "source": [
        "PASOS = 9\n",
        "def series_to_supervised(data, n_in=1, n_out=1, dropnan=True):\n",
        "    n_vars = 1 if type(data) is list else data.shape[1]\n",
        "    df = pd.DataFrame(data)\n",
        "    cols, names = list(), list()\n",
        "    for i in range(n_in, 0, -1):\n",
        "        cols.append(df.shift(i))\n",
        "        names += [('var%d(t-%d)' % (j+1, i)) for j in range(n_vars)]\n",
        "    for i in range(0, n_out):\n",
        "        cols.append(df.shift(-i))\n",
        "        if i == 0:\n",
        "            names += [('var%d(t)' % (j+1)) for j in range(n_vars)]\n",
        "        else:\n",
        "            names += [('var%d(t+%d)' % (j+1, i)) for j in range(n_vars)]\n",
        "    agg = pd.concat(cols, axis=1)\n",
        "    agg.columns = names\n",
        "    if dropnan:\n",
        "        agg.dropna(inplace=True)\n",
        "    return agg\n",
        " \n",
        "values = df.values\n",
        "values = values.astype('float32')\n",
        "scaler = MinMaxScaler(feature_range=(-1, 1))\n",
        "values=values.reshape(-1, 1) \n",
        "scaled = scaler.fit_transform(values)\n",
        "reframed = series_to_supervised(scaled, PASOS, 1)\n",
        "reframed.head()"
      ],
      "execution_count": 390,
      "outputs": [
        {
          "output_type": "execute_result",
          "data": {
            "text/html": [
              "<div>\n",
              "<style scoped>\n",
              "    .dataframe tbody tr th:only-of-type {\n",
              "        vertical-align: middle;\n",
              "    }\n",
              "\n",
              "    .dataframe tbody tr th {\n",
              "        vertical-align: top;\n",
              "    }\n",
              "\n",
              "    .dataframe thead th {\n",
              "        text-align: right;\n",
              "    }\n",
              "</style>\n",
              "<table border=\"1\" class=\"dataframe\">\n",
              "  <thead>\n",
              "    <tr style=\"text-align: right;\">\n",
              "      <th></th>\n",
              "      <th>var1(t-9)</th>\n",
              "      <th>var1(t-8)</th>\n",
              "      <th>var1(t-7)</th>\n",
              "      <th>var1(t-6)</th>\n",
              "      <th>var1(t-5)</th>\n",
              "      <th>var1(t-4)</th>\n",
              "      <th>var1(t-3)</th>\n",
              "      <th>var1(t-2)</th>\n",
              "      <th>var1(t-1)</th>\n",
              "      <th>var1(t)</th>\n",
              "    </tr>\n",
              "  </thead>\n",
              "  <tbody>\n",
              "    <tr>\n",
              "      <th>9</th>\n",
              "      <td>-1.000000</td>\n",
              "      <td>-0.999872</td>\n",
              "      <td>-0.999872</td>\n",
              "      <td>-1.000000</td>\n",
              "      <td>-0.998844</td>\n",
              "      <td>-0.998844</td>\n",
              "      <td>-0.999358</td>\n",
              "      <td>-0.999229</td>\n",
              "      <td>-0.999486</td>\n",
              "      <td>-0.999101</td>\n",
              "    </tr>\n",
              "    <tr>\n",
              "      <th>10</th>\n",
              "      <td>-0.999872</td>\n",
              "      <td>-0.999872</td>\n",
              "      <td>-1.000000</td>\n",
              "      <td>-0.998844</td>\n",
              "      <td>-0.998844</td>\n",
              "      <td>-0.999358</td>\n",
              "      <td>-0.999229</td>\n",
              "      <td>-0.999486</td>\n",
              "      <td>-0.999101</td>\n",
              "      <td>-0.996660</td>\n",
              "    </tr>\n",
              "    <tr>\n",
              "      <th>11</th>\n",
              "      <td>-0.999872</td>\n",
              "      <td>-1.000000</td>\n",
              "      <td>-0.998844</td>\n",
              "      <td>-0.998844</td>\n",
              "      <td>-0.999358</td>\n",
              "      <td>-0.999229</td>\n",
              "      <td>-0.999486</td>\n",
              "      <td>-0.999101</td>\n",
              "      <td>-0.996660</td>\n",
              "      <td>-0.999486</td>\n",
              "    </tr>\n",
              "    <tr>\n",
              "      <th>12</th>\n",
              "      <td>-1.000000</td>\n",
              "      <td>-0.998844</td>\n",
              "      <td>-0.998844</td>\n",
              "      <td>-0.999358</td>\n",
              "      <td>-0.999229</td>\n",
              "      <td>-0.999486</td>\n",
              "      <td>-0.999101</td>\n",
              "      <td>-0.996660</td>\n",
              "      <td>-0.999486</td>\n",
              "      <td>-0.999615</td>\n",
              "    </tr>\n",
              "    <tr>\n",
              "      <th>13</th>\n",
              "      <td>-0.998844</td>\n",
              "      <td>-0.998844</td>\n",
              "      <td>-0.999358</td>\n",
              "      <td>-0.999229</td>\n",
              "      <td>-0.999486</td>\n",
              "      <td>-0.999101</td>\n",
              "      <td>-0.996660</td>\n",
              "      <td>-0.999486</td>\n",
              "      <td>-0.999615</td>\n",
              "      <td>-0.996403</td>\n",
              "    </tr>\n",
              "  </tbody>\n",
              "</table>\n",
              "</div>"
            ],
            "text/plain": [
              "    var1(t-9)  var1(t-8)  var1(t-7)  ...  var1(t-2)  var1(t-1)   var1(t)\n",
              "9   -1.000000  -0.999872  -0.999872  ...  -0.999229  -0.999486 -0.999101\n",
              "10  -0.999872  -0.999872  -1.000000  ...  -0.999486  -0.999101 -0.996660\n",
              "11  -0.999872  -1.000000  -0.998844  ...  -0.999101  -0.996660 -0.999486\n",
              "12  -1.000000  -0.998844  -0.998844  ...  -0.996660  -0.999486 -0.999615\n",
              "13  -0.998844  -0.998844  -0.999358  ...  -0.999486  -0.999615 -0.996403\n",
              "\n",
              "[5 rows x 10 columns]"
            ]
          },
          "metadata": {},
          "execution_count": 390
        }
      ]
    },
    {
      "cell_type": "code",
      "metadata": {
        "colab": {
          "base_uri": "https://localhost:8080/"
        },
        "id": "_cs93p5Xz9Yr",
        "outputId": "cbae06e4-8d05-43d0-b4db-554657c883cb"
      },
      "source": [
        "values = reframed.values\n",
        "n_train_days = 105 - (30 + PASOS)\n",
        "train = values[:n_train_days, :]\n",
        "test = values[n_train_days:, :]\n",
        "x_train, y_train = train[:, :-1], train[:, -1]\n",
        "x_val, y_val = test[:, :-1], test[:, -1]\n",
        "x_train = x_train.reshape((x_train.shape[0], 1, x_train.shape[1]))\n",
        "x_val = x_val.reshape((x_val.shape[0], 1, x_val.shape[1]))\n",
        "print(x_train.shape, y_train.shape, x_val.shape, y_val.shape)"
      ],
      "execution_count": 391,
      "outputs": [
        {
          "output_type": "stream",
          "name": "stdout",
          "text": [
            "(66, 1, 9) (66,) (548, 1, 9) (548,)\n"
          ]
        }
      ]
    },
    {
      "cell_type": "code",
      "metadata": {
        "id": "HE5TAlps0BRd"
      },
      "source": [
        "def crear_modeloFF():\n",
        "    model = Sequential() \n",
        "    model.add(Dense(PASOS, input_shape=(1,PASOS),activation='tanh'))\n",
        "    model.add(Flatten())\n",
        "    model.add(Dense(1, activation='tanh'))\n",
        "    model.compile(loss='mean_absolute_error',optimizer='Adam',metrics=[\"mse\"])\n",
        "    model.summary()\n",
        "    return model"
      ],
      "execution_count": 392,
      "outputs": []
    },
    {
      "cell_type": "code",
      "metadata": {
        "colab": {
          "base_uri": "https://localhost:8080/"
        },
        "id": "IFyNw7wb0bJH",
        "outputId": "4341052e-f0dc-4710-d285-0310d442abdc"
      },
      "source": [
        "EPOCHS = 200\n",
        "\n",
        "model = crear_modeloFF()\n",
        "\n",
        "history=model.fit(x_train,y_train,epochs=EPOCHS,validation_data=(x_val,y_val),batch_size=PASOS)"
      ],
      "execution_count": 393,
      "outputs": [
        {
          "output_type": "stream",
          "name": "stdout",
          "text": [
            "Model: \"sequential_3\"\n",
            "_________________________________________________________________\n",
            " Layer (type)                Output Shape              Param #   \n",
            "=================================================================\n",
            " dense_6 (Dense)             (None, 1, 9)              90        \n",
            "                                                                 \n",
            " flatten_3 (Flatten)         (None, 9)                 0         \n",
            "                                                                 \n",
            " dense_7 (Dense)             (None, 1)                 10        \n",
            "                                                                 \n",
            "=================================================================\n",
            "Total params: 100\n",
            "Trainable params: 100\n",
            "Non-trainable params: 0\n",
            "_________________________________________________________________\n",
            "Epoch 1/200\n",
            "8/8 [==============================] - 1s 34ms/step - loss: 0.8793 - mse: 0.7744 - val_loss: 0.5580 - val_mse: 0.3567\n",
            "Epoch 2/200\n",
            "8/8 [==============================] - 0s 15ms/step - loss: 0.7613 - mse: 0.5806 - val_loss: 0.4678 - val_mse: 0.2537\n",
            "Epoch 3/200\n",
            "8/8 [==============================] - 0s 16ms/step - loss: 0.6519 - mse: 0.4258 - val_loss: 0.3866 - val_mse: 0.1762\n",
            "Epoch 4/200\n",
            "8/8 [==============================] - 0s 26ms/step - loss: 0.5543 - mse: 0.3080 - val_loss: 0.3164 - val_mse: 0.1212\n",
            "Epoch 5/200\n",
            "8/8 [==============================] - 0s 25ms/step - loss: 0.4703 - mse: 0.2216 - val_loss: 0.2597 - val_mse: 0.0843\n",
            "Epoch 6/200\n",
            "8/8 [==============================] - 0s 26ms/step - loss: 0.3996 - mse: 0.1601 - val_loss: 0.2170 - val_mse: 0.0607\n",
            "Epoch 7/200\n",
            "8/8 [==============================] - 0s 14ms/step - loss: 0.3410 - mse: 0.1165 - val_loss: 0.1854 - val_mse: 0.0466\n",
            "Epoch 8/200\n",
            "8/8 [==============================] - 0s 27ms/step - loss: 0.2927 - mse: 0.0859 - val_loss: 0.1646 - val_mse: 0.0389\n",
            "Epoch 9/200\n",
            "8/8 [==============================] - 0s 27ms/step - loss: 0.2529 - mse: 0.0641 - val_loss: 0.1511 - val_mse: 0.0353\n",
            "Epoch 10/200\n",
            "8/8 [==============================] - 0s 14ms/step - loss: 0.2199 - mse: 0.0485 - val_loss: 0.1437 - val_mse: 0.0344\n",
            "Epoch 11/200\n",
            "8/8 [==============================] - 0s 25ms/step - loss: 0.1924 - mse: 0.0371 - val_loss: 0.1405 - val_mse: 0.0353\n",
            "Epoch 12/200\n",
            "8/8 [==============================] - 0s 14ms/step - loss: 0.1692 - mse: 0.0288 - val_loss: 0.1405 - val_mse: 0.0372\n",
            "Epoch 13/200\n",
            "8/8 [==============================] - 0s 15ms/step - loss: 0.1496 - mse: 0.0225 - val_loss: 0.1432 - val_mse: 0.0398\n",
            "Epoch 14/200\n",
            "8/8 [==============================] - 0s 26ms/step - loss: 0.1329 - mse: 0.0178 - val_loss: 0.1475 - val_mse: 0.0427\n",
            "Epoch 15/200\n",
            "8/8 [==============================] - 0s 16ms/step - loss: 0.1185 - mse: 0.0141 - val_loss: 0.1523 - val_mse: 0.0458\n",
            "Epoch 16/200\n",
            "8/8 [==============================] - 0s 26ms/step - loss: 0.1060 - mse: 0.0113 - val_loss: 0.1574 - val_mse: 0.0489\n",
            "Epoch 17/200\n",
            "8/8 [==============================] - 0s 15ms/step - loss: 0.0952 - mse: 0.0092 - val_loss: 0.1625 - val_mse: 0.0520\n",
            "Epoch 18/200\n",
            "8/8 [==============================] - 0s 14ms/step - loss: 0.0857 - mse: 0.0074 - val_loss: 0.1675 - val_mse: 0.0551\n",
            "Epoch 19/200\n",
            "8/8 [==============================] - 0s 26ms/step - loss: 0.0774 - mse: 0.0061 - val_loss: 0.1724 - val_mse: 0.0580\n",
            "Epoch 20/200\n",
            "8/8 [==============================] - 0s 26ms/step - loss: 0.0701 - mse: 0.0050 - val_loss: 0.1770 - val_mse: 0.0608\n",
            "Epoch 21/200\n",
            "8/8 [==============================] - 0s 14ms/step - loss: 0.0636 - mse: 0.0042 - val_loss: 0.1814 - val_mse: 0.0635\n",
            "Epoch 22/200\n",
            "8/8 [==============================] - 0s 14ms/step - loss: 0.0579 - mse: 0.0035 - val_loss: 0.1855 - val_mse: 0.0660\n",
            "Epoch 23/200\n",
            "8/8 [==============================] - 0s 27ms/step - loss: 0.0528 - mse: 0.0029 - val_loss: 0.1893 - val_mse: 0.0684\n",
            "Epoch 24/200\n",
            "8/8 [==============================] - 0s 13ms/step - loss: 0.0483 - mse: 0.0024 - val_loss: 0.1929 - val_mse: 0.0707\n",
            "Epoch 25/200\n",
            "8/8 [==============================] - 0s 25ms/step - loss: 0.0442 - mse: 0.0021 - val_loss: 0.1962 - val_mse: 0.0728\n",
            "Epoch 26/200\n",
            "8/8 [==============================] - 0s 14ms/step - loss: 0.0405 - mse: 0.0017 - val_loss: 0.1993 - val_mse: 0.0749\n",
            "Epoch 27/200\n",
            "8/8 [==============================] - 0s 26ms/step - loss: 0.0372 - mse: 0.0015 - val_loss: 0.2023 - val_mse: 0.0768\n",
            "Epoch 28/200\n",
            "8/8 [==============================] - 0s 15ms/step - loss: 0.0343 - mse: 0.0013 - val_loss: 0.2051 - val_mse: 0.0786\n",
            "Epoch 29/200\n",
            "8/8 [==============================] - 0s 13ms/step - loss: 0.0317 - mse: 0.0011 - val_loss: 0.2077 - val_mse: 0.0803\n",
            "Epoch 30/200\n",
            "8/8 [==============================] - 0s 16ms/step - loss: 0.0293 - mse: 9.5309e-04 - val_loss: 0.2102 - val_mse: 0.0819\n",
            "Epoch 31/200\n",
            "8/8 [==============================] - 0s 14ms/step - loss: 0.0271 - mse: 8.2548e-04 - val_loss: 0.2125 - val_mse: 0.0834\n",
            "Epoch 32/200\n",
            "8/8 [==============================] - 0s 13ms/step - loss: 0.0252 - mse: 7.2161e-04 - val_loss: 0.2147 - val_mse: 0.0848\n",
            "Epoch 33/200\n",
            "8/8 [==============================] - 0s 14ms/step - loss: 0.0234 - mse: 6.3262e-04 - val_loss: 0.2168 - val_mse: 0.0862\n",
            "Epoch 34/200\n",
            "8/8 [==============================] - 0s 15ms/step - loss: 0.0217 - mse: 5.5859e-04 - val_loss: 0.2186 - val_mse: 0.0874\n",
            "Epoch 35/200\n",
            "8/8 [==============================] - 0s 26ms/step - loss: 0.0204 - mse: 4.9702e-04 - val_loss: 0.2204 - val_mse: 0.0886\n",
            "Epoch 36/200\n",
            "8/8 [==============================] - 0s 14ms/step - loss: 0.0191 - mse: 4.4204e-04 - val_loss: 0.2221 - val_mse: 0.0897\n",
            "Epoch 37/200\n",
            "8/8 [==============================] - 0s 15ms/step - loss: 0.0181 - mse: 3.9755e-04 - val_loss: 0.2236 - val_mse: 0.0907\n",
            "Epoch 38/200\n",
            "8/8 [==============================] - 0s 17ms/step - loss: 0.0171 - mse: 3.5888e-04 - val_loss: 0.2250 - val_mse: 0.0917\n",
            "Epoch 39/200\n",
            "8/8 [==============================] - 0s 13ms/step - loss: 0.0163 - mse: 3.2605e-04 - val_loss: 0.2264 - val_mse: 0.0925\n",
            "Epoch 40/200\n",
            "8/8 [==============================] - 0s 14ms/step - loss: 0.0155 - mse: 2.9891e-04 - val_loss: 0.2276 - val_mse: 0.0934\n",
            "Epoch 41/200\n",
            "8/8 [==============================] - 0s 14ms/step - loss: 0.0148 - mse: 2.7434e-04 - val_loss: 0.2288 - val_mse: 0.0941\n",
            "Epoch 42/200\n",
            "8/8 [==============================] - 0s 14ms/step - loss: 0.0143 - mse: 2.5479e-04 - val_loss: 0.2299 - val_mse: 0.0949\n",
            "Epoch 43/200\n",
            "8/8 [==============================] - 0s 26ms/step - loss: 0.0138 - mse: 2.3764e-04 - val_loss: 0.2308 - val_mse: 0.0955\n",
            "Epoch 44/200\n",
            "8/8 [==============================] - 0s 15ms/step - loss: 0.0134 - mse: 2.2337e-04 - val_loss: 0.2317 - val_mse: 0.0961\n",
            "Epoch 45/200\n",
            "8/8 [==============================] - 0s 13ms/step - loss: 0.0131 - mse: 2.1154e-04 - val_loss: 0.2325 - val_mse: 0.0967\n",
            "Epoch 46/200\n",
            "8/8 [==============================] - 0s 13ms/step - loss: 0.0127 - mse: 1.9981e-04 - val_loss: 0.2332 - val_mse: 0.0971\n",
            "Epoch 47/200\n",
            "8/8 [==============================] - 0s 27ms/step - loss: 0.0124 - mse: 1.9044e-04 - val_loss: 0.2340 - val_mse: 0.0977\n",
            "Epoch 48/200\n",
            "8/8 [==============================] - 0s 14ms/step - loss: 0.0121 - mse: 1.8152e-04 - val_loss: 0.2347 - val_mse: 0.0982\n",
            "Epoch 49/200\n",
            "8/8 [==============================] - 0s 15ms/step - loss: 0.0119 - mse: 1.7333e-04 - val_loss: 0.2355 - val_mse: 0.0986\n",
            "Epoch 50/200\n",
            "8/8 [==============================] - 0s 14ms/step - loss: 0.0116 - mse: 1.6648e-04 - val_loss: 0.2361 - val_mse: 0.0991\n",
            "Epoch 51/200\n",
            "8/8 [==============================] - 0s 25ms/step - loss: 0.0114 - mse: 1.6020e-04 - val_loss: 0.2367 - val_mse: 0.0995\n",
            "Epoch 52/200\n",
            "8/8 [==============================] - 0s 15ms/step - loss: 0.0112 - mse: 1.5458e-04 - val_loss: 0.2374 - val_mse: 0.0999\n",
            "Epoch 53/200\n",
            "8/8 [==============================] - 0s 26ms/step - loss: 0.0109 - mse: 1.4871e-04 - val_loss: 0.2381 - val_mse: 0.1004\n",
            "Epoch 54/200\n",
            "8/8 [==============================] - 0s 15ms/step - loss: 0.0107 - mse: 1.4336e-04 - val_loss: 0.2387 - val_mse: 0.1008\n",
            "Epoch 55/200\n",
            "8/8 [==============================] - 0s 14ms/step - loss: 0.0104 - mse: 1.3865e-04 - val_loss: 0.2394 - val_mse: 0.1013\n",
            "Epoch 56/200\n",
            "8/8 [==============================] - 0s 14ms/step - loss: 0.0102 - mse: 1.3416e-04 - val_loss: 0.2400 - val_mse: 0.1017\n",
            "Epoch 57/200\n",
            "8/8 [==============================] - 0s 25ms/step - loss: 0.0100 - mse: 1.3020e-04 - val_loss: 0.2406 - val_mse: 0.1021\n",
            "Epoch 58/200\n",
            "8/8 [==============================] - 0s 26ms/step - loss: 0.0098 - mse: 1.2717e-04 - val_loss: 0.2411 - val_mse: 0.1024\n",
            "Epoch 59/200\n",
            "8/8 [==============================] - 0s 25ms/step - loss: 0.0097 - mse: 1.2451e-04 - val_loss: 0.2416 - val_mse: 0.1028\n",
            "Epoch 60/200\n",
            "8/8 [==============================] - 0s 26ms/step - loss: 0.0096 - mse: 1.2252e-04 - val_loss: 0.2422 - val_mse: 0.1032\n",
            "Epoch 61/200\n",
            "8/8 [==============================] - 0s 14ms/step - loss: 0.0094 - mse: 1.1980e-04 - val_loss: 0.2427 - val_mse: 0.1035\n",
            "Epoch 62/200\n",
            "8/8 [==============================] - 0s 26ms/step - loss: 0.0092 - mse: 1.1739e-04 - val_loss: 0.2432 - val_mse: 0.1039\n",
            "Epoch 63/200\n",
            "8/8 [==============================] - 0s 14ms/step - loss: 0.0091 - mse: 1.1591e-04 - val_loss: 0.2437 - val_mse: 0.1042\n",
            "Epoch 64/200\n",
            "8/8 [==============================] - 0s 15ms/step - loss: 0.0090 - mse: 1.1413e-04 - val_loss: 0.2441 - val_mse: 0.1045\n",
            "Epoch 65/200\n",
            "8/8 [==============================] - 0s 16ms/step - loss: 0.0089 - mse: 1.1290e-04 - val_loss: 0.2445 - val_mse: 0.1047\n",
            "Epoch 66/200\n",
            "8/8 [==============================] - 0s 26ms/step - loss: 0.0088 - mse: 1.1178e-04 - val_loss: 0.2449 - val_mse: 0.1050\n",
            "Epoch 67/200\n",
            "8/8 [==============================] - 0s 16ms/step - loss: 0.0087 - mse: 1.1080e-04 - val_loss: 0.2452 - val_mse: 0.1053\n",
            "Epoch 68/200\n",
            "8/8 [==============================] - 0s 16ms/step - loss: 0.0087 - mse: 1.0993e-04 - val_loss: 0.2455 - val_mse: 0.1055\n",
            "Epoch 69/200\n",
            "8/8 [==============================] - 0s 15ms/step - loss: 0.0086 - mse: 1.0924e-04 - val_loss: 0.2459 - val_mse: 0.1057\n",
            "Epoch 70/200\n",
            "8/8 [==============================] - 0s 26ms/step - loss: 0.0086 - mse: 1.0869e-04 - val_loss: 0.2462 - val_mse: 0.1060\n",
            "Epoch 71/200\n",
            "8/8 [==============================] - 0s 26ms/step - loss: 0.0085 - mse: 1.0834e-04 - val_loss: 0.2465 - val_mse: 0.1062\n",
            "Epoch 72/200\n",
            "8/8 [==============================] - 0s 16ms/step - loss: 0.0085 - mse: 1.0772e-04 - val_loss: 0.2467 - val_mse: 0.1063\n",
            "Epoch 73/200\n",
            "8/8 [==============================] - 0s 26ms/step - loss: 0.0084 - mse: 1.0752e-04 - val_loss: 0.2469 - val_mse: 0.1065\n",
            "Epoch 74/200\n",
            "8/8 [==============================] - 0s 26ms/step - loss: 0.0084 - mse: 1.0722e-04 - val_loss: 0.2472 - val_mse: 0.1066\n",
            "Epoch 75/200\n",
            "8/8 [==============================] - 0s 13ms/step - loss: 0.0084 - mse: 1.0703e-04 - val_loss: 0.2474 - val_mse: 0.1068\n",
            "Epoch 76/200\n",
            "8/8 [==============================] - 0s 14ms/step - loss: 0.0083 - mse: 1.0682e-04 - val_loss: 0.2476 - val_mse: 0.1069\n",
            "Epoch 77/200\n",
            "8/8 [==============================] - 0s 14ms/step - loss: 0.0083 - mse: 1.0661e-04 - val_loss: 0.2478 - val_mse: 0.1071\n",
            "Epoch 78/200\n",
            "8/8 [==============================] - 0s 14ms/step - loss: 0.0083 - mse: 1.0664e-04 - val_loss: 0.2480 - val_mse: 0.1072\n",
            "Epoch 79/200\n",
            "8/8 [==============================] - 0s 15ms/step - loss: 0.0083 - mse: 1.0637e-04 - val_loss: 0.2482 - val_mse: 0.1073\n",
            "Epoch 80/200\n",
            "8/8 [==============================] - 0s 25ms/step - loss: 0.0083 - mse: 1.0626e-04 - val_loss: 0.2484 - val_mse: 0.1075\n",
            "Epoch 81/200\n",
            "8/8 [==============================] - 0s 15ms/step - loss: 0.0082 - mse: 1.0629e-04 - val_loss: 0.2486 - val_mse: 0.1076\n",
            "Epoch 82/200\n",
            "8/8 [==============================] - 0s 15ms/step - loss: 0.0082 - mse: 1.0625e-04 - val_loss: 0.2488 - val_mse: 0.1077\n",
            "Epoch 83/200\n",
            "8/8 [==============================] - 0s 26ms/step - loss: 0.0082 - mse: 1.0622e-04 - val_loss: 0.2490 - val_mse: 0.1079\n",
            "Epoch 84/200\n",
            "8/8 [==============================] - 0s 14ms/step - loss: 0.0082 - mse: 1.0623e-04 - val_loss: 0.2492 - val_mse: 0.1080\n",
            "Epoch 85/200\n",
            "8/8 [==============================] - 0s 25ms/step - loss: 0.0082 - mse: 1.0624e-04 - val_loss: 0.2493 - val_mse: 0.1081\n",
            "Epoch 86/200\n",
            "8/8 [==============================] - 0s 25ms/step - loss: 0.0081 - mse: 1.0626e-04 - val_loss: 0.2495 - val_mse: 0.1083\n",
            "Epoch 87/200\n",
            "8/8 [==============================] - 0s 14ms/step - loss: 0.0081 - mse: 1.0637e-04 - val_loss: 0.2496 - val_mse: 0.1084\n",
            "Epoch 88/200\n",
            "8/8 [==============================] - 0s 15ms/step - loss: 0.0081 - mse: 1.0649e-04 - val_loss: 0.2498 - val_mse: 0.1085\n",
            "Epoch 89/200\n",
            "8/8 [==============================] - 0s 26ms/step - loss: 0.0081 - mse: 1.0648e-04 - val_loss: 0.2499 - val_mse: 0.1085\n",
            "Epoch 90/200\n",
            "8/8 [==============================] - 0s 15ms/step - loss: 0.0081 - mse: 1.0653e-04 - val_loss: 0.2500 - val_mse: 0.1087\n",
            "Epoch 91/200\n",
            "8/8 [==============================] - 0s 25ms/step - loss: 0.0081 - mse: 1.0663e-04 - val_loss: 0.2502 - val_mse: 0.1088\n",
            "Epoch 92/200\n",
            "8/8 [==============================] - 0s 16ms/step - loss: 0.0081 - mse: 1.0672e-04 - val_loss: 0.2504 - val_mse: 0.1089\n",
            "Epoch 93/200\n",
            "8/8 [==============================] - 0s 25ms/step - loss: 0.0081 - mse: 1.0704e-04 - val_loss: 0.2506 - val_mse: 0.1090\n",
            "Epoch 94/200\n",
            "8/8 [==============================] - 0s 26ms/step - loss: 0.0080 - mse: 1.0704e-04 - val_loss: 0.2507 - val_mse: 0.1091\n",
            "Epoch 95/200\n",
            "8/8 [==============================] - 0s 15ms/step - loss: 0.0080 - mse: 1.0722e-04 - val_loss: 0.2508 - val_mse: 0.1092\n",
            "Epoch 96/200\n",
            "8/8 [==============================] - 0s 16ms/step - loss: 0.0080 - mse: 1.0738e-04 - val_loss: 0.2510 - val_mse: 0.1093\n",
            "Epoch 97/200\n",
            "8/8 [==============================] - 0s 27ms/step - loss: 0.0080 - mse: 1.0752e-04 - val_loss: 0.2511 - val_mse: 0.1094\n",
            "Epoch 98/200\n",
            "8/8 [==============================] - 0s 16ms/step - loss: 0.0080 - mse: 1.0759e-04 - val_loss: 0.2512 - val_mse: 0.1095\n",
            "Epoch 99/200\n",
            "8/8 [==============================] - 0s 15ms/step - loss: 0.0080 - mse: 1.0786e-04 - val_loss: 0.2513 - val_mse: 0.1096\n",
            "Epoch 100/200\n",
            "8/8 [==============================] - 0s 14ms/step - loss: 0.0080 - mse: 1.0795e-04 - val_loss: 0.2514 - val_mse: 0.1096\n",
            "Epoch 101/200\n",
            "8/8 [==============================] - 0s 25ms/step - loss: 0.0080 - mse: 1.0802e-04 - val_loss: 0.2515 - val_mse: 0.1097\n",
            "Epoch 102/200\n",
            "8/8 [==============================] - 0s 13ms/step - loss: 0.0080 - mse: 1.0823e-04 - val_loss: 0.2516 - val_mse: 0.1098\n",
            "Epoch 103/200\n",
            "8/8 [==============================] - 0s 26ms/step - loss: 0.0080 - mse: 1.0842e-04 - val_loss: 0.2518 - val_mse: 0.1099\n",
            "Epoch 104/200\n",
            "8/8 [==============================] - 0s 26ms/step - loss: 0.0080 - mse: 1.0861e-04 - val_loss: 0.2519 - val_mse: 0.1100\n",
            "Epoch 105/200\n",
            "8/8 [==============================] - 0s 25ms/step - loss: 0.0080 - mse: 1.0882e-04 - val_loss: 0.2520 - val_mse: 0.1101\n",
            "Epoch 106/200\n",
            "8/8 [==============================] - 0s 14ms/step - loss: 0.0079 - mse: 1.0898e-04 - val_loss: 0.2521 - val_mse: 0.1101\n",
            "Epoch 107/200\n",
            "8/8 [==============================] - 0s 25ms/step - loss: 0.0079 - mse: 1.0920e-04 - val_loss: 0.2522 - val_mse: 0.1102\n",
            "Epoch 108/200\n",
            "8/8 [==============================] - 0s 26ms/step - loss: 0.0079 - mse: 1.0942e-04 - val_loss: 0.2523 - val_mse: 0.1103\n",
            "Epoch 109/200\n",
            "8/8 [==============================] - 0s 16ms/step - loss: 0.0079 - mse: 1.0960e-04 - val_loss: 0.2524 - val_mse: 0.1104\n",
            "Epoch 110/200\n",
            "8/8 [==============================] - 0s 14ms/step - loss: 0.0079 - mse: 1.0981e-04 - val_loss: 0.2525 - val_mse: 0.1104\n",
            "Epoch 111/200\n",
            "8/8 [==============================] - 0s 26ms/step - loss: 0.0079 - mse: 1.0994e-04 - val_loss: 0.2526 - val_mse: 0.1105\n",
            "Epoch 112/200\n",
            "8/8 [==============================] - 0s 26ms/step - loss: 0.0079 - mse: 1.1006e-04 - val_loss: 0.2527 - val_mse: 0.1106\n",
            "Epoch 113/200\n",
            "8/8 [==============================] - 0s 14ms/step - loss: 0.0079 - mse: 1.1026e-04 - val_loss: 0.2528 - val_mse: 0.1106\n",
            "Epoch 114/200\n",
            "8/8 [==============================] - 0s 26ms/step - loss: 0.0079 - mse: 1.1045e-04 - val_loss: 0.2529 - val_mse: 0.1107\n",
            "Epoch 115/200\n",
            "8/8 [==============================] - 0s 26ms/step - loss: 0.0079 - mse: 1.1071e-04 - val_loss: 0.2530 - val_mse: 0.1108\n",
            "Epoch 116/200\n",
            "8/8 [==============================] - 0s 26ms/step - loss: 0.0079 - mse: 1.1084e-04 - val_loss: 0.2530 - val_mse: 0.1108\n",
            "Epoch 117/200\n",
            "8/8 [==============================] - 0s 15ms/step - loss: 0.0079 - mse: 1.1093e-04 - val_loss: 0.2530 - val_mse: 0.1108\n",
            "Epoch 118/200\n",
            "8/8 [==============================] - 0s 18ms/step - loss: 0.0079 - mse: 1.1108e-04 - val_loss: 0.2531 - val_mse: 0.1109\n",
            "Epoch 119/200\n",
            "8/8 [==============================] - 0s 26ms/step - loss: 0.0079 - mse: 1.1119e-04 - val_loss: 0.2532 - val_mse: 0.1109\n",
            "Epoch 120/200\n",
            "8/8 [==============================] - 0s 16ms/step - loss: 0.0079 - mse: 1.1128e-04 - val_loss: 0.2532 - val_mse: 0.1109\n",
            "Epoch 121/200\n",
            "8/8 [==============================] - 0s 14ms/step - loss: 0.0079 - mse: 1.1138e-04 - val_loss: 0.2532 - val_mse: 0.1110\n",
            "Epoch 122/200\n",
            "8/8 [==============================] - 0s 26ms/step - loss: 0.0079 - mse: 1.1146e-04 - val_loss: 0.2533 - val_mse: 0.1110\n",
            "Epoch 123/200\n",
            "8/8 [==============================] - 0s 13ms/step - loss: 0.0079 - mse: 1.1154e-04 - val_loss: 0.2533 - val_mse: 0.1110\n",
            "Epoch 124/200\n",
            "8/8 [==============================] - 0s 25ms/step - loss: 0.0079 - mse: 1.1157e-04 - val_loss: 0.2533 - val_mse: 0.1110\n",
            "Epoch 125/200\n",
            "8/8 [==============================] - 0s 26ms/step - loss: 0.0079 - mse: 1.1167e-04 - val_loss: 0.2534 - val_mse: 0.1111\n",
            "Epoch 126/200\n",
            "8/8 [==============================] - 0s 16ms/step - loss: 0.0079 - mse: 1.1184e-04 - val_loss: 0.2535 - val_mse: 0.1111\n",
            "Epoch 127/200\n",
            "8/8 [==============================] - 0s 26ms/step - loss: 0.0079 - mse: 1.1214e-04 - val_loss: 0.2535 - val_mse: 0.1112\n",
            "Epoch 128/200\n",
            "8/8 [==============================] - 0s 16ms/step - loss: 0.0079 - mse: 1.1217e-04 - val_loss: 0.2535 - val_mse: 0.1112\n",
            "Epoch 129/200\n",
            "8/8 [==============================] - 0s 14ms/step - loss: 0.0079 - mse: 1.1232e-04 - val_loss: 0.2536 - val_mse: 0.1112\n",
            "Epoch 130/200\n",
            "8/8 [==============================] - 0s 14ms/step - loss: 0.0079 - mse: 1.1228e-04 - val_loss: 0.2535 - val_mse: 0.1112\n",
            "Epoch 131/200\n",
            "8/8 [==============================] - 0s 16ms/step - loss: 0.0079 - mse: 1.1222e-04 - val_loss: 0.2536 - val_mse: 0.1112\n",
            "Epoch 132/200\n",
            "8/8 [==============================] - 0s 16ms/step - loss: 0.0079 - mse: 1.1231e-04 - val_loss: 0.2536 - val_mse: 0.1112\n",
            "Epoch 133/200\n",
            "8/8 [==============================] - 0s 26ms/step - loss: 0.0079 - mse: 1.1236e-04 - val_loss: 0.2536 - val_mse: 0.1112\n",
            "Epoch 134/200\n",
            "8/8 [==============================] - 0s 15ms/step - loss: 0.0079 - mse: 1.1229e-04 - val_loss: 0.2535 - val_mse: 0.1112\n",
            "Epoch 135/200\n",
            "8/8 [==============================] - 0s 14ms/step - loss: 0.0079 - mse: 1.1227e-04 - val_loss: 0.2536 - val_mse: 0.1112\n",
            "Epoch 136/200\n",
            "8/8 [==============================] - 0s 26ms/step - loss: 0.0079 - mse: 1.1226e-04 - val_loss: 0.2536 - val_mse: 0.1112\n",
            "Epoch 137/200\n",
            "8/8 [==============================] - 0s 16ms/step - loss: 0.0079 - mse: 1.1228e-04 - val_loss: 0.2536 - val_mse: 0.1112\n",
            "Epoch 138/200\n",
            "8/8 [==============================] - 0s 16ms/step - loss: 0.0079 - mse: 1.1222e-04 - val_loss: 0.2535 - val_mse: 0.1112\n",
            "Epoch 139/200\n",
            "8/8 [==============================] - 0s 15ms/step - loss: 0.0079 - mse: 1.1221e-04 - val_loss: 0.2536 - val_mse: 0.1112\n",
            "Epoch 140/200\n",
            "8/8 [==============================] - 0s 15ms/step - loss: 0.0079 - mse: 1.1228e-04 - val_loss: 0.2536 - val_mse: 0.1112\n",
            "Epoch 141/200\n",
            "8/8 [==============================] - 0s 26ms/step - loss: 0.0079 - mse: 1.1222e-04 - val_loss: 0.2535 - val_mse: 0.1112\n",
            "Epoch 142/200\n",
            "8/8 [==============================] - 0s 26ms/step - loss: 0.0079 - mse: 1.1223e-04 - val_loss: 0.2536 - val_mse: 0.1112\n",
            "Epoch 143/200\n",
            "8/8 [==============================] - 0s 17ms/step - loss: 0.0079 - mse: 1.1226e-04 - val_loss: 0.2535 - val_mse: 0.1112\n",
            "Epoch 144/200\n",
            "8/8 [==============================] - 0s 14ms/step - loss: 0.0079 - mse: 1.1228e-04 - val_loss: 0.2536 - val_mse: 0.1112\n",
            "Epoch 145/200\n",
            "8/8 [==============================] - 0s 14ms/step - loss: 0.0079 - mse: 1.1221e-04 - val_loss: 0.2535 - val_mse: 0.1112\n",
            "Epoch 146/200\n",
            "8/8 [==============================] - 0s 15ms/step - loss: 0.0079 - mse: 1.1214e-04 - val_loss: 0.2535 - val_mse: 0.1111\n",
            "Epoch 147/200\n",
            "8/8 [==============================] - 0s 14ms/step - loss: 0.0079 - mse: 1.1217e-04 - val_loss: 0.2535 - val_mse: 0.1112\n",
            "Epoch 148/200\n",
            "8/8 [==============================] - 0s 27ms/step - loss: 0.0079 - mse: 1.1223e-04 - val_loss: 0.2535 - val_mse: 0.1112\n",
            "Epoch 149/200\n",
            "8/8 [==============================] - 0s 25ms/step - loss: 0.0079 - mse: 1.1222e-04 - val_loss: 0.2535 - val_mse: 0.1112\n",
            "Epoch 150/200\n",
            "8/8 [==============================] - 0s 15ms/step - loss: 0.0079 - mse: 1.1219e-04 - val_loss: 0.2535 - val_mse: 0.1111\n",
            "Epoch 151/200\n",
            "8/8 [==============================] - 0s 17ms/step - loss: 0.0079 - mse: 1.1217e-04 - val_loss: 0.2535 - val_mse: 0.1112\n",
            "Epoch 152/200\n",
            "8/8 [==============================] - 0s 25ms/step - loss: 0.0079 - mse: 1.1228e-04 - val_loss: 0.2536 - val_mse: 0.1112\n",
            "Epoch 153/200\n",
            "8/8 [==============================] - 0s 26ms/step - loss: 0.0079 - mse: 1.1222e-04 - val_loss: 0.2535 - val_mse: 0.1111\n",
            "Epoch 154/200\n",
            "8/8 [==============================] - 0s 15ms/step - loss: 0.0079 - mse: 1.1214e-04 - val_loss: 0.2535 - val_mse: 0.1111\n",
            "Epoch 155/200\n",
            "8/8 [==============================] - 0s 16ms/step - loss: 0.0079 - mse: 1.1207e-04 - val_loss: 0.2534 - val_mse: 0.1111\n",
            "Epoch 156/200\n",
            "8/8 [==============================] - 0s 25ms/step - loss: 0.0079 - mse: 1.1205e-04 - val_loss: 0.2535 - val_mse: 0.1111\n",
            "Epoch 157/200\n",
            "8/8 [==============================] - 0s 26ms/step - loss: 0.0079 - mse: 1.1207e-04 - val_loss: 0.2535 - val_mse: 0.1111\n",
            "Epoch 158/200\n",
            "8/8 [==============================] - 0s 15ms/step - loss: 0.0079 - mse: 1.1210e-04 - val_loss: 0.2535 - val_mse: 0.1111\n",
            "Epoch 159/200\n",
            "8/8 [==============================] - 0s 15ms/step - loss: 0.0079 - mse: 1.1216e-04 - val_loss: 0.2535 - val_mse: 0.1112\n",
            "Epoch 160/200\n",
            "8/8 [==============================] - 0s 16ms/step - loss: 0.0079 - mse: 1.1226e-04 - val_loss: 0.2535 - val_mse: 0.1112\n",
            "Epoch 161/200\n",
            "8/8 [==============================] - 0s 25ms/step - loss: 0.0079 - mse: 1.1223e-04 - val_loss: 0.2535 - val_mse: 0.1111\n",
            "Epoch 162/200\n",
            "8/8 [==============================] - 0s 26ms/step - loss: 0.0079 - mse: 1.1221e-04 - val_loss: 0.2535 - val_mse: 0.1112\n",
            "Epoch 163/200\n",
            "8/8 [==============================] - 0s 14ms/step - loss: 0.0079 - mse: 1.1227e-04 - val_loss: 0.2535 - val_mse: 0.1112\n",
            "Epoch 164/200\n",
            "8/8 [==============================] - 0s 17ms/step - loss: 0.0079 - mse: 1.1245e-04 - val_loss: 0.2536 - val_mse: 0.1112\n",
            "Epoch 165/200\n",
            "8/8 [==============================] - 0s 14ms/step - loss: 0.0079 - mse: 1.1246e-04 - val_loss: 0.2536 - val_mse: 0.1112\n",
            "Epoch 166/200\n",
            "8/8 [==============================] - 0s 14ms/step - loss: 0.0079 - mse: 1.1246e-04 - val_loss: 0.2536 - val_mse: 0.1112\n",
            "Epoch 167/200\n",
            "8/8 [==============================] - 0s 26ms/step - loss: 0.0079 - mse: 1.1247e-04 - val_loss: 0.2536 - val_mse: 0.1112\n",
            "Epoch 168/200\n",
            "8/8 [==============================] - 0s 15ms/step - loss: 0.0079 - mse: 1.1245e-04 - val_loss: 0.2536 - val_mse: 0.1112\n",
            "Epoch 169/200\n",
            "8/8 [==============================] - 0s 14ms/step - loss: 0.0079 - mse: 1.1233e-04 - val_loss: 0.2535 - val_mse: 0.1111\n",
            "Epoch 170/200\n",
            "8/8 [==============================] - 0s 14ms/step - loss: 0.0079 - mse: 1.1224e-04 - val_loss: 0.2535 - val_mse: 0.1111\n",
            "Epoch 171/200\n",
            "8/8 [==============================] - 0s 13ms/step - loss: 0.0079 - mse: 1.1222e-04 - val_loss: 0.2535 - val_mse: 0.1111\n",
            "Epoch 172/200\n",
            "8/8 [==============================] - 0s 26ms/step - loss: 0.0079 - mse: 1.1218e-04 - val_loss: 0.2535 - val_mse: 0.1111\n",
            "Epoch 173/200\n",
            "8/8 [==============================] - 0s 15ms/step - loss: 0.0079 - mse: 1.1224e-04 - val_loss: 0.2535 - val_mse: 0.1112\n",
            "Epoch 174/200\n",
            "8/8 [==============================] - 0s 14ms/step - loss: 0.0079 - mse: 1.1240e-04 - val_loss: 0.2536 - val_mse: 0.1112\n",
            "Epoch 175/200\n",
            "8/8 [==============================] - 0s 14ms/step - loss: 0.0079 - mse: 1.1254e-04 - val_loss: 0.2537 - val_mse: 0.1113\n",
            "Epoch 176/200\n",
            "8/8 [==============================] - 0s 28ms/step - loss: 0.0079 - mse: 1.1269e-04 - val_loss: 0.2537 - val_mse: 0.1113\n",
            "Epoch 177/200\n",
            "8/8 [==============================] - 0s 25ms/step - loss: 0.0079 - mse: 1.1269e-04 - val_loss: 0.2537 - val_mse: 0.1113\n",
            "Epoch 178/200\n",
            "8/8 [==============================] - 0s 14ms/step - loss: 0.0079 - mse: 1.1273e-04 - val_loss: 0.2537 - val_mse: 0.1113\n",
            "Epoch 179/200\n",
            "8/8 [==============================] - 0s 13ms/step - loss: 0.0079 - mse: 1.1278e-04 - val_loss: 0.2537 - val_mse: 0.1113\n",
            "Epoch 180/200\n",
            "8/8 [==============================] - 0s 15ms/step - loss: 0.0079 - mse: 1.1293e-04 - val_loss: 0.2538 - val_mse: 0.1114\n",
            "Epoch 181/200\n",
            "8/8 [==============================] - 0s 26ms/step - loss: 0.0079 - mse: 1.1308e-04 - val_loss: 0.2539 - val_mse: 0.1114\n",
            "Epoch 182/200\n",
            "8/8 [==============================] - 0s 16ms/step - loss: 0.0079 - mse: 1.1324e-04 - val_loss: 0.2539 - val_mse: 0.1114\n",
            "Epoch 183/200\n",
            "8/8 [==============================] - 0s 14ms/step - loss: 0.0079 - mse: 1.1330e-04 - val_loss: 0.2539 - val_mse: 0.1114\n",
            "Epoch 184/200\n",
            "8/8 [==============================] - 0s 14ms/step - loss: 0.0079 - mse: 1.1324e-04 - val_loss: 0.2539 - val_mse: 0.1114\n",
            "Epoch 185/200\n",
            "8/8 [==============================] - 0s 16ms/step - loss: 0.0079 - mse: 1.1324e-04 - val_loss: 0.2539 - val_mse: 0.1114\n",
            "Epoch 186/200\n",
            "8/8 [==============================] - 0s 14ms/step - loss: 0.0079 - mse: 1.1326e-04 - val_loss: 0.2539 - val_mse: 0.1114\n",
            "Epoch 187/200\n",
            "8/8 [==============================] - 0s 14ms/step - loss: 0.0079 - mse: 1.1315e-04 - val_loss: 0.2538 - val_mse: 0.1114\n",
            "Epoch 188/200\n",
            "8/8 [==============================] - 0s 25ms/step - loss: 0.0079 - mse: 1.1313e-04 - val_loss: 0.2538 - val_mse: 0.1114\n",
            "Epoch 189/200\n",
            "8/8 [==============================] - 0s 16ms/step - loss: 0.0079 - mse: 1.1295e-04 - val_loss: 0.2537 - val_mse: 0.1113\n",
            "Epoch 190/200\n",
            "8/8 [==============================] - 0s 26ms/step - loss: 0.0079 - mse: 1.1285e-04 - val_loss: 0.2537 - val_mse: 0.1113\n",
            "Epoch 191/200\n",
            "8/8 [==============================] - 0s 14ms/step - loss: 0.0079 - mse: 1.1280e-04 - val_loss: 0.2537 - val_mse: 0.1113\n",
            "Epoch 192/200\n",
            "8/8 [==============================] - 0s 14ms/step - loss: 0.0079 - mse: 1.1269e-04 - val_loss: 0.2536 - val_mse: 0.1112\n",
            "Epoch 193/200\n",
            "8/8 [==============================] - 0s 14ms/step - loss: 0.0079 - mse: 1.1259e-04 - val_loss: 0.2536 - val_mse: 0.1112\n",
            "Epoch 194/200\n",
            "8/8 [==============================] - 0s 14ms/step - loss: 0.0079 - mse: 1.1260e-04 - val_loss: 0.2536 - val_mse: 0.1112\n",
            "Epoch 195/200\n",
            "8/8 [==============================] - 0s 26ms/step - loss: 0.0079 - mse: 1.1257e-04 - val_loss: 0.2536 - val_mse: 0.1112\n",
            "Epoch 196/200\n",
            "8/8 [==============================] - 0s 15ms/step - loss: 0.0079 - mse: 1.1264e-04 - val_loss: 0.2536 - val_mse: 0.1112\n",
            "Epoch 197/200\n",
            "8/8 [==============================] - 0s 14ms/step - loss: 0.0079 - mse: 1.1265e-04 - val_loss: 0.2536 - val_mse: 0.1112\n",
            "Epoch 198/200\n",
            "8/8 [==============================] - 0s 14ms/step - loss: 0.0079 - mse: 1.1268e-04 - val_loss: 0.2537 - val_mse: 0.1112\n",
            "Epoch 199/200\n",
            "8/8 [==============================] - 0s 14ms/step - loss: 0.0079 - mse: 1.1273e-04 - val_loss: 0.2537 - val_mse: 0.1112\n",
            "Epoch 200/200\n",
            "8/8 [==============================] - 0s 14ms/step - loss: 0.0079 - mse: 1.1279e-04 - val_loss: 0.2537 - val_mse: 0.1113\n"
          ]
        }
      ]
    },
    {
      "cell_type": "code",
      "metadata": {
        "colab": {
          "base_uri": "https://localhost:8080/",
          "height": 571
        },
        "id": "8jvTWoKv0bo0",
        "outputId": "fc1ff600-b99d-4df5-906e-6a3f733cac69"
      },
      "source": [
        "results = model.predict(x_val)\n",
        "plt.plot(range(len(y_val)),y_val,c='g',label='real')\n",
        "plt.plot(range(len(results)),results,c='r',label='estimado')\n",
        "plt.title('validate')\n",
        "plt.legend(loc='best')"
      ],
      "execution_count": 394,
      "outputs": [
        {
          "output_type": "execute_result",
          "data": {
            "text/plain": [
              "<matplotlib.legend.Legend at 0x7f32b7161110>"
            ]
          },
          "metadata": {},
          "execution_count": 394
        },
        {
          "output_type": "display_data",
          "data": {
            "image/png": "[encoded data removed]",
            "text/plain": [
              "<Figure size 1152x648 with 1 Axes>"
            ]
          },
          "metadata": {
            "needs_background": "light"
          }
        }
      ]
    }
  ]
}