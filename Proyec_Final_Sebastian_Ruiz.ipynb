{
  "nbformat": 4,
  "nbformat_minor": 0,
  "metadata": {
    "colab": {
      "name": "Proyecto_final.ipynb",
      "provenance": [],
      "collapsed_sections": []
    },
    "kernelspec": {
      "name": "python3",
      "display_name": "Python 3"
    },
    "language_info": {
      "name": "python"
    }
  },
  "cells": [
    {
      "cell_type": "markdown",
      "metadata": {
        "id": "meYB2tqa6OQN"
      },
      "source": [
        "# Proyecto final\n",
        "Juan Sebastián Ruiz Caro"
      ]
    },
    {
      "cell_type": "code",
      "metadata": {
        "id": "X5neuwck7ADF"
      },
      "source": [
        "import pandas as pd\n",
        "import numpy as np\n",
        "import matplotlib.pylab as plt\n",
        "%matplotlib inline\n",
        "plt.rcParams['figure.figsize'] = (16,9)\n",
        "plt.style.use('fast')\n",
        "\n",
        "from keras.models import Sequential\n",
        "from keras.layers import Dense, Activation, Flatten\n",
        "from sklearn.preprocessing import MinMaxScaler"
      ],
      "execution_count": 398,
      "outputs": []
    },
    {
      "cell_type": "code",
      "metadata": {
        "id": "Ig5atvCpLhmA"
      },
      "source": [
        "from datetime import date, time, datetime\n",
        "import matplotlib.pyplot as plt\n",
        "import seaborn as sns"
      ],
      "execution_count": 399,
      "outputs": []
    },
    {
      "cell_type": "code",
      "metadata": {
        "id": "beDyrvEG9FK9"
      },
      "source": [
        "data = pd.read_csv('/content/Casos_Bogota.csv', sep=','  , engine='python', parse_dates=True)"
      ],
      "execution_count": 400,
      "outputs": []
    },
    {
      "cell_type": "code",
      "metadata": {
        "colab": {
          "base_uri": "https://localhost:8080/",
          "height": 382
        },
        "id": "0_WZrU6cC0ej",
        "outputId": "999c9c0d-fcb7-4541-902d-a8d8ac4b2c83"
      },
      "source": [
        "data.head()"
      ],
      "execution_count": 401,
      "outputs": [
        {
          "output_type": "execute_result",
          "data": {
            "text/html": [
              "<div>\n",
              "<style scoped>\n",
              "    .dataframe tbody tr th:only-of-type {\n",
              "        vertical-align: middle;\n",
              "    }\n",
              "\n",
              "    .dataframe tbody tr th {\n",
              "        vertical-align: top;\n",
              "    }\n",
              "\n",
              "    .dataframe thead th {\n",
              "        text-align: right;\n",
              "    }\n",
              "</style>\n",
              "<table border=\"1\" class=\"dataframe\">\n",
              "  <thead>\n",
              "    <tr style=\"text-align: right;\">\n",
              "      <th></th>\n",
              "      <th>fecha reporte web</th>\n",
              "      <th>ID de caso</th>\n",
              "      <th>Fecha de notificación</th>\n",
              "      <th>Código DIVIPOLA departamento</th>\n",
              "      <th>Nombre departamento</th>\n",
              "      <th>Código DIVIPOLA municipio</th>\n",
              "      <th>Nombre municipio</th>\n",
              "      <th>Edad</th>\n",
              "      <th>Unidad de medida de edad</th>\n",
              "      <th>Sexo</th>\n",
              "      <th>Tipo de contagio</th>\n",
              "      <th>Ubicación del caso</th>\n",
              "      <th>Estado</th>\n",
              "      <th>Código ISO del país</th>\n",
              "      <th>Nombre del país</th>\n",
              "      <th>Recuperado</th>\n",
              "      <th>Fecha de inicio de síntomas</th>\n",
              "      <th>Fecha de muerte</th>\n",
              "      <th>Fecha de diagnóstico</th>\n",
              "      <th>Fecha de recuperación</th>\n",
              "      <th>Tipo de recuperación</th>\n",
              "      <th>Pertenencia étnica</th>\n",
              "      <th>Nombre del grupo étnico</th>\n",
              "    </tr>\n",
              "  </thead>\n",
              "  <tbody>\n",
              "    <tr>\n",
              "      <th>0</th>\n",
              "      <td>6/3/2020 0:00:00</td>\n",
              "      <td>1</td>\n",
              "      <td>2/3/2020 0:00:00</td>\n",
              "      <td>11</td>\n",
              "      <td>BOGOTA</td>\n",
              "      <td>11001</td>\n",
              "      <td>BOGOTA</td>\n",
              "      <td>19</td>\n",
              "      <td>1</td>\n",
              "      <td>F</td>\n",
              "      <td>Importado</td>\n",
              "      <td>Casa</td>\n",
              "      <td>Leve</td>\n",
              "      <td>380.0</td>\n",
              "      <td>ITALIA</td>\n",
              "      <td>Recuperado</td>\n",
              "      <td>27/2/2020 0:00:00</td>\n",
              "      <td>NaN</td>\n",
              "      <td>6/3/2020 0:00:00</td>\n",
              "      <td>13/3/2020 0:00:00</td>\n",
              "      <td>PCR</td>\n",
              "      <td>6.0</td>\n",
              "      <td>NaN</td>\n",
              "    </tr>\n",
              "    <tr>\n",
              "      <th>1</th>\n",
              "      <td>11/3/2020 0:00:00</td>\n",
              "      <td>8</td>\n",
              "      <td>9/3/2020 0:00:00</td>\n",
              "      <td>11</td>\n",
              "      <td>BOGOTA</td>\n",
              "      <td>11001</td>\n",
              "      <td>BOGOTA</td>\n",
              "      <td>22</td>\n",
              "      <td>1</td>\n",
              "      <td>F</td>\n",
              "      <td>Importado</td>\n",
              "      <td>Casa</td>\n",
              "      <td>Leve</td>\n",
              "      <td>724.0</td>\n",
              "      <td>ESPAÑA</td>\n",
              "      <td>Recuperado</td>\n",
              "      <td>6/3/2020 0:00:00</td>\n",
              "      <td>NaN</td>\n",
              "      <td>11/3/2020 0:00:00</td>\n",
              "      <td>21/3/2020 0:00:00</td>\n",
              "      <td>PCR</td>\n",
              "      <td>6.0</td>\n",
              "      <td>NaN</td>\n",
              "    </tr>\n",
              "    <tr>\n",
              "      <th>2</th>\n",
              "      <td>11/3/2020 0:00:00</td>\n",
              "      <td>9</td>\n",
              "      <td>8/3/2020 0:00:00</td>\n",
              "      <td>11</td>\n",
              "      <td>BOGOTA</td>\n",
              "      <td>11001</td>\n",
              "      <td>BOGOTA</td>\n",
              "      <td>28</td>\n",
              "      <td>1</td>\n",
              "      <td>F</td>\n",
              "      <td>Importado</td>\n",
              "      <td>Casa</td>\n",
              "      <td>Leve</td>\n",
              "      <td>724.0</td>\n",
              "      <td>ESPAÑA</td>\n",
              "      <td>Recuperado</td>\n",
              "      <td>7/3/2020 0:00:00</td>\n",
              "      <td>NaN</td>\n",
              "      <td>11/3/2020 0:00:00</td>\n",
              "      <td>23/3/2020 0:00:00</td>\n",
              "      <td>PCR</td>\n",
              "      <td>6.0</td>\n",
              "      <td>NaN</td>\n",
              "    </tr>\n",
              "    <tr>\n",
              "      <th>3</th>\n",
              "      <td>12/3/2020 0:00:00</td>\n",
              "      <td>10</td>\n",
              "      <td>12/3/2020 0:00:00</td>\n",
              "      <td>11</td>\n",
              "      <td>BOGOTA</td>\n",
              "      <td>11001</td>\n",
              "      <td>BOGOTA</td>\n",
              "      <td>36</td>\n",
              "      <td>1</td>\n",
              "      <td>F</td>\n",
              "      <td>Importado</td>\n",
              "      <td>Casa</td>\n",
              "      <td>Leve</td>\n",
              "      <td>724.0</td>\n",
              "      <td>ESPAÑA</td>\n",
              "      <td>Recuperado</td>\n",
              "      <td>6/3/2020 0:00:00</td>\n",
              "      <td>NaN</td>\n",
              "      <td>12/3/2020 0:00:00</td>\n",
              "      <td>21/3/2020 0:00:00</td>\n",
              "      <td>PCR</td>\n",
              "      <td>6.0</td>\n",
              "      <td>NaN</td>\n",
              "    </tr>\n",
              "    <tr>\n",
              "      <th>4</th>\n",
              "      <td>12/3/2020 0:00:00</td>\n",
              "      <td>11</td>\n",
              "      <td>11/3/2020 0:00:00</td>\n",
              "      <td>11</td>\n",
              "      <td>BOGOTA</td>\n",
              "      <td>11001</td>\n",
              "      <td>BOGOTA</td>\n",
              "      <td>42</td>\n",
              "      <td>1</td>\n",
              "      <td>F</td>\n",
              "      <td>Importado</td>\n",
              "      <td>Casa</td>\n",
              "      <td>Leve</td>\n",
              "      <td>724.0</td>\n",
              "      <td>ESPAÑA</td>\n",
              "      <td>Recuperado</td>\n",
              "      <td>6/3/2020 0:00:00</td>\n",
              "      <td>NaN</td>\n",
              "      <td>12/3/2020 0:00:00</td>\n",
              "      <td>31/3/2020 0:00:00</td>\n",
              "      <td>PCR</td>\n",
              "      <td>6.0</td>\n",
              "      <td>NaN</td>\n",
              "    </tr>\n",
              "  </tbody>\n",
              "</table>\n",
              "</div>"
            ],
            "text/plain": [
              "   fecha reporte web  ID de caso  ... Pertenencia étnica  Nombre del grupo étnico\n",
              "0   6/3/2020 0:00:00           1  ...                6.0                      NaN\n",
              "1  11/3/2020 0:00:00           8  ...                6.0                      NaN\n",
              "2  11/3/2020 0:00:00           9  ...                6.0                      NaN\n",
              "3  12/3/2020 0:00:00          10  ...                6.0                      NaN\n",
              "4  12/3/2020 0:00:00          11  ...                6.0                      NaN\n",
              "\n",
              "[5 rows x 23 columns]"
            ]
          },
          "metadata": {},
          "execution_count": 401
        }
      ]
    },
    {
      "cell_type": "code",
      "metadata": {
        "colab": {
          "base_uri": "https://localhost:8080/"
        },
        "id": "SFacyIe-C9_g",
        "outputId": "181734b9-0d3d-4cae-d003-bccddf84ef5c"
      },
      "source": [
        "data.columns"
      ],
      "execution_count": 402,
      "outputs": [
        {
          "output_type": "execute_result",
          "data": {
            "text/plain": [
              "Index(['fecha reporte web', 'ID de caso', 'Fecha de notificación',\n",
              "       'Código DIVIPOLA departamento', 'Nombre departamento',\n",
              "       'Código DIVIPOLA municipio', 'Nombre municipio', 'Edad',\n",
              "       'Unidad de medida de edad', 'Sexo', 'Tipo de contagio',\n",
              "       'Ubicación del caso', 'Estado', 'Código ISO del país',\n",
              "       'Nombre del país', 'Recuperado', 'Fecha de inicio de síntomas',\n",
              "       'Fecha de muerte', 'Fecha de diagnóstico', 'Fecha de recuperación',\n",
              "       'Tipo de recuperación', 'Pertenencia étnica',\n",
              "       'Nombre del grupo étnico'],\n",
              "      dtype='object')"
            ]
          },
          "metadata": {},
          "execution_count": 402
        }
      ]
    },
    {
      "cell_type": "code",
      "metadata": {
        "id": "9G-fYTwYC1qM"
      },
      "source": [
        "data_1 = data[data['Nombre departamento'] == 'BOGOTA']"
      ],
      "execution_count": 403,
      "outputs": []
    },
    {
      "cell_type": "markdown",
      "metadata": {
        "id": "-O9SlhR0ObYE"
      },
      "source": [
        "## Análisis exploratorio de datos"
      ]
    },
    {
      "cell_type": "code",
      "metadata": {
        "id": "vYrMKcsgP0jz"
      },
      "source": [
        "Datos = data_1.filter(['Edad', 'Sexo','Tipo de contagio', 'Ubicación del caso', 'Estado'])"
      ],
      "execution_count": 404,
      "outputs": []
    },
    {
      "cell_type": "markdown",
      "metadata": {
        "id": "1Eo5htxBSK97"
      },
      "source": [
        "### Edad\n",
        "En promedio, los contagiados en la ciudad de Bogota tiene una edad de $38.57$ años. El individuo contagiado con menos edad tuvo un año, en contra posición, la persona con mas edad que contrago el virus tiene $114$ años. Ademas, la distribución de las edades presenta asimetria positiva, es decir, es mas frecuente encontrar dentro de los contagiados personas con edades entre los $20$ y $40$ años."
      ]
    },
    {
      "cell_type": "code",
      "metadata": {
        "colab": {
          "base_uri": "https://localhost:8080/",
          "height": 300
        },
        "id": "1oePx8cZQl5k",
        "outputId": "45704faa-c248-4ef2-c4f3-b5b74de3ebd9"
      },
      "source": [
        "pd.DataFrame(Datos['Edad'].describe().round(2))"
      ],
      "execution_count": 405,
      "outputs": [
        {
          "output_type": "execute_result",
          "data": {
            "text/html": [
              "<div>\n",
              "<style scoped>\n",
              "    .dataframe tbody tr th:only-of-type {\n",
              "        vertical-align: middle;\n",
              "    }\n",
              "\n",
              "    .dataframe tbody tr th {\n",
              "        vertical-align: top;\n",
              "    }\n",
              "\n",
              "    .dataframe thead th {\n",
              "        text-align: right;\n",
              "    }\n",
              "</style>\n",
              "<table border=\"1\" class=\"dataframe\">\n",
              "  <thead>\n",
              "    <tr style=\"text-align: right;\">\n",
              "      <th></th>\n",
              "      <th>Edad</th>\n",
              "    </tr>\n",
              "  </thead>\n",
              "  <tbody>\n",
              "    <tr>\n",
              "      <th>count</th>\n",
              "      <td>1460569.00</td>\n",
              "    </tr>\n",
              "    <tr>\n",
              "      <th>mean</th>\n",
              "      <td>38.57</td>\n",
              "    </tr>\n",
              "    <tr>\n",
              "      <th>std</th>\n",
              "      <td>17.65</td>\n",
              "    </tr>\n",
              "    <tr>\n",
              "      <th>min</th>\n",
              "      <td>1.00</td>\n",
              "    </tr>\n",
              "    <tr>\n",
              "      <th>25%</th>\n",
              "      <td>26.00</td>\n",
              "    </tr>\n",
              "    <tr>\n",
              "      <th>50%</th>\n",
              "      <td>36.00</td>\n",
              "    </tr>\n",
              "    <tr>\n",
              "      <th>75%</th>\n",
              "      <td>51.00</td>\n",
              "    </tr>\n",
              "    <tr>\n",
              "      <th>max</th>\n",
              "      <td>114.00</td>\n",
              "    </tr>\n",
              "  </tbody>\n",
              "</table>\n",
              "</div>"
            ],
            "text/plain": [
              "             Edad\n",
              "count  1460569.00\n",
              "mean        38.57\n",
              "std         17.65\n",
              "min          1.00\n",
              "25%         26.00\n",
              "50%         36.00\n",
              "75%         51.00\n",
              "max        114.00"
            ]
          },
          "metadata": {},
          "execution_count": 405
        }
      ]
    },
    {
      "cell_type": "code",
      "metadata": {
        "colab": {
          "base_uri": "https://localhost:8080/",
          "height": 626
        },
        "id": "7uDCTHVxRCF6",
        "outputId": "c84e27c4-74e8-4923-e2b2-40bef151a465"
      },
      "source": [
        "sns.distplot(Datos['Edad'])"
      ],
      "execution_count": 406,
      "outputs": [
        {
          "output_type": "stream",
          "name": "stderr",
          "text": [
            "/usr/local/lib/python3.7/dist-packages/seaborn/distributions.py:2619: FutureWarning: `distplot` is a deprecated function and will be removed in a future version. Please adapt your code to use either `displot` (a figure-level function with similar flexibility) or `histplot` (an axes-level function for histograms).\n",
            "  warnings.warn(msg, FutureWarning)\n"
          ]
        },
        {
          "output_type": "execute_result",
          "data": {
            "text/plain": [
              "<matplotlib.axes._subplots.AxesSubplot at 0x7f32a7f6cbd0>"
            ]
          },
          "metadata": {},
          "execution_count": 406
        },
        {
          "output_type": "display_data",
          "data": {
            "image/png": "[encoded data removed]",
            "text/plain": [
              "<Figure size 1152x648 with 1 Axes>"
            ]
          },
          "metadata": {
            "needs_background": "light"
          }
        }
      ]
    },
    {
      "cell_type": "markdown",
      "metadata": {
        "id": "_N0xqBfnTkH2"
      },
      "source": [
        "### Sexo\n",
        "En cuanto al sexo de los contagiados en la ciudad de Bogotá, observamos que se presenta de manera similar tanto en el sexo masculino como femenino, aunque levemente se presenta un poco mas en el sexo femenino con un $53.454$% de los casos."
      ]
    },
    {
      "cell_type": "code",
      "metadata": {
        "id": "gm1GjiguFcTK",
        "colab": {
          "base_uri": "https://localhost:8080/",
          "height": 174
        },
        "outputId": "beeb4625-65c6-4641-8df4-024b75c61d3e"
      },
      "source": [
        "pd.DataFrame(round(100*Datos['Sexo'].value_counts()/Datos['Sexo'].value_counts().sum(),3))"
      ],
      "execution_count": 407,
      "outputs": [
        {
          "output_type": "execute_result",
          "data": {
            "text/html": [
              "<div>\n",
              "<style scoped>\n",
              "    .dataframe tbody tr th:only-of-type {\n",
              "        vertical-align: middle;\n",
              "    }\n",
              "\n",
              "    .dataframe tbody tr th {\n",
              "        vertical-align: top;\n",
              "    }\n",
              "\n",
              "    .dataframe thead th {\n",
              "        text-align: right;\n",
              "    }\n",
              "</style>\n",
              "<table border=\"1\" class=\"dataframe\">\n",
              "  <thead>\n",
              "    <tr style=\"text-align: right;\">\n",
              "      <th></th>\n",
              "      <th>Sexo</th>\n",
              "    </tr>\n",
              "  </thead>\n",
              "  <tbody>\n",
              "    <tr>\n",
              "      <th>F</th>\n",
              "      <td>53.454</td>\n",
              "    </tr>\n",
              "    <tr>\n",
              "      <th>M</th>\n",
              "      <td>46.545</td>\n",
              "    </tr>\n",
              "    <tr>\n",
              "      <th>m</th>\n",
              "      <td>0.000</td>\n",
              "    </tr>\n",
              "    <tr>\n",
              "      <th>f</th>\n",
              "      <td>0.000</td>\n",
              "    </tr>\n",
              "  </tbody>\n",
              "</table>\n",
              "</div>"
            ],
            "text/plain": [
              "     Sexo\n",
              "F  53.454\n",
              "M  46.545\n",
              "m   0.000\n",
              "f   0.000"
            ]
          },
          "metadata": {},
          "execution_count": 407
        }
      ]
    },
    {
      "cell_type": "code",
      "metadata": {
        "id": "xJx_tGgAFbTw",
        "colab": {
          "base_uri": "https://localhost:8080/",
          "height": 566
        },
        "outputId": "f7bd06ce-0ed9-4a43-9f6e-a634f599510e"
      },
      "source": [
        "plt.bar(['Femenino', 'Masculino'], [427154 + 3 , 377545 + 2], color = ['orange','green'])\n",
        "plt.title('Sexo de los contagiados en la ciudad de Bogotá')\n",
        "plt.xlabel('Sexo')\n",
        "plt.ylabel('Frecuencia')\n",
        "plt.show()"
      ],
      "execution_count": 408,
      "outputs": [
        {
          "output_type": "display_data",
          "data": {
            "image/png": "[encoded data removed]",
            "text/plain": [
              "<Figure size 1152x648 with 1 Axes>"
            ]
          },
          "metadata": {
            "needs_background": "light"
          }
        }
      ]
    },
    {
      "cell_type": "markdown",
      "metadata": {
        "id": "txgg5UwNU5xD"
      },
      "source": [
        "### Tipo de contagio\n",
        "\n",
        "El tipo de contagio mas frecuente dentro de los contagiados es en estudio con un $48.47$%, lo que quiere decir que en una parte importante, se desconoce el tipo de contagio de los que contraen el virus, seguido de relacionado con un $36.14$%, unicamente el $0.06$% de los casos son importados."
      ]
    },
    {
      "cell_type": "code",
      "metadata": {
        "colab": {
          "base_uri": "https://localhost:8080/"
        },
        "id": "YYiYzr5NU7Aa",
        "outputId": "e6207822-c0ec-43a1-ed47-0edbf4a7acb9"
      },
      "source": [
        "Datos['Tipo de contagio'].value_counts()"
      ],
      "execution_count": 409,
      "outputs": [
        {
          "output_type": "execute_result",
          "data": {
            "text/plain": [
              "En estudio     708003\n",
              "Relacionado    527806\n",
              "Comunitaria    223821\n",
              "Importado         939\n",
              "Name: Tipo de contagio, dtype: int64"
            ]
          },
          "metadata": {},
          "execution_count": 409
        }
      ]
    },
    {
      "cell_type": "code",
      "metadata": {
        "colab": {
          "base_uri": "https://localhost:8080/"
        },
        "id": "0MnH3EGsWbI6",
        "outputId": "7e988f3e-1a61-4048-ca62-53583458c18e"
      },
      "source": [
        "round(100*Datos['Tipo de contagio'].value_counts()/Datos['Tipo de contagio'].value_counts().sum(),2)"
      ],
      "execution_count": 410,
      "outputs": [
        {
          "output_type": "execute_result",
          "data": {
            "text/plain": [
              "En estudio     48.47\n",
              "Relacionado    36.14\n",
              "Comunitaria    15.32\n",
              "Importado       0.06\n",
              "Name: Tipo de contagio, dtype: float64"
            ]
          },
          "metadata": {},
          "execution_count": 410
        }
      ]
    },
    {
      "cell_type": "code",
      "metadata": {
        "colab": {
          "base_uri": "https://localhost:8080/",
          "height": 566
        },
        "id": "bCNqt5HEU__4",
        "outputId": "c129ccc0-72b5-4bfa-a58f-dcae139d6d47"
      },
      "source": [
        "plt.bar(['En estudio','Relacionado', 'Comunitaria', 'Importado '], [708003, 527806, 223821,939 ])\n",
        "plt.title('Tipo de contagio en la ciudad de Bogotá')\n",
        "plt.xlabel('Tipo de contagio')\n",
        "plt.ylabel('Frecuencia')\n",
        "plt.show()"
      ],
      "execution_count": 411,
      "outputs": [
        {
          "output_type": "display_data",
          "data": {
            "image/png": "[encoded data removed]",
            "text/plain": [
              "<Figure size 1152x648 with 1 Axes>"
            ]
          },
          "metadata": {
            "needs_background": "light"
          }
        }
      ]
    },
    {
      "cell_type": "markdown",
      "metadata": {
        "id": "k3xGGKKKXDCA"
      },
      "source": [
        "### Ubicación del caso\n",
        "\n",
        "De los casos registrados, el $98.08$% se encuentran en su casa, $1.9$% fallecieron, unicamente el $0.01$% se encuentra en UCI.\n"
      ]
    },
    {
      "cell_type": "code",
      "metadata": {
        "colab": {
          "base_uri": "https://localhost:8080/",
          "height": 206
        },
        "id": "ZPmOjhSuWxKx",
        "outputId": "f393788d-df44-4fb4-ae1c-defcea6fc761"
      },
      "source": [
        "pd.DataFrame(round(100*Datos['Ubicación del caso'].value_counts()/Datos['Ubicación del caso'].value_counts().sum(),2))"
      ],
      "execution_count": 412,
      "outputs": [
        {
          "output_type": "execute_result",
          "data": {
            "text/html": [
              "<div>\n",
              "<style scoped>\n",
              "    .dataframe tbody tr th:only-of-type {\n",
              "        vertical-align: middle;\n",
              "    }\n",
              "\n",
              "    .dataframe tbody tr th {\n",
              "        vertical-align: top;\n",
              "    }\n",
              "\n",
              "    .dataframe thead th {\n",
              "        text-align: right;\n",
              "    }\n",
              "</style>\n",
              "<table border=\"1\" class=\"dataframe\">\n",
              "  <thead>\n",
              "    <tr style=\"text-align: right;\">\n",
              "      <th></th>\n",
              "      <th>Ubicación del caso</th>\n",
              "    </tr>\n",
              "  </thead>\n",
              "  <tbody>\n",
              "    <tr>\n",
              "      <th>Casa</th>\n",
              "      <td>98.04</td>\n",
              "    </tr>\n",
              "    <tr>\n",
              "      <th>Fallecido</th>\n",
              "      <td>1.90</td>\n",
              "    </tr>\n",
              "    <tr>\n",
              "      <th>casa</th>\n",
              "      <td>0.04</td>\n",
              "    </tr>\n",
              "    <tr>\n",
              "      <th>Hospital</th>\n",
              "      <td>0.01</td>\n",
              "    </tr>\n",
              "    <tr>\n",
              "      <th>Hospital UCI</th>\n",
              "      <td>0.01</td>\n",
              "    </tr>\n",
              "  </tbody>\n",
              "</table>\n",
              "</div>"
            ],
            "text/plain": [
              "              Ubicación del caso\n",
              "Casa                       98.04\n",
              "Fallecido                   1.90\n",
              "casa                        0.04\n",
              "Hospital                    0.01\n",
              "Hospital UCI                0.01"
            ]
          },
          "metadata": {},
          "execution_count": 412
        }
      ]
    },
    {
      "cell_type": "code",
      "metadata": {
        "colab": {
          "base_uri": "https://localhost:8080/"
        },
        "id": "38Pwj11WZw5d",
        "outputId": "df04885d-a53e-409e-dd6a-d36e5412d9a2"
      },
      "source": [
        "Datos['Ubicación del caso'].value_counts()"
      ],
      "execution_count": 413,
      "outputs": [
        {
          "output_type": "execute_result",
          "data": {
            "text/plain": [
              "Casa            1427285\n",
              "Fallecido         27718\n",
              "casa                558\n",
              "Hospital            111\n",
              "Hospital UCI         93\n",
              "Name: Ubicación del caso, dtype: int64"
            ]
          },
          "metadata": {},
          "execution_count": 413
        }
      ]
    },
    {
      "cell_type": "code",
      "metadata": {
        "colab": {
          "base_uri": "https://localhost:8080/"
        },
        "id": "TCRb2ECmEBwX",
        "outputId": "b63a47d8-d43b-40ab-fa1a-6f1b2888c91b"
      },
      "source": [
        "Datos['Ubicación del caso'].value_counts()"
      ],
      "execution_count": 414,
      "outputs": [
        {
          "output_type": "execute_result",
          "data": {
            "text/plain": [
              "Casa            1427285\n",
              "Fallecido         27718\n",
              "casa                558\n",
              "Hospital            111\n",
              "Hospital UCI         93\n",
              "Name: Ubicación del caso, dtype: int64"
            ]
          },
          "metadata": {},
          "execution_count": 414
        }
      ]
    },
    {
      "cell_type": "code",
      "metadata": {
        "colab": {
          "base_uri": "https://localhost:8080/",
          "height": 566
        },
        "id": "gfZ9h6ZLZdTP",
        "outputId": "ff9ba1eb-aebd-41e4-c8ba-6209559f756f"
      },
      "source": [
        "plt.bar(['Casa', 'Fallecido', 'Hospital', 'Hospital UCI' ], [1427285+558,27718,111,93])\n",
        "plt.title('Ubicación del caso la ciudad de Bogotá')\n",
        "plt.xlabel('Ubicación del caso')\n",
        "plt.ylabel('Frecuencia')\n",
        "plt.show()"
      ],
      "execution_count": 415,
      "outputs": [
        {
          "output_type": "display_data",
          "data": {
            "image/png": "[encoded data removed]",
            "text/plain": [
              "<Figure size 1152x648 with 1 Axes>"
            ]
          },
          "metadata": {
            "needs_background": "light"
          }
        }
      ]
    },
    {
      "cell_type": "code",
      "metadata": {
        "id": "WJjotXBtNIZ8"
      },
      "source": [
        "Casos = data_1['fecha reporte web']"
      ],
      "execution_count": 416,
      "outputs": []
    },
    {
      "cell_type": "code",
      "metadata": {
        "id": "54DgzMl6NvLG"
      },
      "source": [
        "Casos = Casos.str[:-7]"
      ],
      "execution_count": 417,
      "outputs": []
    },
    {
      "cell_type": "code",
      "metadata": {
        "colab": {
          "base_uri": "https://localhost:8080/",
          "height": 454
        },
        "id": "meNbYOZLNSYX",
        "outputId": "9246828c-c4cf-4473-b014-0c22c3d9846e"
      },
      "source": [
        "Casos = pd.DataFrame(Casos) \n",
        "Casos = pd.DataFrame(Casos.value_counts()) ; Casos"
      ],
      "execution_count": 418,
      "outputs": [
        {
          "output_type": "execute_result",
          "data": {
            "text/html": [
              "<div>\n",
              "<style scoped>\n",
              "    .dataframe tbody tr th:only-of-type {\n",
              "        vertical-align: middle;\n",
              "    }\n",
              "\n",
              "    .dataframe tbody tr th {\n",
              "        vertical-align: top;\n",
              "    }\n",
              "\n",
              "    .dataframe thead th {\n",
              "        text-align: right;\n",
              "    }\n",
              "</style>\n",
              "<table border=\"1\" class=\"dataframe\">\n",
              "  <thead>\n",
              "    <tr style=\"text-align: right;\">\n",
              "      <th></th>\n",
              "      <th>0</th>\n",
              "    </tr>\n",
              "    <tr>\n",
              "      <th>fecha reporte web</th>\n",
              "      <th></th>\n",
              "    </tr>\n",
              "  </thead>\n",
              "  <tbody>\n",
              "    <tr>\n",
              "      <th>24/6/2021</th>\n",
              "      <td>15569</td>\n",
              "    </tr>\n",
              "    <tr>\n",
              "      <th>17/6/2021</th>\n",
              "      <td>12493</td>\n",
              "    </tr>\n",
              "    <tr>\n",
              "      <th>19/6/2021</th>\n",
              "      <td>11729</td>\n",
              "    </tr>\n",
              "    <tr>\n",
              "      <th>1/7/2021</th>\n",
              "      <td>11545</td>\n",
              "    </tr>\n",
              "    <tr>\n",
              "      <th>30/6/2021</th>\n",
              "      <td>11493</td>\n",
              "    </tr>\n",
              "    <tr>\n",
              "      <th>...</th>\n",
              "      <td>...</td>\n",
              "    </tr>\n",
              "    <tr>\n",
              "      <th>22/3/2020</th>\n",
              "      <td>4</td>\n",
              "    </tr>\n",
              "    <tr>\n",
              "      <th>12/3/2020</th>\n",
              "      <td>2</td>\n",
              "    </tr>\n",
              "    <tr>\n",
              "      <th>11/3/2020</th>\n",
              "      <td>2</td>\n",
              "    </tr>\n",
              "    <tr>\n",
              "      <th>13/3/2020</th>\n",
              "      <td>1</td>\n",
              "    </tr>\n",
              "    <tr>\n",
              "      <th>6/3/2020</th>\n",
              "      <td>1</td>\n",
              "    </tr>\n",
              "  </tbody>\n",
              "</table>\n",
              "<p>623 rows × 1 columns</p>\n",
              "</div>"
            ],
            "text/plain": [
              "                       0\n",
              "fecha reporte web       \n",
              "24/6/2021          15569\n",
              "17/6/2021          12493\n",
              "19/6/2021          11729\n",
              "1/7/2021           11545\n",
              "30/6/2021          11493\n",
              "...                  ...\n",
              "22/3/2020              4\n",
              "12/3/2020              2\n",
              "11/3/2020              2\n",
              "13/3/2020              1\n",
              "6/3/2020               1\n",
              "\n",
              "[623 rows x 1 columns]"
            ]
          },
          "metadata": {},
          "execution_count": 418
        }
      ]
    },
    {
      "cell_type": "code",
      "metadata": {
        "colab": {
          "base_uri": "https://localhost:8080/",
          "height": 423
        },
        "id": "eEGWizjxQfLE",
        "outputId": "a52df52a-200d-4656-9734-d8f7dc104849"
      },
      "source": [
        "Casos = Casos.rename_axis(['0']).reset_index() ; Casos"
      ],
      "execution_count": 419,
      "outputs": [
        {
          "output_type": "execute_result",
          "data": {
            "text/html": [
              "<div>\n",
              "<style scoped>\n",
              "    .dataframe tbody tr th:only-of-type {\n",
              "        vertical-align: middle;\n",
              "    }\n",
              "\n",
              "    .dataframe tbody tr th {\n",
              "        vertical-align: top;\n",
              "    }\n",
              "\n",
              "    .dataframe thead th {\n",
              "        text-align: right;\n",
              "    }\n",
              "</style>\n",
              "<table border=\"1\" class=\"dataframe\">\n",
              "  <thead>\n",
              "    <tr style=\"text-align: right;\">\n",
              "      <th></th>\n",
              "      <th>0</th>\n",
              "      <th>0</th>\n",
              "    </tr>\n",
              "  </thead>\n",
              "  <tbody>\n",
              "    <tr>\n",
              "      <th>0</th>\n",
              "      <td>24/6/2021</td>\n",
              "      <td>15569</td>\n",
              "    </tr>\n",
              "    <tr>\n",
              "      <th>1</th>\n",
              "      <td>17/6/2021</td>\n",
              "      <td>12493</td>\n",
              "    </tr>\n",
              "    <tr>\n",
              "      <th>2</th>\n",
              "      <td>19/6/2021</td>\n",
              "      <td>11729</td>\n",
              "    </tr>\n",
              "    <tr>\n",
              "      <th>3</th>\n",
              "      <td>1/7/2021</td>\n",
              "      <td>11545</td>\n",
              "    </tr>\n",
              "    <tr>\n",
              "      <th>4</th>\n",
              "      <td>30/6/2021</td>\n",
              "      <td>11493</td>\n",
              "    </tr>\n",
              "    <tr>\n",
              "      <th>...</th>\n",
              "      <td>...</td>\n",
              "      <td>...</td>\n",
              "    </tr>\n",
              "    <tr>\n",
              "      <th>618</th>\n",
              "      <td>22/3/2020</td>\n",
              "      <td>4</td>\n",
              "    </tr>\n",
              "    <tr>\n",
              "      <th>619</th>\n",
              "      <td>12/3/2020</td>\n",
              "      <td>2</td>\n",
              "    </tr>\n",
              "    <tr>\n",
              "      <th>620</th>\n",
              "      <td>11/3/2020</td>\n",
              "      <td>2</td>\n",
              "    </tr>\n",
              "    <tr>\n",
              "      <th>621</th>\n",
              "      <td>13/3/2020</td>\n",
              "      <td>1</td>\n",
              "    </tr>\n",
              "    <tr>\n",
              "      <th>622</th>\n",
              "      <td>6/3/2020</td>\n",
              "      <td>1</td>\n",
              "    </tr>\n",
              "  </tbody>\n",
              "</table>\n",
              "<p>623 rows × 2 columns</p>\n",
              "</div>"
            ],
            "text/plain": [
              "              0      0\n",
              "0    24/6/2021   15569\n",
              "1    17/6/2021   12493\n",
              "2    19/6/2021   11729\n",
              "3     1/7/2021   11545\n",
              "4    30/6/2021   11493\n",
              "..          ...    ...\n",
              "618  22/3/2020       4\n",
              "619  12/3/2020       2\n",
              "620  11/3/2020       2\n",
              "621  13/3/2020       1\n",
              "622   6/3/2020       1\n",
              "\n",
              "[623 rows x 2 columns]"
            ]
          },
          "metadata": {},
          "execution_count": 419
        }
      ]
    },
    {
      "cell_type": "code",
      "metadata": {
        "id": "lZj5QP3TY2uQ"
      },
      "source": [
        "Casos.columns = ['Fecha', 'f']"
      ],
      "execution_count": 420,
      "outputs": []
    },
    {
      "cell_type": "code",
      "metadata": {
        "colab": {
          "base_uri": "https://localhost:8080/",
          "height": 423
        },
        "id": "4J3M2C5gaOJk",
        "outputId": "550920b5-41c9-47da-85e5-59675605f5b4"
      },
      "source": [
        "Casos['Fecha'] = Casos['Fecha'].replace(['1', '2', '3', '4', '5', '6', '7', '8', '9'],['01', '02', '03', '04', '05', '06', '07', '08', '09']) ; Casos"
      ],
      "execution_count": 421,
      "outputs": [
        {
          "output_type": "execute_result",
          "data": {
            "text/html": [
              "<div>\n",
              "<style scoped>\n",
              "    .dataframe tbody tr th:only-of-type {\n",
              "        vertical-align: middle;\n",
              "    }\n",
              "\n",
              "    .dataframe tbody tr th {\n",
              "        vertical-align: top;\n",
              "    }\n",
              "\n",
              "    .dataframe thead th {\n",
              "        text-align: right;\n",
              "    }\n",
              "</style>\n",
              "<table border=\"1\" class=\"dataframe\">\n",
              "  <thead>\n",
              "    <tr style=\"text-align: right;\">\n",
              "      <th></th>\n",
              "      <th>Fecha</th>\n",
              "      <th>f</th>\n",
              "    </tr>\n",
              "  </thead>\n",
              "  <tbody>\n",
              "    <tr>\n",
              "      <th>0</th>\n",
              "      <td>24/6/2021</td>\n",
              "      <td>15569</td>\n",
              "    </tr>\n",
              "    <tr>\n",
              "      <th>1</th>\n",
              "      <td>17/6/2021</td>\n",
              "      <td>12493</td>\n",
              "    </tr>\n",
              "    <tr>\n",
              "      <th>2</th>\n",
              "      <td>19/6/2021</td>\n",
              "      <td>11729</td>\n",
              "    </tr>\n",
              "    <tr>\n",
              "      <th>3</th>\n",
              "      <td>1/7/2021</td>\n",
              "      <td>11545</td>\n",
              "    </tr>\n",
              "    <tr>\n",
              "      <th>4</th>\n",
              "      <td>30/6/2021</td>\n",
              "      <td>11493</td>\n",
              "    </tr>\n",
              "    <tr>\n",
              "      <th>...</th>\n",
              "      <td>...</td>\n",
              "      <td>...</td>\n",
              "    </tr>\n",
              "    <tr>\n",
              "      <th>618</th>\n",
              "      <td>22/3/2020</td>\n",
              "      <td>4</td>\n",
              "    </tr>\n",
              "    <tr>\n",
              "      <th>619</th>\n",
              "      <td>12/3/2020</td>\n",
              "      <td>2</td>\n",
              "    </tr>\n",
              "    <tr>\n",
              "      <th>620</th>\n",
              "      <td>11/3/2020</td>\n",
              "      <td>2</td>\n",
              "    </tr>\n",
              "    <tr>\n",
              "      <th>621</th>\n",
              "      <td>13/3/2020</td>\n",
              "      <td>1</td>\n",
              "    </tr>\n",
              "    <tr>\n",
              "      <th>622</th>\n",
              "      <td>6/3/2020</td>\n",
              "      <td>1</td>\n",
              "    </tr>\n",
              "  </tbody>\n",
              "</table>\n",
              "<p>623 rows × 2 columns</p>\n",
              "</div>"
            ],
            "text/plain": [
              "          Fecha      f\n",
              "0    24/6/2021   15569\n",
              "1    17/6/2021   12493\n",
              "2    19/6/2021   11729\n",
              "3     1/7/2021   11545\n",
              "4    30/6/2021   11493\n",
              "..          ...    ...\n",
              "618  22/3/2020       4\n",
              "619  12/3/2020       2\n",
              "620  11/3/2020       2\n",
              "621  13/3/2020       1\n",
              "622   6/3/2020       1\n",
              "\n",
              "[623 rows x 2 columns]"
            ]
          },
          "metadata": {},
          "execution_count": 421
        }
      ]
    },
    {
      "cell_type": "code",
      "metadata": {
        "colab": {
          "base_uri": "https://localhost:8080/",
          "height": 423
        },
        "id": "4S7YTm8daQUh",
        "outputId": "d98ef445-5af3-40cb-b3da-ac7962c8a8eb"
      },
      "source": [
        "Fecha_1 = Casos['Fecha'].str.split('/', expand = True)\n",
        "Fecha_1.columns = ['Dia', 'Mes', 'Año'] ; Fecha_1"
      ],
      "execution_count": 422,
      "outputs": [
        {
          "output_type": "execute_result",
          "data": {
            "text/html": [
              "<div>\n",
              "<style scoped>\n",
              "    .dataframe tbody tr th:only-of-type {\n",
              "        vertical-align: middle;\n",
              "    }\n",
              "\n",
              "    .dataframe tbody tr th {\n",
              "        vertical-align: top;\n",
              "    }\n",
              "\n",
              "    .dataframe thead th {\n",
              "        text-align: right;\n",
              "    }\n",
              "</style>\n",
              "<table border=\"1\" class=\"dataframe\">\n",
              "  <thead>\n",
              "    <tr style=\"text-align: right;\">\n",
              "      <th></th>\n",
              "      <th>Dia</th>\n",
              "      <th>Mes</th>\n",
              "      <th>Año</th>\n",
              "    </tr>\n",
              "  </thead>\n",
              "  <tbody>\n",
              "    <tr>\n",
              "      <th>0</th>\n",
              "      <td>24</td>\n",
              "      <td>6</td>\n",
              "      <td>2021</td>\n",
              "    </tr>\n",
              "    <tr>\n",
              "      <th>1</th>\n",
              "      <td>17</td>\n",
              "      <td>6</td>\n",
              "      <td>2021</td>\n",
              "    </tr>\n",
              "    <tr>\n",
              "      <th>2</th>\n",
              "      <td>19</td>\n",
              "      <td>6</td>\n",
              "      <td>2021</td>\n",
              "    </tr>\n",
              "    <tr>\n",
              "      <th>3</th>\n",
              "      <td>1</td>\n",
              "      <td>7</td>\n",
              "      <td>2021</td>\n",
              "    </tr>\n",
              "    <tr>\n",
              "      <th>4</th>\n",
              "      <td>30</td>\n",
              "      <td>6</td>\n",
              "      <td>2021</td>\n",
              "    </tr>\n",
              "    <tr>\n",
              "      <th>...</th>\n",
              "      <td>...</td>\n",
              "      <td>...</td>\n",
              "      <td>...</td>\n",
              "    </tr>\n",
              "    <tr>\n",
              "      <th>618</th>\n",
              "      <td>22</td>\n",
              "      <td>3</td>\n",
              "      <td>2020</td>\n",
              "    </tr>\n",
              "    <tr>\n",
              "      <th>619</th>\n",
              "      <td>12</td>\n",
              "      <td>3</td>\n",
              "      <td>2020</td>\n",
              "    </tr>\n",
              "    <tr>\n",
              "      <th>620</th>\n",
              "      <td>11</td>\n",
              "      <td>3</td>\n",
              "      <td>2020</td>\n",
              "    </tr>\n",
              "    <tr>\n",
              "      <th>621</th>\n",
              "      <td>13</td>\n",
              "      <td>3</td>\n",
              "      <td>2020</td>\n",
              "    </tr>\n",
              "    <tr>\n",
              "      <th>622</th>\n",
              "      <td>6</td>\n",
              "      <td>3</td>\n",
              "      <td>2020</td>\n",
              "    </tr>\n",
              "  </tbody>\n",
              "</table>\n",
              "<p>623 rows × 3 columns</p>\n",
              "</div>"
            ],
            "text/plain": [
              "    Dia Mes    Año\n",
              "0    24   6  2021 \n",
              "1    17   6  2021 \n",
              "2    19   6  2021 \n",
              "3     1   7  2021 \n",
              "4    30   6  2021 \n",
              "..   ..  ..    ...\n",
              "618  22   3  2020 \n",
              "619  12   3  2020 \n",
              "620  11   3  2020 \n",
              "621  13   3  2020 \n",
              "622   6   3  2020 \n",
              "\n",
              "[623 rows x 3 columns]"
            ]
          },
          "metadata": {},
          "execution_count": 422
        }
      ]
    },
    {
      "cell_type": "code",
      "metadata": {
        "id": "9_Cj88tUbuSn"
      },
      "source": [
        "Fecha_1['Mes'] = Fecha_1['Mes'].replace(['1', '2', '3', '4', '5', '6', '7', '8', '9', '10', '11', '12'],['01', '02', '03', '04', '05', '06', '07', '08', '09', '10', '11', '12'])\n",
        "Fecha_1['Dia'] = Fecha_1['Dia'].replace(['1', '2', '3', '4', '5', '6', '7', '8', '9'],['01', '02', '03', '04', '05', '06', '07', '08', '09'])"
      ],
      "execution_count": 423,
      "outputs": []
    },
    {
      "cell_type": "code",
      "metadata": {
        "colab": {
          "base_uri": "https://localhost:8080/",
          "height": 423
        },
        "id": "7spBKxkrcYYw",
        "outputId": "78c069d9-a75d-4326-8eab-fe18e3c9e900"
      },
      "source": [
        "Fecha_1"
      ],
      "execution_count": 424,
      "outputs": [
        {
          "output_type": "execute_result",
          "data": {
            "text/html": [
              "<div>\n",
              "<style scoped>\n",
              "    .dataframe tbody tr th:only-of-type {\n",
              "        vertical-align: middle;\n",
              "    }\n",
              "\n",
              "    .dataframe tbody tr th {\n",
              "        vertical-align: top;\n",
              "    }\n",
              "\n",
              "    .dataframe thead th {\n",
              "        text-align: right;\n",
              "    }\n",
              "</style>\n",
              "<table border=\"1\" class=\"dataframe\">\n",
              "  <thead>\n",
              "    <tr style=\"text-align: right;\">\n",
              "      <th></th>\n",
              "      <th>Dia</th>\n",
              "      <th>Mes</th>\n",
              "      <th>Año</th>\n",
              "    </tr>\n",
              "  </thead>\n",
              "  <tbody>\n",
              "    <tr>\n",
              "      <th>0</th>\n",
              "      <td>24</td>\n",
              "      <td>06</td>\n",
              "      <td>2021</td>\n",
              "    </tr>\n",
              "    <tr>\n",
              "      <th>1</th>\n",
              "      <td>17</td>\n",
              "      <td>06</td>\n",
              "      <td>2021</td>\n",
              "    </tr>\n",
              "    <tr>\n",
              "      <th>2</th>\n",
              "      <td>19</td>\n",
              "      <td>06</td>\n",
              "      <td>2021</td>\n",
              "    </tr>\n",
              "    <tr>\n",
              "      <th>3</th>\n",
              "      <td>01</td>\n",
              "      <td>07</td>\n",
              "      <td>2021</td>\n",
              "    </tr>\n",
              "    <tr>\n",
              "      <th>4</th>\n",
              "      <td>30</td>\n",
              "      <td>06</td>\n",
              "      <td>2021</td>\n",
              "    </tr>\n",
              "    <tr>\n",
              "      <th>...</th>\n",
              "      <td>...</td>\n",
              "      <td>...</td>\n",
              "      <td>...</td>\n",
              "    </tr>\n",
              "    <tr>\n",
              "      <th>618</th>\n",
              "      <td>22</td>\n",
              "      <td>03</td>\n",
              "      <td>2020</td>\n",
              "    </tr>\n",
              "    <tr>\n",
              "      <th>619</th>\n",
              "      <td>12</td>\n",
              "      <td>03</td>\n",
              "      <td>2020</td>\n",
              "    </tr>\n",
              "    <tr>\n",
              "      <th>620</th>\n",
              "      <td>11</td>\n",
              "      <td>03</td>\n",
              "      <td>2020</td>\n",
              "    </tr>\n",
              "    <tr>\n",
              "      <th>621</th>\n",
              "      <td>13</td>\n",
              "      <td>03</td>\n",
              "      <td>2020</td>\n",
              "    </tr>\n",
              "    <tr>\n",
              "      <th>622</th>\n",
              "      <td>06</td>\n",
              "      <td>03</td>\n",
              "      <td>2020</td>\n",
              "    </tr>\n",
              "  </tbody>\n",
              "</table>\n",
              "<p>623 rows × 3 columns</p>\n",
              "</div>"
            ],
            "text/plain": [
              "    Dia Mes    Año\n",
              "0    24  06  2021 \n",
              "1    17  06  2021 \n",
              "2    19  06  2021 \n",
              "3    01  07  2021 \n",
              "4    30  06  2021 \n",
              "..   ..  ..    ...\n",
              "618  22  03  2020 \n",
              "619  12  03  2020 \n",
              "620  11  03  2020 \n",
              "621  13  03  2020 \n",
              "622  06  03  2020 \n",
              "\n",
              "[623 rows x 3 columns]"
            ]
          },
          "metadata": {},
          "execution_count": 424
        }
      ]
    },
    {
      "cell_type": "code",
      "metadata": {
        "colab": {
          "base_uri": "https://localhost:8080/",
          "height": 423
        },
        "id": "xsQn-BjncbWf",
        "outputId": "0ec0daeb-532d-4d25-fc40-5404e248cd4a"
      },
      "source": [
        "Fecha_1['Fecha final'] = Fecha_1['Mes'] + \"/\" + Fecha_1['Dia'] + '/' + Fecha_1['Año'] ; Fecha_1"
      ],
      "execution_count": 425,
      "outputs": [
        {
          "output_type": "execute_result",
          "data": {
            "text/html": [
              "<div>\n",
              "<style scoped>\n",
              "    .dataframe tbody tr th:only-of-type {\n",
              "        vertical-align: middle;\n",
              "    }\n",
              "\n",
              "    .dataframe tbody tr th {\n",
              "        vertical-align: top;\n",
              "    }\n",
              "\n",
              "    .dataframe thead th {\n",
              "        text-align: right;\n",
              "    }\n",
              "</style>\n",
              "<table border=\"1\" class=\"dataframe\">\n",
              "  <thead>\n",
              "    <tr style=\"text-align: right;\">\n",
              "      <th></th>\n",
              "      <th>Dia</th>\n",
              "      <th>Mes</th>\n",
              "      <th>Año</th>\n",
              "      <th>Fecha final</th>\n",
              "    </tr>\n",
              "  </thead>\n",
              "  <tbody>\n",
              "    <tr>\n",
              "      <th>0</th>\n",
              "      <td>24</td>\n",
              "      <td>06</td>\n",
              "      <td>2021</td>\n",
              "      <td>06/24/2021</td>\n",
              "    </tr>\n",
              "    <tr>\n",
              "      <th>1</th>\n",
              "      <td>17</td>\n",
              "      <td>06</td>\n",
              "      <td>2021</td>\n",
              "      <td>06/17/2021</td>\n",
              "    </tr>\n",
              "    <tr>\n",
              "      <th>2</th>\n",
              "      <td>19</td>\n",
              "      <td>06</td>\n",
              "      <td>2021</td>\n",
              "      <td>06/19/2021</td>\n",
              "    </tr>\n",
              "    <tr>\n",
              "      <th>3</th>\n",
              "      <td>01</td>\n",
              "      <td>07</td>\n",
              "      <td>2021</td>\n",
              "      <td>07/01/2021</td>\n",
              "    </tr>\n",
              "    <tr>\n",
              "      <th>4</th>\n",
              "      <td>30</td>\n",
              "      <td>06</td>\n",
              "      <td>2021</td>\n",
              "      <td>06/30/2021</td>\n",
              "    </tr>\n",
              "    <tr>\n",
              "      <th>...</th>\n",
              "      <td>...</td>\n",
              "      <td>...</td>\n",
              "      <td>...</td>\n",
              "      <td>...</td>\n",
              "    </tr>\n",
              "    <tr>\n",
              "      <th>618</th>\n",
              "      <td>22</td>\n",
              "      <td>03</td>\n",
              "      <td>2020</td>\n",
              "      <td>03/22/2020</td>\n",
              "    </tr>\n",
              "    <tr>\n",
              "      <th>619</th>\n",
              "      <td>12</td>\n",
              "      <td>03</td>\n",
              "      <td>2020</td>\n",
              "      <td>03/12/2020</td>\n",
              "    </tr>\n",
              "    <tr>\n",
              "      <th>620</th>\n",
              "      <td>11</td>\n",
              "      <td>03</td>\n",
              "      <td>2020</td>\n",
              "      <td>03/11/2020</td>\n",
              "    </tr>\n",
              "    <tr>\n",
              "      <th>621</th>\n",
              "      <td>13</td>\n",
              "      <td>03</td>\n",
              "      <td>2020</td>\n",
              "      <td>03/13/2020</td>\n",
              "    </tr>\n",
              "    <tr>\n",
              "      <th>622</th>\n",
              "      <td>06</td>\n",
              "      <td>03</td>\n",
              "      <td>2020</td>\n",
              "      <td>03/06/2020</td>\n",
              "    </tr>\n",
              "  </tbody>\n",
              "</table>\n",
              "<p>623 rows × 4 columns</p>\n",
              "</div>"
            ],
            "text/plain": [
              "    Dia Mes    Año  Fecha final\n",
              "0    24  06  2021   06/24/2021 \n",
              "1    17  06  2021   06/17/2021 \n",
              "2    19  06  2021   06/19/2021 \n",
              "3    01  07  2021   07/01/2021 \n",
              "4    30  06  2021   06/30/2021 \n",
              "..   ..  ..    ...          ...\n",
              "618  22  03  2020   03/22/2020 \n",
              "619  12  03  2020   03/12/2020 \n",
              "620  11  03  2020   03/11/2020 \n",
              "621  13  03  2020   03/13/2020 \n",
              "622  06  03  2020   03/06/2020 \n",
              "\n",
              "[623 rows x 4 columns]"
            ]
          },
          "metadata": {},
          "execution_count": 425
        }
      ]
    },
    {
      "cell_type": "code",
      "metadata": {
        "colab": {
          "base_uri": "https://localhost:8080/",
          "height": 423
        },
        "id": "BP0-2VmZmdSH",
        "outputId": "ac63cb58-e0dd-4cb7-dc5b-f499cccbca93"
      },
      "source": [
        "Serie_tiempo = pd.concat([Casos,Fecha_1['Fecha final']], axis=1) ; Serie_tiempo"
      ],
      "execution_count": 426,
      "outputs": [
        {
          "output_type": "execute_result",
          "data": {
            "text/html": [
              "<div>\n",
              "<style scoped>\n",
              "    .dataframe tbody tr th:only-of-type {\n",
              "        vertical-align: middle;\n",
              "    }\n",
              "\n",
              "    .dataframe tbody tr th {\n",
              "        vertical-align: top;\n",
              "    }\n",
              "\n",
              "    .dataframe thead th {\n",
              "        text-align: right;\n",
              "    }\n",
              "</style>\n",
              "<table border=\"1\" class=\"dataframe\">\n",
              "  <thead>\n",
              "    <tr style=\"text-align: right;\">\n",
              "      <th></th>\n",
              "      <th>Fecha</th>\n",
              "      <th>f</th>\n",
              "      <th>Fecha final</th>\n",
              "    </tr>\n",
              "  </thead>\n",
              "  <tbody>\n",
              "    <tr>\n",
              "      <th>0</th>\n",
              "      <td>24/6/2021</td>\n",
              "      <td>15569</td>\n",
              "      <td>06/24/2021</td>\n",
              "    </tr>\n",
              "    <tr>\n",
              "      <th>1</th>\n",
              "      <td>17/6/2021</td>\n",
              "      <td>12493</td>\n",
              "      <td>06/17/2021</td>\n",
              "    </tr>\n",
              "    <tr>\n",
              "      <th>2</th>\n",
              "      <td>19/6/2021</td>\n",
              "      <td>11729</td>\n",
              "      <td>06/19/2021</td>\n",
              "    </tr>\n",
              "    <tr>\n",
              "      <th>3</th>\n",
              "      <td>1/7/2021</td>\n",
              "      <td>11545</td>\n",
              "      <td>07/01/2021</td>\n",
              "    </tr>\n",
              "    <tr>\n",
              "      <th>4</th>\n",
              "      <td>30/6/2021</td>\n",
              "      <td>11493</td>\n",
              "      <td>06/30/2021</td>\n",
              "    </tr>\n",
              "    <tr>\n",
              "      <th>...</th>\n",
              "      <td>...</td>\n",
              "      <td>...</td>\n",
              "      <td>...</td>\n",
              "    </tr>\n",
              "    <tr>\n",
              "      <th>618</th>\n",
              "      <td>22/3/2020</td>\n",
              "      <td>4</td>\n",
              "      <td>03/22/2020</td>\n",
              "    </tr>\n",
              "    <tr>\n",
              "      <th>619</th>\n",
              "      <td>12/3/2020</td>\n",
              "      <td>2</td>\n",
              "      <td>03/12/2020</td>\n",
              "    </tr>\n",
              "    <tr>\n",
              "      <th>620</th>\n",
              "      <td>11/3/2020</td>\n",
              "      <td>2</td>\n",
              "      <td>03/11/2020</td>\n",
              "    </tr>\n",
              "    <tr>\n",
              "      <th>621</th>\n",
              "      <td>13/3/2020</td>\n",
              "      <td>1</td>\n",
              "      <td>03/13/2020</td>\n",
              "    </tr>\n",
              "    <tr>\n",
              "      <th>622</th>\n",
              "      <td>6/3/2020</td>\n",
              "      <td>1</td>\n",
              "      <td>03/06/2020</td>\n",
              "    </tr>\n",
              "  </tbody>\n",
              "</table>\n",
              "<p>623 rows × 3 columns</p>\n",
              "</div>"
            ],
            "text/plain": [
              "          Fecha      f  Fecha final\n",
              "0    24/6/2021   15569  06/24/2021 \n",
              "1    17/6/2021   12493  06/17/2021 \n",
              "2    19/6/2021   11729  06/19/2021 \n",
              "3     1/7/2021   11545  07/01/2021 \n",
              "4    30/6/2021   11493  06/30/2021 \n",
              "..          ...    ...          ...\n",
              "618  22/3/2020       4  03/22/2020 \n",
              "619  12/3/2020       2  03/12/2020 \n",
              "620  11/3/2020       2  03/11/2020 \n",
              "621  13/3/2020       1  03/13/2020 \n",
              "622   6/3/2020       1  03/06/2020 \n",
              "\n",
              "[623 rows x 3 columns]"
            ]
          },
          "metadata": {},
          "execution_count": 426
        }
      ]
    },
    {
      "cell_type": "code",
      "metadata": {
        "colab": {
          "base_uri": "https://localhost:8080/",
          "height": 423
        },
        "id": "qzJGfrBtoJG7",
        "outputId": "f280188a-7261-4ba3-eda3-6339544f0e0c"
      },
      "source": [
        "Serie_tiempo"
      ],
      "execution_count": 427,
      "outputs": [
        {
          "output_type": "execute_result",
          "data": {
            "text/html": [
              "<div>\n",
              "<style scoped>\n",
              "    .dataframe tbody tr th:only-of-type {\n",
              "        vertical-align: middle;\n",
              "    }\n",
              "\n",
              "    .dataframe tbody tr th {\n",
              "        vertical-align: top;\n",
              "    }\n",
              "\n",
              "    .dataframe thead th {\n",
              "        text-align: right;\n",
              "    }\n",
              "</style>\n",
              "<table border=\"1\" class=\"dataframe\">\n",
              "  <thead>\n",
              "    <tr style=\"text-align: right;\">\n",
              "      <th></th>\n",
              "      <th>Fecha</th>\n",
              "      <th>f</th>\n",
              "      <th>Fecha final</th>\n",
              "    </tr>\n",
              "  </thead>\n",
              "  <tbody>\n",
              "    <tr>\n",
              "      <th>0</th>\n",
              "      <td>24/6/2021</td>\n",
              "      <td>15569</td>\n",
              "      <td>06/24/2021</td>\n",
              "    </tr>\n",
              "    <tr>\n",
              "      <th>1</th>\n",
              "      <td>17/6/2021</td>\n",
              "      <td>12493</td>\n",
              "      <td>06/17/2021</td>\n",
              "    </tr>\n",
              "    <tr>\n",
              "      <th>2</th>\n",
              "      <td>19/6/2021</td>\n",
              "      <td>11729</td>\n",
              "      <td>06/19/2021</td>\n",
              "    </tr>\n",
              "    <tr>\n",
              "      <th>3</th>\n",
              "      <td>1/7/2021</td>\n",
              "      <td>11545</td>\n",
              "      <td>07/01/2021</td>\n",
              "    </tr>\n",
              "    <tr>\n",
              "      <th>4</th>\n",
              "      <td>30/6/2021</td>\n",
              "      <td>11493</td>\n",
              "      <td>06/30/2021</td>\n",
              "    </tr>\n",
              "    <tr>\n",
              "      <th>...</th>\n",
              "      <td>...</td>\n",
              "      <td>...</td>\n",
              "      <td>...</td>\n",
              "    </tr>\n",
              "    <tr>\n",
              "      <th>618</th>\n",
              "      <td>22/3/2020</td>\n",
              "      <td>4</td>\n",
              "      <td>03/22/2020</td>\n",
              "    </tr>\n",
              "    <tr>\n",
              "      <th>619</th>\n",
              "      <td>12/3/2020</td>\n",
              "      <td>2</td>\n",
              "      <td>03/12/2020</td>\n",
              "    </tr>\n",
              "    <tr>\n",
              "      <th>620</th>\n",
              "      <td>11/3/2020</td>\n",
              "      <td>2</td>\n",
              "      <td>03/11/2020</td>\n",
              "    </tr>\n",
              "    <tr>\n",
              "      <th>621</th>\n",
              "      <td>13/3/2020</td>\n",
              "      <td>1</td>\n",
              "      <td>03/13/2020</td>\n",
              "    </tr>\n",
              "    <tr>\n",
              "      <th>622</th>\n",
              "      <td>6/3/2020</td>\n",
              "      <td>1</td>\n",
              "      <td>03/06/2020</td>\n",
              "    </tr>\n",
              "  </tbody>\n",
              "</table>\n",
              "<p>623 rows × 3 columns</p>\n",
              "</div>"
            ],
            "text/plain": [
              "          Fecha      f  Fecha final\n",
              "0    24/6/2021   15569  06/24/2021 \n",
              "1    17/6/2021   12493  06/17/2021 \n",
              "2    19/6/2021   11729  06/19/2021 \n",
              "3     1/7/2021   11545  07/01/2021 \n",
              "4    30/6/2021   11493  06/30/2021 \n",
              "..          ...    ...          ...\n",
              "618  22/3/2020       4  03/22/2020 \n",
              "619  12/3/2020       2  03/12/2020 \n",
              "620  11/3/2020       2  03/11/2020 \n",
              "621  13/3/2020       1  03/13/2020 \n",
              "622   6/3/2020       1  03/06/2020 \n",
              "\n",
              "[623 rows x 3 columns]"
            ]
          },
          "metadata": {},
          "execution_count": 427
        }
      ]
    },
    {
      "cell_type": "code",
      "metadata": {
        "id": "F29C5o0bnjRI"
      },
      "source": [
        "Serie_tiempo['Fecha final'] = pd.to_datetime(Serie_tiempo['Fecha final']) ; Serie_tiempo\n",
        "Serie_tiempo = Serie_tiempo.drop(['Fecha'], axis = 1)\n",
        "Serie_tiempo = Serie_tiempo.sort_values(by = 'Fecha final')"
      ],
      "execution_count": 428,
      "outputs": []
    },
    {
      "cell_type": "code",
      "metadata": {
        "id": "hAvgkf7OoVqg"
      },
      "source": [
        "Serie_tiempo.columns = ['Casos', 'Fecha']"
      ],
      "execution_count": 429,
      "outputs": []
    },
    {
      "cell_type": "code",
      "metadata": {
        "id": "70yAg5FtwC7a"
      },
      "source": [
        "df = Serie_tiempo"
      ],
      "execution_count": 430,
      "outputs": []
    },
    {
      "cell_type": "code",
      "metadata": {
        "id": "dtOK5YHH-wm3"
      },
      "source": [
        "df['Fecha'] = pd.to_datetime(df['Fecha'])"
      ],
      "execution_count": 431,
      "outputs": []
    },
    {
      "cell_type": "code",
      "metadata": {
        "colab": {
          "base_uri": "https://localhost:8080/"
        },
        "id": "O3AoCf8A-8bd",
        "outputId": "2c951248-185e-4f1b-e69e-5cac9dfcb8a0"
      },
      "source": [
        "df.columns"
      ],
      "execution_count": 432,
      "outputs": [
        {
          "output_type": "execute_result",
          "data": {
            "text/plain": [
              "Index(['Casos', 'Fecha'], dtype='object')"
            ]
          },
          "metadata": {},
          "execution_count": 432
        }
      ]
    },
    {
      "cell_type": "code",
      "metadata": {
        "id": "utcdNDPDoWeq"
      },
      "source": [
        "Serie_tiempo.set_index('Fecha', inplace=True)"
      ],
      "execution_count": 433,
      "outputs": []
    },
    {
      "cell_type": "code",
      "metadata": {
        "colab": {
          "base_uri": "https://localhost:8080/",
          "height": 454
        },
        "id": "3SLVwB2y-b6O",
        "outputId": "ad01b171-3f13-446e-f379-68d3c1f67b6a"
      },
      "source": [
        "df"
      ],
      "execution_count": 434,
      "outputs": [
        {
          "output_type": "execute_result",
          "data": {
            "text/html": [
              "<div>\n",
              "<style scoped>\n",
              "    .dataframe tbody tr th:only-of-type {\n",
              "        vertical-align: middle;\n",
              "    }\n",
              "\n",
              "    .dataframe tbody tr th {\n",
              "        vertical-align: top;\n",
              "    }\n",
              "\n",
              "    .dataframe thead th {\n",
              "        text-align: right;\n",
              "    }\n",
              "</style>\n",
              "<table border=\"1\" class=\"dataframe\">\n",
              "  <thead>\n",
              "    <tr style=\"text-align: right;\">\n",
              "      <th></th>\n",
              "      <th>Casos</th>\n",
              "    </tr>\n",
              "    <tr>\n",
              "      <th>Fecha</th>\n",
              "      <th></th>\n",
              "    </tr>\n",
              "  </thead>\n",
              "  <tbody>\n",
              "    <tr>\n",
              "      <th>2020-03-06</th>\n",
              "      <td>1</td>\n",
              "    </tr>\n",
              "    <tr>\n",
              "      <th>2020-03-11</th>\n",
              "      <td>2</td>\n",
              "    </tr>\n",
              "    <tr>\n",
              "      <th>2020-03-12</th>\n",
              "      <td>2</td>\n",
              "    </tr>\n",
              "    <tr>\n",
              "      <th>2020-03-13</th>\n",
              "      <td>1</td>\n",
              "    </tr>\n",
              "    <tr>\n",
              "      <th>2020-03-14</th>\n",
              "      <td>10</td>\n",
              "    </tr>\n",
              "    <tr>\n",
              "      <th>...</th>\n",
              "      <td>...</td>\n",
              "    </tr>\n",
              "    <tr>\n",
              "      <th>2021-11-18</th>\n",
              "      <td>267</td>\n",
              "    </tr>\n",
              "    <tr>\n",
              "      <th>2021-11-19</th>\n",
              "      <td>355</td>\n",
              "    </tr>\n",
              "    <tr>\n",
              "      <th>2021-11-20</th>\n",
              "      <td>347</td>\n",
              "    </tr>\n",
              "    <tr>\n",
              "      <th>2021-11-21</th>\n",
              "      <td>331</td>\n",
              "    </tr>\n",
              "    <tr>\n",
              "      <th>2021-11-22</th>\n",
              "      <td>237</td>\n",
              "    </tr>\n",
              "  </tbody>\n",
              "</table>\n",
              "<p>623 rows × 1 columns</p>\n",
              "</div>"
            ],
            "text/plain": [
              "            Casos\n",
              "Fecha            \n",
              "2020-03-06      1\n",
              "2020-03-11      2\n",
              "2020-03-12      2\n",
              "2020-03-13      1\n",
              "2020-03-14     10\n",
              "...           ...\n",
              "2021-11-18    267\n",
              "2021-11-19    355\n",
              "2021-11-20    347\n",
              "2021-11-21    331\n",
              "2021-11-22    237\n",
              "\n",
              "[623 rows x 1 columns]"
            ]
          },
          "metadata": {},
          "execution_count": 434
        }
      ]
    },
    {
      "cell_type": "code",
      "metadata": {
        "colab": {
          "base_uri": "https://localhost:8080/",
          "height": 590
        },
        "id": "itqTtn6Yop4_",
        "outputId": "67ac3110-6b34-43ea-d471-cee6777e7d62"
      },
      "source": [
        "Serie_tiempo.plot(kind = 'line', figsize= (14,10))"
      ],
      "execution_count": 435,
      "outputs": [
        {
          "output_type": "execute_result",
          "data": {
            "text/plain": [
              "<matplotlib.axes._subplots.AxesSubplot at 0x7f32a59210d0>"
            ]
          },
          "metadata": {},
          "execution_count": 435
        },
        {
          "output_type": "display_data",
          "data": {
            "image/png": "[encoded data removed]",
            "text/plain": [
              "<Figure size 1008x720 with 1 Axes>"
            ]
          },
          "metadata": {
            "needs_background": "light"
          }
        }
      ]
    },
    {
      "cell_type": "code",
      "metadata": {
        "id": "J380RNNYxAqA"
      },
      "source": [
        "# df['Fecha'] = pd.to_datetime(df['Fecha'])"
      ],
      "execution_count": 436,
      "outputs": []
    },
    {
      "cell_type": "code",
      "metadata": {
        "colab": {
          "base_uri": "https://localhost:8080/"
        },
        "id": "7QiQw3NnxTJF",
        "outputId": "969ca003-4728-455f-f1be-64544d287531"
      },
      "source": [
        "print(df.index.min())\n",
        "print(df.index.max())"
      ],
      "execution_count": 437,
      "outputs": [
        {
          "output_type": "stream",
          "name": "stdout",
          "text": [
            "2020-03-06 00:00:00\n",
            "2021-11-22 00:00:00\n"
          ]
        }
      ]
    },
    {
      "cell_type": "code",
      "metadata": {
        "colab": {
          "base_uri": "https://localhost:8080/",
          "height": 300
        },
        "id": "MHWHxD9WxhJ5",
        "outputId": "926916cf-2fca-47d6-9a81-4f04f7ab4821"
      },
      "source": [
        "df.describe()"
      ],
      "execution_count": 438,
      "outputs": [
        {
          "output_type": "execute_result",
          "data": {
            "text/html": [
              "<div>\n",
              "<style scoped>\n",
              "    .dataframe tbody tr th:only-of-type {\n",
              "        vertical-align: middle;\n",
              "    }\n",
              "\n",
              "    .dataframe tbody tr th {\n",
              "        vertical-align: top;\n",
              "    }\n",
              "\n",
              "    .dataframe thead th {\n",
              "        text-align: right;\n",
              "    }\n",
              "</style>\n",
              "<table border=\"1\" class=\"dataframe\">\n",
              "  <thead>\n",
              "    <tr style=\"text-align: right;\">\n",
              "      <th></th>\n",
              "      <th>Casos</th>\n",
              "    </tr>\n",
              "  </thead>\n",
              "  <tbody>\n",
              "    <tr>\n",
              "      <th>count</th>\n",
              "      <td>623.000000</td>\n",
              "    </tr>\n",
              "    <tr>\n",
              "      <th>mean</th>\n",
              "      <td>2344.412520</td>\n",
              "    </tr>\n",
              "    <tr>\n",
              "      <th>std</th>\n",
              "      <td>2584.141024</td>\n",
              "    </tr>\n",
              "    <tr>\n",
              "      <th>min</th>\n",
              "      <td>1.000000</td>\n",
              "    </tr>\n",
              "    <tr>\n",
              "      <th>25%</th>\n",
              "      <td>364.500000</td>\n",
              "    </tr>\n",
              "    <tr>\n",
              "      <th>50%</th>\n",
              "      <td>1543.000000</td>\n",
              "    </tr>\n",
              "    <tr>\n",
              "      <th>75%</th>\n",
              "      <td>3318.000000</td>\n",
              "    </tr>\n",
              "    <tr>\n",
              "      <th>max</th>\n",
              "      <td>15569.000000</td>\n",
              "    </tr>\n",
              "  </tbody>\n",
              "</table>\n",
              "</div>"
            ],
            "text/plain": [
              "              Casos\n",
              "count    623.000000\n",
              "mean    2344.412520\n",
              "std     2584.141024\n",
              "min        1.000000\n",
              "25%      364.500000\n",
              "50%     1543.000000\n",
              "75%     3318.000000\n",
              "max    15569.000000"
            ]
          },
          "metadata": {},
          "execution_count": 438
        }
      ]
    },
    {
      "cell_type": "code",
      "metadata": {
        "colab": {
          "base_uri": "https://localhost:8080/",
          "height": 540
        },
        "id": "slvQIeKtxoej",
        "outputId": "384e5f4e-71c9-49a8-b39a-36a1a616a88c"
      },
      "source": [
        "df.plot()"
      ],
      "execution_count": 439,
      "outputs": [
        {
          "output_type": "execute_result",
          "data": {
            "text/plain": [
              "<matplotlib.axes._subplots.AxesSubplot at 0x7f32b91e1690>"
            ]
          },
          "metadata": {},
          "execution_count": 439
        },
        {
          "output_type": "display_data",
          "data": {
            "image/png": "[encoded data removed]",
            "text/plain": [
              "<Figure size 1152x648 with 1 Axes>"
            ]
          },
          "metadata": {
            "needs_background": "light"
          }
        }
      ]
    },
    {
      "cell_type": "markdown",
      "metadata": {
        "id": "4jRfjaAx_pmZ"
      },
      "source": [
        "## Aprendizaje profundo"
      ]
    },
    {
      "cell_type": "code",
      "metadata": {
        "colab": {
          "base_uri": "https://localhost:8080/",
          "height": 206
        },
        "id": "3Z3WxXmszhbI",
        "outputId": "94621c3f-7cee-4066-c0d4-4f193f6d9d2f"
      },
      "source": [
        "PASOS = 9\n",
        "def series_to_supervised(data, n_in=1, n_out=1, dropnan=True):\n",
        "    n_vars = 1 if type(data) is list else data.shape[1]\n",
        "    df = pd.DataFrame(data)\n",
        "    cols, names = list(), list()\n",
        "    for i in range(n_in, 0, -1):\n",
        "        cols.append(df.shift(i))\n",
        "        names += [('var%d(t-%d)' % (j+1, i)) for j in range(n_vars)]\n",
        "    for i in range(0, n_out):\n",
        "        cols.append(df.shift(-i))\n",
        "        if i == 0:\n",
        "            names += [('var%d(t)' % (j+1)) for j in range(n_vars)]\n",
        "        else:\n",
        "            names += [('var%d(t+%d)' % (j+1, i)) for j in range(n_vars)]\n",
        "    agg = pd.concat(cols, axis=1)\n",
        "    agg.columns = names\n",
        "    if dropnan:\n",
        "        agg.dropna(inplace=True)\n",
        "    return agg\n",
        " \n",
        "values = df.values\n",
        "values = values.astype('float32')\n",
        "scaler = MinMaxScaler(feature_range=(-1, 1))\n",
        "values=values.reshape(-1, 1) \n",
        "scaled = scaler.fit_transform(values)\n",
        "reframed = series_to_supervised(scaled, PASOS, 1)\n",
        "reframed.head()"
      ],
      "execution_count": 440,
      "outputs": [
        {
          "output_type": "execute_result",
          "data": {
            "text/html": [
              "<div>\n",
              "<style scoped>\n",
              "    .dataframe tbody tr th:only-of-type {\n",
              "        vertical-align: middle;\n",
              "    }\n",
              "\n",
              "    .dataframe tbody tr th {\n",
              "        vertical-align: top;\n",
              "    }\n",
              "\n",
              "    .dataframe thead th {\n",
              "        text-align: right;\n",
              "    }\n",
              "</style>\n",
              "<table border=\"1\" class=\"dataframe\">\n",
              "  <thead>\n",
              "    <tr style=\"text-align: right;\">\n",
              "      <th></th>\n",
              "      <th>var1(t-9)</th>\n",
              "      <th>var1(t-8)</th>\n",
              "      <th>var1(t-7)</th>\n",
              "      <th>var1(t-6)</th>\n",
              "      <th>var1(t-5)</th>\n",
              "      <th>var1(t-4)</th>\n",
              "      <th>var1(t-3)</th>\n",
              "      <th>var1(t-2)</th>\n",
              "      <th>var1(t-1)</th>\n",
              "      <th>var1(t)</th>\n",
              "    </tr>\n",
              "  </thead>\n",
              "  <tbody>\n",
              "    <tr>\n",
              "      <th>9</th>\n",
              "      <td>-1.000000</td>\n",
              "      <td>-0.999872</td>\n",
              "      <td>-0.999872</td>\n",
              "      <td>-1.000000</td>\n",
              "      <td>-0.998844</td>\n",
              "      <td>-0.998844</td>\n",
              "      <td>-0.999358</td>\n",
              "      <td>-0.999229</td>\n",
              "      <td>-0.999486</td>\n",
              "      <td>-0.999101</td>\n",
              "    </tr>\n",
              "    <tr>\n",
              "      <th>10</th>\n",
              "      <td>-0.999872</td>\n",
              "      <td>-0.999872</td>\n",
              "      <td>-1.000000</td>\n",
              "      <td>-0.998844</td>\n",
              "      <td>-0.998844</td>\n",
              "      <td>-0.999358</td>\n",
              "      <td>-0.999229</td>\n",
              "      <td>-0.999486</td>\n",
              "      <td>-0.999101</td>\n",
              "      <td>-0.996660</td>\n",
              "    </tr>\n",
              "    <tr>\n",
              "      <th>11</th>\n",
              "      <td>-0.999872</td>\n",
              "      <td>-1.000000</td>\n",
              "      <td>-0.998844</td>\n",
              "      <td>-0.998844</td>\n",
              "      <td>-0.999358</td>\n",
              "      <td>-0.999229</td>\n",
              "      <td>-0.999486</td>\n",
              "      <td>-0.999101</td>\n",
              "      <td>-0.996660</td>\n",
              "      <td>-0.999486</td>\n",
              "    </tr>\n",
              "    <tr>\n",
              "      <th>12</th>\n",
              "      <td>-1.000000</td>\n",
              "      <td>-0.998844</td>\n",
              "      <td>-0.998844</td>\n",
              "      <td>-0.999358</td>\n",
              "      <td>-0.999229</td>\n",
              "      <td>-0.999486</td>\n",
              "      <td>-0.999101</td>\n",
              "      <td>-0.996660</td>\n",
              "      <td>-0.999486</td>\n",
              "      <td>-0.999615</td>\n",
              "    </tr>\n",
              "    <tr>\n",
              "      <th>13</th>\n",
              "      <td>-0.998844</td>\n",
              "      <td>-0.998844</td>\n",
              "      <td>-0.999358</td>\n",
              "      <td>-0.999229</td>\n",
              "      <td>-0.999486</td>\n",
              "      <td>-0.999101</td>\n",
              "      <td>-0.996660</td>\n",
              "      <td>-0.999486</td>\n",
              "      <td>-0.999615</td>\n",
              "      <td>-0.996403</td>\n",
              "    </tr>\n",
              "  </tbody>\n",
              "</table>\n",
              "</div>"
            ],
            "text/plain": [
              "    var1(t-9)  var1(t-8)  var1(t-7)  ...  var1(t-2)  var1(t-1)   var1(t)\n",
              "9   -1.000000  -0.999872  -0.999872  ...  -0.999229  -0.999486 -0.999101\n",
              "10  -0.999872  -0.999872  -1.000000  ...  -0.999486  -0.999101 -0.996660\n",
              "11  -0.999872  -1.000000  -0.998844  ...  -0.999101  -0.996660 -0.999486\n",
              "12  -1.000000  -0.998844  -0.998844  ...  -0.996660  -0.999486 -0.999615\n",
              "13  -0.998844  -0.998844  -0.999358  ...  -0.999486  -0.999615 -0.996403\n",
              "\n",
              "[5 rows x 10 columns]"
            ]
          },
          "metadata": {},
          "execution_count": 440
        }
      ]
    },
    {
      "cell_type": "code",
      "metadata": {
        "colab": {
          "base_uri": "https://localhost:8080/"
        },
        "id": "_cs93p5Xz9Yr",
        "outputId": "2ad79ae8-8e21-4ea7-d28b-6d128b5c17d5"
      },
      "source": [
        "values = reframed.values\n",
        "n_train_days = 105 - (30 + PASOS)\n",
        "train = values[:n_train_days, :]\n",
        "test = values[n_train_days:, :]\n",
        "x_train, y_train = train[:, :-1], train[:, -1]\n",
        "x_val, y_val = test[:, :-1], test[:, -1]\n",
        "x_train = x_train.reshape((x_train.shape[0], 1, x_train.shape[1]))\n",
        "x_val = x_val.reshape((x_val.shape[0], 1, x_val.shape[1]))\n",
        "print(x_train.shape, y_train.shape, x_val.shape, y_val.shape)"
      ],
      "execution_count": 441,
      "outputs": [
        {
          "output_type": "stream",
          "name": "stdout",
          "text": [
            "(66, 1, 9) (66,) (548, 1, 9) (548,)\n"
          ]
        }
      ]
    },
    {
      "cell_type": "code",
      "metadata": {
        "id": "HE5TAlps0BRd"
      },
      "source": [
        "def crear_modeloFF():\n",
        "    model = Sequential() \n",
        "    model.add(Dense(PASOS, input_shape=(1,PASOS),activation='tanh'))\n",
        "    model.add(Flatten())\n",
        "    model.add(Dense(1, activation='tanh'))\n",
        "    model.compile(loss='mean_absolute_error',optimizer='Adam',metrics=[\"mse\"])\n",
        "    model.summary()\n",
        "    return model"
      ],
      "execution_count": 442,
      "outputs": []
    },
    {
      "cell_type": "code",
      "metadata": {
        "colab": {
          "base_uri": "https://localhost:8080/"
        },
        "id": "IFyNw7wb0bJH",
        "outputId": "3424dac5-eb79-4c57-bca2-8906a3e7ffe7"
      },
      "source": [
        "EPOCHS = 100\n",
        "\n",
        "model = crear_modeloFF()\n",
        "\n",
        "history=model.fit(x_train,y_train,epochs=EPOCHS,validation_data=(x_val,y_val),batch_size=PASOS)"
      ],
      "execution_count": 443,
      "outputs": [
        {
          "output_type": "stream",
          "name": "stdout",
          "text": [
            "Model: \"sequential_5\"\n",
            "_________________________________________________________________\n",
            " Layer (type)                Output Shape              Param #   \n",
            "=================================================================\n",
            " dense_10 (Dense)            (None, 1, 9)              90        \n",
            "                                                                 \n",
            " flatten_5 (Flatten)         (None, 9)                 0         \n",
            "                                                                 \n",
            " dense_11 (Dense)            (None, 1)                 10        \n",
            "                                                                 \n",
            "=================================================================\n",
            "Total params: 100\n",
            "Trainable params: 100\n",
            "Non-trainable params: 0\n",
            "_________________________________________________________________\n",
            "Epoch 1/100\n",
            "8/8 [==============================] - 1s 43ms/step - loss: 0.7927 - mse: 0.6309 - val_loss: 0.4312 - val_mse: 0.2223\n",
            "Epoch 2/100\n",
            "8/8 [==============================] - 0s 14ms/step - loss: 0.6124 - mse: 0.3773 - val_loss: 0.3058 - val_mse: 0.1163\n",
            "Epoch 3/100\n",
            "8/8 [==============================] - 0s 25ms/step - loss: 0.4585 - mse: 0.2118 - val_loss: 0.2171 - val_mse: 0.0616\n",
            "Epoch 4/100\n",
            "8/8 [==============================] - 0s 14ms/step - loss: 0.3379 - mse: 0.1149 - val_loss: 0.1655 - val_mse: 0.0395\n",
            "Epoch 5/100\n",
            "8/8 [==============================] - 0s 13ms/step - loss: 0.2491 - mse: 0.0625 - val_loss: 0.1462 - val_mse: 0.0345\n",
            "Epoch 6/100\n",
            "8/8 [==============================] - 0s 13ms/step - loss: 0.1863 - mse: 0.0350 - val_loss: 0.1440 - val_mse: 0.0370\n",
            "Epoch 7/100\n",
            "8/8 [==============================] - 0s 25ms/step - loss: 0.1423 - mse: 0.0205 - val_loss: 0.1503 - val_mse: 0.0421\n",
            "Epoch 8/100\n",
            "8/8 [==============================] - 0s 14ms/step - loss: 0.1114 - mse: 0.0126 - val_loss: 0.1586 - val_mse: 0.0478\n",
            "Epoch 9/100\n",
            "8/8 [==============================] - 0s 25ms/step - loss: 0.0892 - mse: 0.0081 - val_loss: 0.1672 - val_mse: 0.0531\n",
            "Epoch 10/100\n",
            "8/8 [==============================] - 0s 14ms/step - loss: 0.0728 - mse: 0.0054 - val_loss: 0.1750 - val_mse: 0.0579\n",
            "Epoch 11/100\n",
            "8/8 [==============================] - 0s 15ms/step - loss: 0.0604 - mse: 0.0038 - val_loss: 0.1818 - val_mse: 0.0621\n",
            "Epoch 12/100\n",
            "8/8 [==============================] - 0s 13ms/step - loss: 0.0508 - mse: 0.0027 - val_loss: 0.1877 - val_mse: 0.0658\n",
            "Epoch 13/100\n",
            "8/8 [==============================] - 0s 14ms/step - loss: 0.0432 - mse: 0.0020 - val_loss: 0.1929 - val_mse: 0.0691\n",
            "Epoch 14/100\n",
            "8/8 [==============================] - 0s 13ms/step - loss: 0.0370 - mse: 0.0015 - val_loss: 0.1975 - val_mse: 0.0721\n",
            "Epoch 15/100\n",
            "8/8 [==============================] - 0s 14ms/step - loss: 0.0320 - mse: 0.0011 - val_loss: 0.2016 - val_mse: 0.0747\n",
            "Epoch 16/100\n",
            "8/8 [==============================] - 0s 24ms/step - loss: 0.0279 - mse: 8.7135e-04 - val_loss: 0.2053 - val_mse: 0.0770\n",
            "Epoch 17/100\n",
            "8/8 [==============================] - 0s 14ms/step - loss: 0.0245 - mse: 6.9280e-04 - val_loss: 0.2086 - val_mse: 0.0791\n",
            "Epoch 18/100\n",
            "8/8 [==============================] - 0s 25ms/step - loss: 0.0216 - mse: 5.4781e-04 - val_loss: 0.2116 - val_mse: 0.0810\n",
            "Epoch 19/100\n",
            "8/8 [==============================] - 0s 26ms/step - loss: 0.0192 - mse: 4.4831e-04 - val_loss: 0.2141 - val_mse: 0.0826\n",
            "Epoch 20/100\n",
            "8/8 [==============================] - 0s 25ms/step - loss: 0.0175 - mse: 3.7356e-04 - val_loss: 0.2163 - val_mse: 0.0840\n",
            "Epoch 21/100\n",
            "8/8 [==============================] - 0s 14ms/step - loss: 0.0160 - mse: 3.1783e-04 - val_loss: 0.2184 - val_mse: 0.0854\n",
            "Epoch 22/100\n",
            "8/8 [==============================] - 0s 25ms/step - loss: 0.0148 - mse: 2.7305e-04 - val_loss: 0.2201 - val_mse: 0.0865\n",
            "Epoch 23/100\n",
            "8/8 [==============================] - 0s 13ms/step - loss: 0.0139 - mse: 2.4063e-04 - val_loss: 0.2217 - val_mse: 0.0875\n",
            "Epoch 24/100\n",
            "8/8 [==============================] - 0s 14ms/step - loss: 0.0132 - mse: 2.1603e-04 - val_loss: 0.2231 - val_mse: 0.0884\n",
            "Epoch 25/100\n",
            "8/8 [==============================] - 0s 14ms/step - loss: 0.0126 - mse: 1.9617e-04 - val_loss: 0.2243 - val_mse: 0.0892\n",
            "Epoch 26/100\n",
            "8/8 [==============================] - 0s 14ms/step - loss: 0.0121 - mse: 1.8092e-04 - val_loss: 0.2255 - val_mse: 0.0899\n",
            "Epoch 27/100\n",
            "8/8 [==============================] - 0s 17ms/step - loss: 0.0117 - mse: 1.6813e-04 - val_loss: 0.2264 - val_mse: 0.0905\n",
            "Epoch 28/100\n",
            "8/8 [==============================] - 0s 25ms/step - loss: 0.0113 - mse: 1.5776e-04 - val_loss: 0.2274 - val_mse: 0.0911\n",
            "Epoch 29/100\n",
            "8/8 [==============================] - 0s 14ms/step - loss: 0.0109 - mse: 1.4923e-04 - val_loss: 0.2284 - val_mse: 0.0917\n",
            "Epoch 30/100\n",
            "8/8 [==============================] - 0s 14ms/step - loss: 0.0106 - mse: 1.4131e-04 - val_loss: 0.2293 - val_mse: 0.0923\n",
            "Epoch 31/100\n",
            "8/8 [==============================] - 0s 15ms/step - loss: 0.0103 - mse: 1.3488e-04 - val_loss: 0.2302 - val_mse: 0.0929\n",
            "Epoch 32/100\n",
            "8/8 [==============================] - 0s 14ms/step - loss: 0.0100 - mse: 1.2868e-04 - val_loss: 0.2310 - val_mse: 0.0934\n",
            "Epoch 33/100\n",
            "8/8 [==============================] - 0s 13ms/step - loss: 0.0097 - mse: 1.2409e-04 - val_loss: 0.2319 - val_mse: 0.0939\n",
            "Epoch 34/100\n",
            "8/8 [==============================] - 0s 25ms/step - loss: 0.0094 - mse: 1.2045e-04 - val_loss: 0.2327 - val_mse: 0.0945\n",
            "Epoch 35/100\n",
            "8/8 [==============================] - 0s 13ms/step - loss: 0.0092 - mse: 1.1633e-04 - val_loss: 0.2335 - val_mse: 0.0950\n",
            "Epoch 36/100\n",
            "8/8 [==============================] - 0s 14ms/step - loss: 0.0090 - mse: 1.1376e-04 - val_loss: 0.2342 - val_mse: 0.0954\n",
            "Epoch 37/100\n",
            "8/8 [==============================] - 0s 14ms/step - loss: 0.0088 - mse: 1.1141e-04 - val_loss: 0.2348 - val_mse: 0.0958\n",
            "Epoch 38/100\n",
            "8/8 [==============================] - 0s 25ms/step - loss: 0.0087 - mse: 1.1002e-04 - val_loss: 0.2353 - val_mse: 0.0961\n",
            "Epoch 39/100\n",
            "8/8 [==============================] - 0s 14ms/step - loss: 0.0086 - mse: 1.0861e-04 - val_loss: 0.2358 - val_mse: 0.0964\n",
            "Epoch 40/100\n",
            "8/8 [==============================] - 0s 13ms/step - loss: 0.0085 - mse: 1.0794e-04 - val_loss: 0.2362 - val_mse: 0.0967\n",
            "Epoch 41/100\n",
            "8/8 [==============================] - 0s 12ms/step - loss: 0.0085 - mse: 1.0763e-04 - val_loss: 0.2366 - val_mse: 0.0970\n",
            "Epoch 42/100\n",
            "8/8 [==============================] - 0s 14ms/step - loss: 0.0084 - mse: 1.0681e-04 - val_loss: 0.2369 - val_mse: 0.0971\n",
            "Epoch 43/100\n",
            "8/8 [==============================] - 0s 14ms/step - loss: 0.0084 - mse: 1.0672e-04 - val_loss: 0.2372 - val_mse: 0.0974\n",
            "Epoch 44/100\n",
            "8/8 [==============================] - 0s 25ms/step - loss: 0.0083 - mse: 1.0618e-04 - val_loss: 0.2375 - val_mse: 0.0975\n",
            "Epoch 45/100\n",
            "8/8 [==============================] - 0s 25ms/step - loss: 0.0083 - mse: 1.0616e-04 - val_loss: 0.2377 - val_mse: 0.0977\n",
            "Epoch 46/100\n",
            "8/8 [==============================] - 0s 26ms/step - loss: 0.0083 - mse: 1.0572e-04 - val_loss: 0.2379 - val_mse: 0.0978\n",
            "Epoch 47/100\n",
            "8/8 [==============================] - 0s 14ms/step - loss: 0.0083 - mse: 1.0574e-04 - val_loss: 0.2382 - val_mse: 0.0980\n",
            "Epoch 48/100\n",
            "8/8 [==============================] - 0s 25ms/step - loss: 0.0082 - mse: 1.0558e-04 - val_loss: 0.2385 - val_mse: 0.0982\n",
            "Epoch 49/100\n",
            "8/8 [==============================] - 0s 14ms/step - loss: 0.0082 - mse: 1.0563e-04 - val_loss: 0.2388 - val_mse: 0.0983\n",
            "Epoch 50/100\n",
            "8/8 [==============================] - 0s 14ms/step - loss: 0.0082 - mse: 1.0557e-04 - val_loss: 0.2390 - val_mse: 0.0985\n",
            "Epoch 51/100\n",
            "8/8 [==============================] - 0s 13ms/step - loss: 0.0081 - mse: 1.0565e-04 - val_loss: 0.2392 - val_mse: 0.0986\n",
            "Epoch 52/100\n",
            "8/8 [==============================] - 0s 13ms/step - loss: 0.0081 - mse: 1.0560e-04 - val_loss: 0.2394 - val_mse: 0.0988\n",
            "Epoch 53/100\n",
            "8/8 [==============================] - 0s 15ms/step - loss: 0.0081 - mse: 1.0572e-04 - val_loss: 0.2396 - val_mse: 0.0989\n",
            "Epoch 54/100\n",
            "8/8 [==============================] - 0s 14ms/step - loss: 0.0081 - mse: 1.0577e-04 - val_loss: 0.2398 - val_mse: 0.0990\n",
            "Epoch 55/100\n",
            "8/8 [==============================] - 0s 13ms/step - loss: 0.0081 - mse: 1.0592e-04 - val_loss: 0.2400 - val_mse: 0.0992\n",
            "Epoch 56/100\n",
            "8/8 [==============================] - 0s 25ms/step - loss: 0.0081 - mse: 1.0617e-04 - val_loss: 0.2402 - val_mse: 0.0993\n",
            "Epoch 57/100\n",
            "8/8 [==============================] - 0s 14ms/step - loss: 0.0080 - mse: 1.0626e-04 - val_loss: 0.2404 - val_mse: 0.0994\n",
            "Epoch 58/100\n",
            "8/8 [==============================] - 0s 26ms/step - loss: 0.0080 - mse: 1.0648e-04 - val_loss: 0.2407 - val_mse: 0.0996\n",
            "Epoch 59/100\n",
            "8/8 [==============================] - 0s 14ms/step - loss: 0.0080 - mse: 1.0679e-04 - val_loss: 0.2409 - val_mse: 0.0997\n",
            "Epoch 60/100\n",
            "8/8 [==============================] - 0s 15ms/step - loss: 0.0080 - mse: 1.0695e-04 - val_loss: 0.2410 - val_mse: 0.0998\n",
            "Epoch 61/100\n",
            "8/8 [==============================] - 0s 13ms/step - loss: 0.0080 - mse: 1.0729e-04 - val_loss: 0.2412 - val_mse: 0.0999\n",
            "Epoch 62/100\n",
            "8/8 [==============================] - 0s 14ms/step - loss: 0.0080 - mse: 1.0745e-04 - val_loss: 0.2414 - val_mse: 0.1001\n",
            "Epoch 63/100\n",
            "8/8 [==============================] - 0s 14ms/step - loss: 0.0080 - mse: 1.0770e-04 - val_loss: 0.2416 - val_mse: 0.1002\n",
            "Epoch 64/100\n",
            "8/8 [==============================] - 0s 15ms/step - loss: 0.0079 - mse: 1.0809e-04 - val_loss: 0.2418 - val_mse: 0.1004\n",
            "Epoch 65/100\n",
            "8/8 [==============================] - 0s 14ms/step - loss: 0.0079 - mse: 1.0838e-04 - val_loss: 0.2420 - val_mse: 0.1005\n",
            "Epoch 66/100\n",
            "8/8 [==============================] - 0s 14ms/step - loss: 0.0079 - mse: 1.0863e-04 - val_loss: 0.2422 - val_mse: 0.1006\n",
            "Epoch 67/100\n",
            "8/8 [==============================] - 0s 14ms/step - loss: 0.0079 - mse: 1.0896e-04 - val_loss: 0.2423 - val_mse: 0.1007\n",
            "Epoch 68/100\n",
            "8/8 [==============================] - 0s 15ms/step - loss: 0.0079 - mse: 1.0925e-04 - val_loss: 0.2425 - val_mse: 0.1008\n",
            "Epoch 69/100\n",
            "8/8 [==============================] - 0s 13ms/step - loss: 0.0079 - mse: 1.0955e-04 - val_loss: 0.2426 - val_mse: 0.1009\n",
            "Epoch 70/100\n",
            "8/8 [==============================] - 0s 26ms/step - loss: 0.0079 - mse: 1.0984e-04 - val_loss: 0.2427 - val_mse: 0.1010\n",
            "Epoch 71/100\n",
            "8/8 [==============================] - 0s 14ms/step - loss: 0.0079 - mse: 1.1007e-04 - val_loss: 0.2428 - val_mse: 0.1011\n",
            "Epoch 72/100\n",
            "8/8 [==============================] - 0s 14ms/step - loss: 0.0079 - mse: 1.1049e-04 - val_loss: 0.2430 - val_mse: 0.1011\n",
            "Epoch 73/100\n",
            "8/8 [==============================] - 0s 14ms/step - loss: 0.0079 - mse: 1.1060e-04 - val_loss: 0.2430 - val_mse: 0.1012\n",
            "Epoch 74/100\n",
            "8/8 [==============================] - 0s 13ms/step - loss: 0.0079 - mse: 1.1075e-04 - val_loss: 0.2431 - val_mse: 0.1012\n",
            "Epoch 75/100\n",
            "8/8 [==============================] - 0s 15ms/step - loss: 0.0079 - mse: 1.1097e-04 - val_loss: 0.2432 - val_mse: 0.1013\n",
            "Epoch 76/100\n",
            "8/8 [==============================] - 0s 16ms/step - loss: 0.0079 - mse: 1.1105e-04 - val_loss: 0.2432 - val_mse: 0.1013\n",
            "Epoch 77/100\n",
            "8/8 [==============================] - 0s 14ms/step - loss: 0.0079 - mse: 1.1108e-04 - val_loss: 0.2432 - val_mse: 0.1013\n",
            "Epoch 78/100\n",
            "8/8 [==============================] - 0s 25ms/step - loss: 0.0079 - mse: 1.1115e-04 - val_loss: 0.2433 - val_mse: 0.1013\n",
            "Epoch 79/100\n",
            "8/8 [==============================] - 0s 13ms/step - loss: 0.0079 - mse: 1.1128e-04 - val_loss: 0.2433 - val_mse: 0.1014\n",
            "Epoch 80/100\n",
            "8/8 [==============================] - 0s 15ms/step - loss: 0.0079 - mse: 1.1133e-04 - val_loss: 0.2433 - val_mse: 0.1014\n",
            "Epoch 81/100\n",
            "8/8 [==============================] - 0s 14ms/step - loss: 0.0079 - mse: 1.1148e-04 - val_loss: 0.2434 - val_mse: 0.1014\n",
            "Epoch 82/100\n",
            "8/8 [==============================] - 0s 25ms/step - loss: 0.0079 - mse: 1.1157e-04 - val_loss: 0.2434 - val_mse: 0.1014\n",
            "Epoch 83/100\n",
            "8/8 [==============================] - 0s 13ms/step - loss: 0.0079 - mse: 1.1158e-04 - val_loss: 0.2434 - val_mse: 0.1014\n",
            "Epoch 84/100\n",
            "8/8 [==============================] - 0s 25ms/step - loss: 0.0079 - mse: 1.1156e-04 - val_loss: 0.2434 - val_mse: 0.1014\n",
            "Epoch 85/100\n",
            "8/8 [==============================] - 0s 26ms/step - loss: 0.0079 - mse: 1.1164e-04 - val_loss: 0.2435 - val_mse: 0.1015\n",
            "Epoch 86/100\n",
            "8/8 [==============================] - 0s 14ms/step - loss: 0.0079 - mse: 1.1179e-04 - val_loss: 0.2435 - val_mse: 0.1015\n",
            "Epoch 87/100\n",
            "8/8 [==============================] - 0s 14ms/step - loss: 0.0079 - mse: 1.1170e-04 - val_loss: 0.2434 - val_mse: 0.1014\n",
            "Epoch 88/100\n",
            "8/8 [==============================] - 0s 25ms/step - loss: 0.0079 - mse: 1.1165e-04 - val_loss: 0.2434 - val_mse: 0.1014\n",
            "Epoch 89/100\n",
            "8/8 [==============================] - 0s 13ms/step - loss: 0.0079 - mse: 1.1152e-04 - val_loss: 0.2433 - val_mse: 0.1014\n",
            "Epoch 90/100\n",
            "8/8 [==============================] - 0s 25ms/step - loss: 0.0079 - mse: 1.1153e-04 - val_loss: 0.2434 - val_mse: 0.1014\n",
            "Epoch 91/100\n",
            "8/8 [==============================] - 0s 16ms/step - loss: 0.0079 - mse: 1.1161e-04 - val_loss: 0.2434 - val_mse: 0.1014\n",
            "Epoch 92/100\n",
            "8/8 [==============================] - 0s 25ms/step - loss: 0.0079 - mse: 1.1169e-04 - val_loss: 0.2434 - val_mse: 0.1014\n",
            "Epoch 93/100\n",
            "8/8 [==============================] - 0s 14ms/step - loss: 0.0079 - mse: 1.1167e-04 - val_loss: 0.2434 - val_mse: 0.1014\n",
            "Epoch 94/100\n",
            "8/8 [==============================] - 0s 15ms/step - loss: 0.0079 - mse: 1.1165e-04 - val_loss: 0.2434 - val_mse: 0.1014\n",
            "Epoch 95/100\n",
            "8/8 [==============================] - 0s 13ms/step - loss: 0.0079 - mse: 1.1164e-04 - val_loss: 0.2434 - val_mse: 0.1014\n",
            "Epoch 96/100\n",
            "8/8 [==============================] - 0s 13ms/step - loss: 0.0079 - mse: 1.1167e-04 - val_loss: 0.2434 - val_mse: 0.1014\n",
            "Epoch 97/100\n",
            "8/8 [==============================] - 0s 14ms/step - loss: 0.0079 - mse: 1.1153e-04 - val_loss: 0.2433 - val_mse: 0.1014\n",
            "Epoch 98/100\n",
            "8/8 [==============================] - 0s 13ms/step - loss: 0.0079 - mse: 1.1138e-04 - val_loss: 0.2432 - val_mse: 0.1013\n",
            "Epoch 99/100\n",
            "8/8 [==============================] - 0s 26ms/step - loss: 0.0079 - mse: 1.1132e-04 - val_loss: 0.2432 - val_mse: 0.1013\n",
            "Epoch 100/100\n",
            "8/8 [==============================] - 0s 13ms/step - loss: 0.0079 - mse: 1.1123e-04 - val_loss: 0.2432 - val_mse: 0.1013\n"
          ]
        }
      ]
    },
    {
      "cell_type": "code",
      "metadata": {
        "colab": {
          "base_uri": "https://localhost:8080/",
          "height": 571
        },
        "id": "8jvTWoKv0bo0",
        "outputId": "4da94ead-e1b2-42ff-aaa7-48e5eca3e472"
      },
      "source": [
        "results = model.predict(x_val)\n",
        "plt.plot(range(len(y_val)),y_val,c='g',label='real')\n",
        "plt.plot(range(len(results)),results,c='r',label='estimado')\n",
        "plt.title('validate')\n",
        "plt.legend(loc='best')"
      ],
      "execution_count": 444,
      "outputs": [
        {
          "output_type": "execute_result",
          "data": {
            "text/plain": [
              "<matplotlib.legend.Legend at 0x7f32a465a0d0>"
            ]
          },
          "metadata": {},
          "execution_count": 444
        },
        {
          "output_type": "display_data",
          "data": {
            "image/png": "[encoded data removed]",
            "text/plain": [
              "<Figure size 1152x648 with 1 Axes>"
            ]
          },
          "metadata": {
            "needs_background": "light"
          }
        }
      ]
    }
  ]
}